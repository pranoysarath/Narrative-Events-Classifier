{
 "cells": [
  {
   "cell_type": "code",
   "execution_count": null,
   "outputs": [],
   "source": [
    "from nltk import tokenize\n",
    "from sklearn.metrics import f1_score, precision_score, recall_score\n",
    "import pandas as pd\n",
    "path =\"/Users/pranoysarath/PycharmProjects/pythonProject1/AI_FInal_project/sequentiality_full_liwc.csv\"\n",
    "df = pd.read_csv(path)"
   ],
   "metadata": {
    "collapsed": false
   }
  },
  {
   "cell_type": "code",
   "execution_count": null,
   "outputs": [],
   "source": [
    "import spacy\n",
    "\n",
    "# Load the spaCy English language model\n",
    "nlp = spacy.load(\"en_core_web_sm\")\n",
    "\n",
    "def get_mood_proportion(sentence):\n",
    "    # Process the sentence with spaCy\n",
    "    doc = nlp(sentence)\n",
    "\n",
    "    # Counters for realis and irrealis verbs\n",
    "    realis_count = 0\n",
    "    irrealis_count = 0\n",
    "\n",
    "    # Loop through tokens in the sentence\n",
    "    for token in doc:\n",
    "        # Check if the token is a verb\n",
    "        if token.pos_ == \"VERB\":\n",
    "            # Check for past or present tense verbs\n",
    "            if token.tag_ in [\"VBD\", \"VBG\", \"VBN\", \"VBP\", \"VBZ\"]:\n",
    "                realis_count += 1\n",
    "            else:\n",
    "                irrealis_count += 1\n",
    "\n",
    "    # Calculate the proportion of realis verbs\n",
    "    total_verbs = realis_count + irrealis_count\n",
    "    proportion_realis = realis_count / float(total_verbs) if total_verbs > 0 else 0\n",
    "\n",
    "    return proportion_realis"
   ],
   "metadata": {
    "collapsed": false
   }
  },
  {
   "cell_type": "code",
   "execution_count": null,
   "outputs": [],
   "source": [],
   "metadata": {
    "collapsed": false
   }
  },
  {
   "cell_type": "code",
   "execution_count": null,
   "outputs": [],
   "source": [
    "from transformers import BertTokenizer, BertModel\n",
    "from sklearn.linear_model import LogisticRegression\n",
    "from sklearn.pipeline import make_pipeline\n",
    "from sklearn.preprocessing import StandardScaler\n",
    "import torch\n",
    "tokenizer = BertTokenizer.from_pretrained('bert-base-uncased')\n",
    "model = BertModel.from_pretrained('bert-base-uncased')\n",
    "def get_bert_embedding(text):\n",
    "\n",
    "    # Tokenize input text\n",
    "    tokens = tokenizer.encode(text, add_special_tokens=True, max_length=512, truncation=True)\n",
    "\n",
    "\n",
    "    # Convert tokens to PyTorch tensor\n",
    "    tokens_tensor = torch.tensor([tokens])\n",
    "\n",
    "    # Forward pass, get hidden states\n",
    "    with torch.no_grad():\n",
    "        outputs = model(tokens_tensor)\n",
    "\n",
    "    # Extract the hidden states (output embeddings) from the last layer\n",
    "    last_hidden_states = outputs.last_hidden_state\n",
    "\n",
    "    # For a single sentence input, take the embeddings for [CLS] token\n",
    "    cls_embedding = last_hidden_states[:, 0, :]\n",
    "\n",
    "    return cls_embedding.numpy()\n"
   ],
   "metadata": {
    "collapsed": false
   }
  },
  {
   "cell_type": "code",
   "execution_count": null,
   "outputs": [],
   "source": [
    "import spacy\n",
    "import pandas as pd\n",
    "\n",
    "# Load the pre-trained spaCy model\n",
    "nlp = spacy.load(\"en_core_web_md\")\n",
    "\n",
    "# Load the Concreteness Ratings dataset\n",
    "concreteness_df = pd.read_excel(\"/Users/pranoysarath/PycharmProjects/pythonProject1/AI_FInal_project/Concreteness_ratings_Brysbaert_et_al_BRM.xlsx\")\n",
    "\n",
    "def get_concreteness(word):\n",
    "    # Check if the word is in the Concreteness Ratings dataset\n",
    "    if word in concreteness_df['Word'].values:\n",
    "        # Get the concreteness rating for the word\n",
    "        concreteness = concreteness_df.loc[concreteness_df['Word'] == word, 'Conc.M'].values[0]\n",
    "        return concreteness\n",
    "    else:\n",
    "        return None\n",
    "\n",
    "def calculate_concrete_proportion(text):\n",
    "    # Process the text with spaCy\n",
    "    doc = nlp(text)\n",
    "\n",
    "    # Counters for concrete and abstract words\n",
    "    concrete_count = 0\n",
    "    total_words = 0\n",
    "\n",
    "    # Iterate through tokens in the document\n",
    "    for token in doc:\n",
    "        # Consider only alphabetic tokens (ignore punctuation, numbers, etc.)\n",
    "        if token.is_alpha:\n",
    "            total_words += 1\n",
    "            concreteness_score = get_concreteness(token.text.lower())\n",
    "\n",
    "            # You can adjust the threshold based on your specific requirements\n",
    "            # Here, I consider words with a concreteness score greater than 3 as concrete\n",
    "            if concreteness_score is not None and concreteness_score > 3:\n",
    "                concrete_count += 1\n",
    "\n",
    "    # Calculate the proportion of concrete words\n",
    "    concrete_proportion = concrete_count / total_words if total_words > 0 else 0\n",
    "    return concrete_proportion\n",
    "\n",
    "# Example usage\n",
    "sample_text = \"The cat sat on the mat and looked out of the window.\"\n",
    "proportion = calculate_concrete_proportion(sample_text)\n",
    "\n",
    "print(f\"The proportion of concrete lexicon in the text is: {proportion}\")\n"
   ],
   "metadata": {
    "collapsed": false
   }
  },
  {
   "cell_type": "code",
   "execution_count": null,
   "outputs": [],
   "source": [
    "from nltk.sentiment import SentimentIntensityAnalyzer\n",
    "\n",
    "sid = SentimentIntensityAnalyzer()\n",
    "def sentiment(sentence):\n",
    "    return sid.polarity_scores(sentence)\n"
   ],
   "metadata": {
    "collapsed": false
   }
  },
  {
   "cell_type": "code",
   "execution_count": null,
   "outputs": [],
   "source": [
    "def get_length(sentence):\n",
    "    return len(sentence)\n",
    "\n",
    "def get_count(sentence):\n",
    "    return len(tokenize.word_tokenize(sentence))\n",
    "\n",
    "def get_realis(sentence):\n",
    "    return get_mood_proportion(sentence)\n",
    "def get_bert(sentence):\n",
    "    return get_bert_embedding(sentence)\n",
    "def get_concrete(row):\n",
    "    if int(row.name) % 100 == 0:\n",
    "        print(f\"concrete row count {row.name}\")\n",
    "    return calculate_concrete_proportion(row['story'])\n",
    "\n",
    "\n",
    "df['sentence_length'] = df.apply(lambda row: get_length(row['story']), axis = 1)\n",
    "df['word_count'] = df.apply(lambda row: get_count(row['story']), axis = 1)\n",
    "df['realis_score'] = df.apply(lambda row: get_realis(row['story']), axis = 1)\n",
    "df['concrete_score'] = df.apply(lambda row: get_concrete(row), axis = 1)"
   ],
   "metadata": {
    "collapsed": false
   }
  },
  {
   "cell_type": "code",
   "execution_count": null,
   "outputs": [],
   "source": [
    "def get_sentiment(row):\n",
    "    if int(row.name) % 100 == 0:\n",
    "        print(f\"sentiment row count {row.name}\")\n",
    "    return sentiment(row['story'])['neu']"
   ],
   "metadata": {
    "collapsed": false
   }
  },
  {
   "cell_type": "code",
   "execution_count": null,
   "outputs": [],
   "source": [
    "import spacy\n",
    "\n",
    "# Load the spaCy English language model\n",
    "nlp = spacy.load(\"en_core_web_sm\")\n",
    "\n",
    "def get_mood_proportion(sentence):\n",
    "    # Process the sentence with spaCy\n",
    "    doc = nlp(sentence)\n",
    "\n",
    "    # Counters for realis and irrealis verbs\n",
    "    realis_count = 0\n",
    "    irrealis_count = 0\n",
    "\n",
    "    # Loop through tokens in the sentence\n",
    "    for token in doc:\n",
    "        # Check if the token is a verb\n",
    "        if token.pos_ == \"VERB\":\n",
    "            # Check for past or present tense verbs\n",
    "            if token.tag_ in [\"VBD\", \"VBG\", \"VBN\", \"VBP\", \"VBZ\"]:\n",
    "                realis_count += 1\n",
    "            else:\n",
    "                irrealis_count += 1\n",
    "\n",
    "    # Calculate the proportion of realis verbs\n",
    "    total_verbs = realis_count + irrealis_count\n",
    "    proportion_realis = realis_count / float(total_verbs) if total_verbs > 0 else 0\n",
    "\n",
    "    return proportion_realis"
   ],
   "metadata": {
    "collapsed": false
   }
  }
 ],
 "metadata": {
  "kernelspec": {
   "display_name": "Python 3",
   "language": "python",
   "name": "python3"
  },
  "language_info": {
   "codemirror_mode": {
    "name": "ipython",
    "version": 2
   },
   "file_extension": ".py",
   "mimetype": "text/x-python",
   "name": "python",
   "nbconvert_exporter": "python",
   "pygments_lexer": "ipython2",
   "version": "2.7.6"
  }
 },
 "nbformat": 4,
 "nbformat_minor": 0
}
