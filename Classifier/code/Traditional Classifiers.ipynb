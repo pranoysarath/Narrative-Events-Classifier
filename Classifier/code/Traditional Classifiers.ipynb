{
 "cells": [
  {
   "cell_type": "code",
   "execution_count": 5,
   "metadata": {
    "collapsed": true
   },
   "outputs": [],
   "source": [
    "from nltk import tokenize\n",
    "from sklearn.metrics import f1_score, precision_score, recall_score\n",
    "import pandas as pd"
   ]
  },
  {
   "cell_type": "code",
   "execution_count": 6,
   "outputs": [
    {
     "data": {
      "text/plain": "      Unnamed: 0                    AssignmentId  \\\n0              0  32RIADZISTQWI5XIVG5BN0VMYFRS4U   \n1              1  3IRIK4HM3B6UQBC0HI8Q5TBJZLEC61   \n2              2  3MTMREQS4W44RBU8OMP3XSK8NMJAWZ   \n3              3  36WLNQG780WFTLD990VT6XXEYVQEBZ   \n4              4  32Z9ZLUT1M6BWPTK368LXKUQWLLOHY   \n...          ...                             ...   \n5530        5530  3SKEMFQBZ4RZDN7C2AMMDQKHCV68K1   \n5531        5531  39PAAFCODNMWRITC4CBO6VRL6O4TV3   \n5532        5532  3FE2ERCCZYU396R8MJGQ6TWGLSMOPR   \n5533        5533  3J88R45B2HKQ3F50NA3MP6N9XXKPXS   \n5534        5534  3YW4XOSQKR7V5JS3X3H943670Y51UE   \n\n                                                  story  sequentiality  \\\n0     Concerts are my most favorite thing, and my bo...       0.073301   \n1     It seems just like yesterday but today makes f...       0.129259   \n2     About a month ago I went to burning man. I was...       0.079941   \n3     Play stupid games, win stupid prizes road trip...       0.108834   \n4     I wanted to write about one of the best days i...       0.079781   \n...                                                 ...            ...   \n5530  My dog was diagnosed with lymphoma a year ago ...       0.078590   \n5531  Over my vacation from my job, I went to Casper...       0.169067   \n5532  This event was a birthday party for my nephew....       0.078642   \n5533  This event occurred about two weeks ago. I was...       0.054479   \n5534  Over the past year I have been involved with a...       0.025652   \n\n      wordcount  Analytic  Clout  Authentic   Tone  wordsPerSentence  ...  \\\n0           203     28.28  37.23      79.50  95.54             13.53  ...   \n1           266     42.15  25.84      92.20  48.91             12.67  ...   \n2           162     28.44   1.45      98.95  68.80             10.80  ...   \n3           304     54.32  88.20      40.37  16.48             12.16  ...   \n4           332     71.58  63.24      68.55  57.93             18.44  ...   \n...         ...       ...    ...        ...    ...               ...  ...   \n5530        293      7.21   5.63      90.22  10.17             11.72  ...   \n5531        290     98.04  58.53      94.42  16.31             19.33  ...   \n5532        162     21.07  95.53      20.50  99.00             10.13  ...   \n5533        337      6.55  40.06       8.02  57.34             19.82  ...   \n5534        285     45.95  46.28      60.94  58.70             19.00  ...   \n\n      differentiation  motion  space   time  pastfocus  presentfocus  \\\n0                2.96    1.97   5.42   5.42       8.87          1.97   \n1                1.88    1.50   3.38  10.53      10.90          4.14   \n2                1.85    3.09   5.56   8.02       6.79          4.32   \n3                1.64    2.96   7.24   6.58      11.18          0.33   \n4                1.51    2.11   5.12   8.13      12.65          0.60   \n...               ...     ...    ...    ...        ...           ...   \n5530             3.07    3.41   8.19   5.80      12.63          0.00   \n5531             1.38    4.48  15.52   3.79       8.28          0.00   \n5532             1.23    3.70   4.94   6.79      13.58          2.47   \n5533             4.75    2.08   2.97   6.23      13.95          1.19   \n5534             2.46    1.40   6.32   5.61       9.12          1.75   \n\n      sentence_length  realis_score  concretenes_score  story_type  \n0                1059      0.777778           0.256158    imagined  \n1                1330      0.741935           0.213483    imagined  \n2                 783      0.828571           0.166667    imagined  \n3                1539      0.653846           0.306931    imagined  \n4                1724      0.759259           0.246988    imagined  \n...               ...           ...                ...         ...  \n5530             1474      0.745098           0.255973    recalled  \n5531             1593      0.723404           0.267361    recalled  \n5532              845      0.833333           0.327160    recalled  \n5533             1773      0.861538           0.228916    recalled  \n5534             1532      0.558140           0.234043    recalled  \n\n[5535 rows x 32 columns]",
      "text/html": "<div>\n<style scoped>\n    .dataframe tbody tr th:only-of-type {\n        vertical-align: middle;\n    }\n\n    .dataframe tbody tr th {\n        vertical-align: top;\n    }\n\n    .dataframe thead th {\n        text-align: right;\n    }\n</style>\n<table border=\"1\" class=\"dataframe\">\n  <thead>\n    <tr style=\"text-align: right;\">\n      <th></th>\n      <th>Unnamed: 0</th>\n      <th>AssignmentId</th>\n      <th>story</th>\n      <th>sequentiality</th>\n      <th>wordcount</th>\n      <th>Analytic</th>\n      <th>Clout</th>\n      <th>Authentic</th>\n      <th>Tone</th>\n      <th>wordsPerSentence</th>\n      <th>...</th>\n      <th>differentiation</th>\n      <th>motion</th>\n      <th>space</th>\n      <th>time</th>\n      <th>pastfocus</th>\n      <th>presentfocus</th>\n      <th>sentence_length</th>\n      <th>realis_score</th>\n      <th>concretenes_score</th>\n      <th>story_type</th>\n    </tr>\n  </thead>\n  <tbody>\n    <tr>\n      <th>0</th>\n      <td>0</td>\n      <td>32RIADZISTQWI5XIVG5BN0VMYFRS4U</td>\n      <td>Concerts are my most favorite thing, and my bo...</td>\n      <td>0.073301</td>\n      <td>203</td>\n      <td>28.28</td>\n      <td>37.23</td>\n      <td>79.50</td>\n      <td>95.54</td>\n      <td>13.53</td>\n      <td>...</td>\n      <td>2.96</td>\n      <td>1.97</td>\n      <td>5.42</td>\n      <td>5.42</td>\n      <td>8.87</td>\n      <td>1.97</td>\n      <td>1059</td>\n      <td>0.777778</td>\n      <td>0.256158</td>\n      <td>imagined</td>\n    </tr>\n    <tr>\n      <th>1</th>\n      <td>1</td>\n      <td>3IRIK4HM3B6UQBC0HI8Q5TBJZLEC61</td>\n      <td>It seems just like yesterday but today makes f...</td>\n      <td>0.129259</td>\n      <td>266</td>\n      <td>42.15</td>\n      <td>25.84</td>\n      <td>92.20</td>\n      <td>48.91</td>\n      <td>12.67</td>\n      <td>...</td>\n      <td>1.88</td>\n      <td>1.50</td>\n      <td>3.38</td>\n      <td>10.53</td>\n      <td>10.90</td>\n      <td>4.14</td>\n      <td>1330</td>\n      <td>0.741935</td>\n      <td>0.213483</td>\n      <td>imagined</td>\n    </tr>\n    <tr>\n      <th>2</th>\n      <td>2</td>\n      <td>3MTMREQS4W44RBU8OMP3XSK8NMJAWZ</td>\n      <td>About a month ago I went to burning man. I was...</td>\n      <td>0.079941</td>\n      <td>162</td>\n      <td>28.44</td>\n      <td>1.45</td>\n      <td>98.95</td>\n      <td>68.80</td>\n      <td>10.80</td>\n      <td>...</td>\n      <td>1.85</td>\n      <td>3.09</td>\n      <td>5.56</td>\n      <td>8.02</td>\n      <td>6.79</td>\n      <td>4.32</td>\n      <td>783</td>\n      <td>0.828571</td>\n      <td>0.166667</td>\n      <td>imagined</td>\n    </tr>\n    <tr>\n      <th>3</th>\n      <td>3</td>\n      <td>36WLNQG780WFTLD990VT6XXEYVQEBZ</td>\n      <td>Play stupid games, win stupid prizes road trip...</td>\n      <td>0.108834</td>\n      <td>304</td>\n      <td>54.32</td>\n      <td>88.20</td>\n      <td>40.37</td>\n      <td>16.48</td>\n      <td>12.16</td>\n      <td>...</td>\n      <td>1.64</td>\n      <td>2.96</td>\n      <td>7.24</td>\n      <td>6.58</td>\n      <td>11.18</td>\n      <td>0.33</td>\n      <td>1539</td>\n      <td>0.653846</td>\n      <td>0.306931</td>\n      <td>imagined</td>\n    </tr>\n    <tr>\n      <th>4</th>\n      <td>4</td>\n      <td>32Z9ZLUT1M6BWPTK368LXKUQWLLOHY</td>\n      <td>I wanted to write about one of the best days i...</td>\n      <td>0.079781</td>\n      <td>332</td>\n      <td>71.58</td>\n      <td>63.24</td>\n      <td>68.55</td>\n      <td>57.93</td>\n      <td>18.44</td>\n      <td>...</td>\n      <td>1.51</td>\n      <td>2.11</td>\n      <td>5.12</td>\n      <td>8.13</td>\n      <td>12.65</td>\n      <td>0.60</td>\n      <td>1724</td>\n      <td>0.759259</td>\n      <td>0.246988</td>\n      <td>imagined</td>\n    </tr>\n    <tr>\n      <th>...</th>\n      <td>...</td>\n      <td>...</td>\n      <td>...</td>\n      <td>...</td>\n      <td>...</td>\n      <td>...</td>\n      <td>...</td>\n      <td>...</td>\n      <td>...</td>\n      <td>...</td>\n      <td>...</td>\n      <td>...</td>\n      <td>...</td>\n      <td>...</td>\n      <td>...</td>\n      <td>...</td>\n      <td>...</td>\n      <td>...</td>\n      <td>...</td>\n      <td>...</td>\n      <td>...</td>\n    </tr>\n    <tr>\n      <th>5530</th>\n      <td>5530</td>\n      <td>3SKEMFQBZ4RZDN7C2AMMDQKHCV68K1</td>\n      <td>My dog was diagnosed with lymphoma a year ago ...</td>\n      <td>0.078590</td>\n      <td>293</td>\n      <td>7.21</td>\n      <td>5.63</td>\n      <td>90.22</td>\n      <td>10.17</td>\n      <td>11.72</td>\n      <td>...</td>\n      <td>3.07</td>\n      <td>3.41</td>\n      <td>8.19</td>\n      <td>5.80</td>\n      <td>12.63</td>\n      <td>0.00</td>\n      <td>1474</td>\n      <td>0.745098</td>\n      <td>0.255973</td>\n      <td>recalled</td>\n    </tr>\n    <tr>\n      <th>5531</th>\n      <td>5531</td>\n      <td>39PAAFCODNMWRITC4CBO6VRL6O4TV3</td>\n      <td>Over my vacation from my job, I went to Casper...</td>\n      <td>0.169067</td>\n      <td>290</td>\n      <td>98.04</td>\n      <td>58.53</td>\n      <td>94.42</td>\n      <td>16.31</td>\n      <td>19.33</td>\n      <td>...</td>\n      <td>1.38</td>\n      <td>4.48</td>\n      <td>15.52</td>\n      <td>3.79</td>\n      <td>8.28</td>\n      <td>0.00</td>\n      <td>1593</td>\n      <td>0.723404</td>\n      <td>0.267361</td>\n      <td>recalled</td>\n    </tr>\n    <tr>\n      <th>5532</th>\n      <td>5532</td>\n      <td>3FE2ERCCZYU396R8MJGQ6TWGLSMOPR</td>\n      <td>This event was a birthday party for my nephew....</td>\n      <td>0.078642</td>\n      <td>162</td>\n      <td>21.07</td>\n      <td>95.53</td>\n      <td>20.50</td>\n      <td>99.00</td>\n      <td>10.13</td>\n      <td>...</td>\n      <td>1.23</td>\n      <td>3.70</td>\n      <td>4.94</td>\n      <td>6.79</td>\n      <td>13.58</td>\n      <td>2.47</td>\n      <td>845</td>\n      <td>0.833333</td>\n      <td>0.327160</td>\n      <td>recalled</td>\n    </tr>\n    <tr>\n      <th>5533</th>\n      <td>5533</td>\n      <td>3J88R45B2HKQ3F50NA3MP6N9XXKPXS</td>\n      <td>This event occurred about two weeks ago. I was...</td>\n      <td>0.054479</td>\n      <td>337</td>\n      <td>6.55</td>\n      <td>40.06</td>\n      <td>8.02</td>\n      <td>57.34</td>\n      <td>19.82</td>\n      <td>...</td>\n      <td>4.75</td>\n      <td>2.08</td>\n      <td>2.97</td>\n      <td>6.23</td>\n      <td>13.95</td>\n      <td>1.19</td>\n      <td>1773</td>\n      <td>0.861538</td>\n      <td>0.228916</td>\n      <td>recalled</td>\n    </tr>\n    <tr>\n      <th>5534</th>\n      <td>5534</td>\n      <td>3YW4XOSQKR7V5JS3X3H943670Y51UE</td>\n      <td>Over the past year I have been involved with a...</td>\n      <td>0.025652</td>\n      <td>285</td>\n      <td>45.95</td>\n      <td>46.28</td>\n      <td>60.94</td>\n      <td>58.70</td>\n      <td>19.00</td>\n      <td>...</td>\n      <td>2.46</td>\n      <td>1.40</td>\n      <td>6.32</td>\n      <td>5.61</td>\n      <td>9.12</td>\n      <td>1.75</td>\n      <td>1532</td>\n      <td>0.558140</td>\n      <td>0.234043</td>\n      <td>recalled</td>\n    </tr>\n  </tbody>\n</table>\n<p>5535 rows × 32 columns</p>\n</div>"
     },
     "execution_count": 6,
     "metadata": {},
     "output_type": "execute_result"
    }
   ],
   "source": [
    "\n",
    "\n",
    "path =\"/Users/pranoysarath/PycharmProjects/pythonProject1/AI_FInal_project/sequentiality_full_liwc.csv\"\n",
    "df_original = pd.read_csv(path)\n",
    "df_original = df_original.rename(columns={'Text' : 'story'})\n",
    "# df_original = df_original.copy()\n",
    "\n",
    "df_processed = pd.read_csv(\"/Users/pranoysarath/PycharmProjects/pythonProject1/AI_FInal_project/seq_processed.csv\")\n",
    "df_processed['memType'] = df_original['memType'].to_numpy()\n",
    "df = df_processed\n",
    "df = df.loc[df.memType.isin(['imagined', 'recalled'])]\n",
    "\n",
    "df"
   ],
   "metadata": {
    "collapsed": false
   }
  },
  {
   "cell_type": "code",
   "execution_count": 34,
   "outputs": [],
   "source": [
    "df = pd.read_csv(\"/Users/pranoysarath/PycharmProjects/pythonProject1/AI_FInal_project/seq_processed_v1.csv\")"
   ],
   "metadata": {
    "collapsed": false
   }
  },
  {
   "cell_type": "code",
   "execution_count": 8,
   "outputs": [
    {
     "data": {
      "text/plain": "      sequentiality  wordcount  Analytic     Clout  Authentic      Tone  \\\n2629       0.006880   0.006467  0.010386  0.017641   0.007373  0.021059   \n1235       0.012294   0.011038  0.005477  0.003684   0.016464  0.010293   \n2181       0.020929   0.009190  0.005142  0.010011   0.010118  0.020287   \n230        0.020262   0.007780  0.003927  0.023123   0.008377  0.010716   \n4829       0.006723   0.012351  0.021875  0.000620   0.016573  0.001977   \n...             ...        ...       ...       ...        ...       ...   \n3828       0.004854   0.023583  0.008224  0.000330   0.016458  0.017028   \n1319       0.025995   0.009433  0.001273  0.011533   0.010726  0.013330   \n4081       0.006076   0.008072  0.012244  0.010011   0.013983  0.000683   \n70         0.017399   0.009531  0.008346  0.000550   0.013562  0.005912   \n3905       0.003752   0.010795  0.003258  0.005335   0.013930  0.004440   \n\n      wordsPerSentence  BigWords  function   article  ...  tentative  \\\n2629          0.007784  0.015525  0.013171  0.019867  ...   0.009918   \n1235          0.008301  0.010747  0.014481  0.011641  ...   0.017455   \n2181          0.010364  0.005960  0.015219  0.012981  ...   0.027968   \n230           0.009363  0.007631  0.014194  0.008264  ...   0.000000   \n4829          0.014857  0.014783  0.013709  0.020056  ...   0.023406   \n...                ...       ...       ...       ...  ...        ...   \n3828          0.023641  0.013160  0.013778  0.010887  ...   0.010910   \n1319          0.011346  0.006289  0.013601  0.011679  ...   0.006810   \n4081          0.008565  0.013009  0.011726  0.015905  ...   0.011967   \n70            0.009056  0.016285  0.013573  0.014434  ...   0.040465   \n3905          0.012180  0.010991  0.014224  0.011905  ...   0.002975   \n\n      certitude  differentiation    motion     space      time  pastfocus  \\\n2629   0.000000         0.009589  0.011777  0.012189  0.011413   0.022493   \n1235   0.017935         0.016802  0.018342  0.017838  0.006674   0.018915   \n2181   0.000000         0.011244  0.016519  0.028934  0.008020   0.004813   \n230    0.016983         0.007977  0.016310  0.016461  0.014219   0.017081   \n4829   0.005299         0.006661  0.016414  0.019134  0.011944   0.012294   \n...         ...              ...       ...       ...       ...        ...   \n3828   0.011141         0.017481  0.009692  0.011278  0.012115   0.011539   \n1319   0.007065         0.017481  0.010735  0.010428  0.009764   0.010056   \n4081   0.008152         0.012771  0.006253  0.013424  0.013707   0.017237   \n70     0.013858         0.012983  0.007973  0.005163  0.015470   0.011942   \n3905   0.006114         0.017184  0.009380  0.010023  0.015376   0.014063   \n\n      presentfocus  sentence_length  realis_score  \n2629      0.002962         0.006640      0.016035  \n1235      0.000000         0.010607      0.013883  \n2181      0.014614         0.008586      0.008017  \n230       0.017300         0.007821      0.015708  \n4829      0.004661         0.012543      0.013373  \n...            ...              ...           ...  \n3828      0.006517         0.023320      0.012068  \n1319      0.028517         0.009105      0.009735  \n4081      0.011888         0.008425      0.016580  \n70        0.012086         0.010399      0.014801  \n3905      0.017773         0.010730      0.015271  \n\n[1107 rows x 26 columns]",
      "text/html": "<div>\n<style scoped>\n    .dataframe tbody tr th:only-of-type {\n        vertical-align: middle;\n    }\n\n    .dataframe tbody tr th {\n        vertical-align: top;\n    }\n\n    .dataframe thead th {\n        text-align: right;\n    }\n</style>\n<table border=\"1\" class=\"dataframe\">\n  <thead>\n    <tr style=\"text-align: right;\">\n      <th></th>\n      <th>sequentiality</th>\n      <th>wordcount</th>\n      <th>Analytic</th>\n      <th>Clout</th>\n      <th>Authentic</th>\n      <th>Tone</th>\n      <th>wordsPerSentence</th>\n      <th>BigWords</th>\n      <th>function</th>\n      <th>article</th>\n      <th>...</th>\n      <th>tentative</th>\n      <th>certitude</th>\n      <th>differentiation</th>\n      <th>motion</th>\n      <th>space</th>\n      <th>time</th>\n      <th>pastfocus</th>\n      <th>presentfocus</th>\n      <th>sentence_length</th>\n      <th>realis_score</th>\n    </tr>\n  </thead>\n  <tbody>\n    <tr>\n      <th>2629</th>\n      <td>0.006880</td>\n      <td>0.006467</td>\n      <td>0.010386</td>\n      <td>0.017641</td>\n      <td>0.007373</td>\n      <td>0.021059</td>\n      <td>0.007784</td>\n      <td>0.015525</td>\n      <td>0.013171</td>\n      <td>0.019867</td>\n      <td>...</td>\n      <td>0.009918</td>\n      <td>0.000000</td>\n      <td>0.009589</td>\n      <td>0.011777</td>\n      <td>0.012189</td>\n      <td>0.011413</td>\n      <td>0.022493</td>\n      <td>0.002962</td>\n      <td>0.006640</td>\n      <td>0.016035</td>\n    </tr>\n    <tr>\n      <th>1235</th>\n      <td>0.012294</td>\n      <td>0.011038</td>\n      <td>0.005477</td>\n      <td>0.003684</td>\n      <td>0.016464</td>\n      <td>0.010293</td>\n      <td>0.008301</td>\n      <td>0.010747</td>\n      <td>0.014481</td>\n      <td>0.011641</td>\n      <td>...</td>\n      <td>0.017455</td>\n      <td>0.017935</td>\n      <td>0.016802</td>\n      <td>0.018342</td>\n      <td>0.017838</td>\n      <td>0.006674</td>\n      <td>0.018915</td>\n      <td>0.000000</td>\n      <td>0.010607</td>\n      <td>0.013883</td>\n    </tr>\n    <tr>\n      <th>2181</th>\n      <td>0.020929</td>\n      <td>0.009190</td>\n      <td>0.005142</td>\n      <td>0.010011</td>\n      <td>0.010118</td>\n      <td>0.020287</td>\n      <td>0.010364</td>\n      <td>0.005960</td>\n      <td>0.015219</td>\n      <td>0.012981</td>\n      <td>...</td>\n      <td>0.027968</td>\n      <td>0.000000</td>\n      <td>0.011244</td>\n      <td>0.016519</td>\n      <td>0.028934</td>\n      <td>0.008020</td>\n      <td>0.004813</td>\n      <td>0.014614</td>\n      <td>0.008586</td>\n      <td>0.008017</td>\n    </tr>\n    <tr>\n      <th>230</th>\n      <td>0.020262</td>\n      <td>0.007780</td>\n      <td>0.003927</td>\n      <td>0.023123</td>\n      <td>0.008377</td>\n      <td>0.010716</td>\n      <td>0.009363</td>\n      <td>0.007631</td>\n      <td>0.014194</td>\n      <td>0.008264</td>\n      <td>...</td>\n      <td>0.000000</td>\n      <td>0.016983</td>\n      <td>0.007977</td>\n      <td>0.016310</td>\n      <td>0.016461</td>\n      <td>0.014219</td>\n      <td>0.017081</td>\n      <td>0.017300</td>\n      <td>0.007821</td>\n      <td>0.015708</td>\n    </tr>\n    <tr>\n      <th>4829</th>\n      <td>0.006723</td>\n      <td>0.012351</td>\n      <td>0.021875</td>\n      <td>0.000620</td>\n      <td>0.016573</td>\n      <td>0.001977</td>\n      <td>0.014857</td>\n      <td>0.014783</td>\n      <td>0.013709</td>\n      <td>0.020056</td>\n      <td>...</td>\n      <td>0.023406</td>\n      <td>0.005299</td>\n      <td>0.006661</td>\n      <td>0.016414</td>\n      <td>0.019134</td>\n      <td>0.011944</td>\n      <td>0.012294</td>\n      <td>0.004661</td>\n      <td>0.012543</td>\n      <td>0.013373</td>\n    </tr>\n    <tr>\n      <th>...</th>\n      <td>...</td>\n      <td>...</td>\n      <td>...</td>\n      <td>...</td>\n      <td>...</td>\n      <td>...</td>\n      <td>...</td>\n      <td>...</td>\n      <td>...</td>\n      <td>...</td>\n      <td>...</td>\n      <td>...</td>\n      <td>...</td>\n      <td>...</td>\n      <td>...</td>\n      <td>...</td>\n      <td>...</td>\n      <td>...</td>\n      <td>...</td>\n      <td>...</td>\n      <td>...</td>\n    </tr>\n    <tr>\n      <th>3828</th>\n      <td>0.004854</td>\n      <td>0.023583</td>\n      <td>0.008224</td>\n      <td>0.000330</td>\n      <td>0.016458</td>\n      <td>0.017028</td>\n      <td>0.023641</td>\n      <td>0.013160</td>\n      <td>0.013778</td>\n      <td>0.010887</td>\n      <td>...</td>\n      <td>0.010910</td>\n      <td>0.011141</td>\n      <td>0.017481</td>\n      <td>0.009692</td>\n      <td>0.011278</td>\n      <td>0.012115</td>\n      <td>0.011539</td>\n      <td>0.006517</td>\n      <td>0.023320</td>\n      <td>0.012068</td>\n    </tr>\n    <tr>\n      <th>1319</th>\n      <td>0.025995</td>\n      <td>0.009433</td>\n      <td>0.001273</td>\n      <td>0.011533</td>\n      <td>0.010726</td>\n      <td>0.013330</td>\n      <td>0.011346</td>\n      <td>0.006289</td>\n      <td>0.013601</td>\n      <td>0.011679</td>\n      <td>...</td>\n      <td>0.006810</td>\n      <td>0.007065</td>\n      <td>0.017481</td>\n      <td>0.010735</td>\n      <td>0.010428</td>\n      <td>0.009764</td>\n      <td>0.010056</td>\n      <td>0.028517</td>\n      <td>0.009105</td>\n      <td>0.009735</td>\n    </tr>\n    <tr>\n      <th>4081</th>\n      <td>0.006076</td>\n      <td>0.008072</td>\n      <td>0.012244</td>\n      <td>0.010011</td>\n      <td>0.013983</td>\n      <td>0.000683</td>\n      <td>0.008565</td>\n      <td>0.013009</td>\n      <td>0.011726</td>\n      <td>0.015905</td>\n      <td>...</td>\n      <td>0.011967</td>\n      <td>0.008152</td>\n      <td>0.012771</td>\n      <td>0.006253</td>\n      <td>0.013424</td>\n      <td>0.013707</td>\n      <td>0.017237</td>\n      <td>0.011888</td>\n      <td>0.008425</td>\n      <td>0.016580</td>\n    </tr>\n    <tr>\n      <th>70</th>\n      <td>0.017399</td>\n      <td>0.009531</td>\n      <td>0.008346</td>\n      <td>0.000550</td>\n      <td>0.013562</td>\n      <td>0.005912</td>\n      <td>0.009056</td>\n      <td>0.016285</td>\n      <td>0.013573</td>\n      <td>0.014434</td>\n      <td>...</td>\n      <td>0.040465</td>\n      <td>0.013858</td>\n      <td>0.012983</td>\n      <td>0.007973</td>\n      <td>0.005163</td>\n      <td>0.015470</td>\n      <td>0.011942</td>\n      <td>0.012086</td>\n      <td>0.010399</td>\n      <td>0.014801</td>\n    </tr>\n    <tr>\n      <th>3905</th>\n      <td>0.003752</td>\n      <td>0.010795</td>\n      <td>0.003258</td>\n      <td>0.005335</td>\n      <td>0.013930</td>\n      <td>0.004440</td>\n      <td>0.012180</td>\n      <td>0.010991</td>\n      <td>0.014224</td>\n      <td>0.011905</td>\n      <td>...</td>\n      <td>0.002975</td>\n      <td>0.006114</td>\n      <td>0.017184</td>\n      <td>0.009380</td>\n      <td>0.010023</td>\n      <td>0.015376</td>\n      <td>0.014063</td>\n      <td>0.017773</td>\n      <td>0.010730</td>\n      <td>0.015271</td>\n    </tr>\n  </tbody>\n</table>\n<p>1107 rows × 26 columns</p>\n</div>"
     },
     "execution_count": 8,
     "metadata": {},
     "output_type": "execute_result"
    }
   ],
   "source": [
    "features = ['c_value', 'WC', 'Analytic', 'Clout', 'Authentic', 'Tone', 'WPS', 'BigWords', 'function', 'article', 'number', 'prep', 'conj', 'negate', 'cogproc', 'insight', 'discrep', 'tentat', 'certitude', 'differ', 'motion', 'space', 'time', 'focuspast', 'focuspresent', 'concrete_score', 'realis_score', 'sentence_length' ]\n",
    "\n",
    "mappings = {\n",
    "    'c_value' : 'sequentiality',\n",
    "     'WC': 'wordcount', 'WPS' : 'wordsPerSentence',  'prep' : \"preposition\", 'conj': \"conjunction\", 'negate' : \"negation\", 'cogproc' : \"cognitiveProcess\", 'discrep' : \"discrepancy\", 'tentat': \"tentative\",  'differ' : \"differentiation\",  'focuspast' : 'pastfocus', 'focuspresent' : 'presentfocus', 'concrete_score' : 'concretenes_score', 'memType' : 'story_type'\n",
    "}\n",
    "\n",
    "df = df.rename(columns=mappings)\n",
    "df.columns\n"
   ],
   "metadata": {
    "collapsed": false
   }
  },
  {
   "cell_type": "code",
   "execution_count": 26,
   "outputs": [
    {
     "name": "stdout",
     "output_type": "stream",
     "text": [
      "I was focusing on trying to pass my technician test at work. I was hired in November and you had six months to complete the course so my deadline was less than a month away. Your boss or someone else is supposed to help you but I was on my own. There was no study book or no specific time set aside for me. Anyways, I had to do this course in work flow and a lot of was very technical. I was getting frustrated. I was one course away from finishing the first section of 2 and i could not pass the quiz for the life of me. You get three attempts before the boss has to ask for the course to be reset. I had to use that twice. With 10 days to go and my boss going on vacation I had to ask to come in on a Saturday to do the course. First thing was that daunting course. I passed it right away with a little bit of my bosses help. It ended up taking me all of that Saturday when i was expecting about an hour or so. It was now off to the final. I passed it first try and got that monkey off my back. I can get nationally certified if Id like but I am firmly established with my new company.\n"
     ]
    }
   ],
   "source": [
    "final_columns = ['AssignmentId', 'story', 'sequentiality',\n",
    "        'wordcount', 'Analytic', 'Clout', 'Authentic', 'Tone',\n",
    "       'wordsPerSentence', 'BigWords', 'function', 'article', 'number',\n",
    "       'preposition', 'conjunction', 'negation', 'cognitiveProcess', 'insight',\n",
    "       'discrepancy', 'tentative', 'certitude', 'differentiation', 'motion',\n",
    "       'space', 'time', 'pastfocus', 'presentfocus', 'sentence_length',\n",
    "        'realis_score', 'concretenes_score', 'story_type']\n",
    "\n",
    "df_final = df[final_columns]\n",
    "df_final.to_csv(\"/Users/pranoysarath/PycharmProjects/pythonProject1/AI_FInal_project/seq_final.csv\")"
   ],
   "metadata": {
    "collapsed": false
   }
  },
  {
   "cell_type": "code",
   "execution_count": 31,
   "outputs": [],
   "source": [
    "df = pd.read_csv(\"/Users/pranoysarath/PycharmProjects/pythonProject1/AI_FInal_project/seq_final.csv\")\n",
    "df"
   ],
   "metadata": {
    "collapsed": false
   }
  },
  {
   "cell_type": "code",
   "execution_count": 27,
   "outputs": [],
   "source": [
    "import spacy\n",
    "\n",
    "# Load the spaCy English language model\n",
    "nlp = spacy.load(\"en_core_web_sm\")\n",
    "\n",
    "def get_mood_proportion(sentence):\n",
    "    # Process the sentence with spaCy\n",
    "    doc = nlp(sentence)\n",
    "\n",
    "    # Counters for realis and irrealis verbs\n",
    "    realis_count = 0\n",
    "    irrealis_count = 0\n",
    "\n",
    "    # Loop through tokens in the sentence\n",
    "    for token in doc:\n",
    "        # Check if the token is a verb\n",
    "        if token.pos_ == \"VERB\":\n",
    "            # Check for past or present tense verbs\n",
    "            if token.tag_ in [\"VBD\", \"VBG\", \"VBN\", \"VBP\", \"VBZ\"]:\n",
    "                realis_count += 1\n",
    "            else:\n",
    "                irrealis_count += 1\n",
    "\n",
    "    # Calculate the proportion of realis verbs\n",
    "    total_verbs = realis_count + irrealis_count\n",
    "    proportion_realis = realis_count / float(total_verbs) if total_verbs > 0 else 0\n",
    "\n",
    "    return proportion_realis"
   ],
   "metadata": {
    "collapsed": false
   }
  },
  {
   "cell_type": "code",
   "execution_count": 32,
   "outputs": [],
   "source": [
    "!python -m spacy download en_core_web_sm"
   ],
   "metadata": {
    "collapsed": false
   }
  },
  {
   "cell_type": "code",
   "execution_count": 173,
   "outputs": [
    {
     "name": "stderr",
     "output_type": "stream",
     "text": [
      "Some weights of the model checkpoint at bert-base-uncased were not used when initializing BertModel: ['cls.seq_relationship.weight', 'cls.predictions.transform.LayerNorm.weight', 'cls.seq_relationship.bias', 'cls.predictions.bias', 'cls.predictions.transform.LayerNorm.bias', 'cls.predictions.decoder.weight', 'cls.predictions.transform.dense.weight', 'cls.predictions.transform.dense.bias']\n",
      "- This IS expected if you are initializing BertModel from the checkpoint of a model trained on another task or with another architecture (e.g. initializing a BertForSequenceClassification model from a BertForPreTraining model).\n",
      "- This IS NOT expected if you are initializing BertModel from the checkpoint of a model that you expect to be exactly identical (initializing a BertForSequenceClassification model from a BertForSequenceClassification model).\n"
     ]
    }
   ],
   "source": [
    "from transformers import BertTokenizer, BertModel\n",
    "from sklearn.linear_model import LogisticRegression\n",
    "from sklearn.pipeline import make_pipeline\n",
    "from sklearn.preprocessing import StandardScaler\n",
    "import torch\n",
    "tokenizer = BertTokenizer.from_pretrained('bert-base-uncased')\n",
    "model = BertModel.from_pretrained('bert-base-uncased')\n",
    "def get_bert_embedding(text):\n",
    "\n",
    "    # Tokenize input text\n",
    "    tokens = tokenizer.encode(text, add_special_tokens=True, max_length=512, truncation=True)\n",
    "\n",
    "\n",
    "    # Convert tokens to PyTorch tensor\n",
    "    tokens_tensor = torch.tensor([tokens])\n",
    "\n",
    "    # Forward pass, get hidden states\n",
    "    with torch.no_grad():\n",
    "        outputs = model(tokens_tensor)\n",
    "\n",
    "    # Extract the hidden states (output embeddings) from the last layer\n",
    "    last_hidden_states = outputs.last_hidden_state\n",
    "\n",
    "    # For a single sentence input, take the embeddings for [CLS] token\n",
    "    cls_embedding = last_hidden_states[:, 0, :]\n",
    "\n",
    "    return cls_embedding.numpy()\n"
   ],
   "metadata": {
    "collapsed": false
   }
  },
  {
   "cell_type": "code",
   "execution_count": 29,
   "outputs": [
    {
     "name": "stderr",
     "output_type": "stream",
     "text": [
      "/Users/pranoysarath/miniconda/envs/penv/lib/python3.10/site-packages/sklearn/utils/validation.py:1143: DataConversionWarning: A column-vector y was passed when a 1d array was expected. Please change the shape of y to (n_samples, ), for example using ravel().\n",
      "  y = column_or_1d(y, warn=True)\n"
     ]
    },
    {
     "name": "stdout",
     "output_type": "stream",
     "text": [
      "Train score 0.995483288166215\n",
      "Test score 0.6495031616982837\n",
      "weighted_f1_score recalled 0.6496319341400678\n"
     ]
    }
   ],
   "source": [
    "!python -m spacy download en_core_web_md"
   ],
   "metadata": {
    "collapsed": false
   }
  },
  {
   "cell_type": "code",
   "execution_count": 17,
   "outputs": [
    {
     "name": "stdout",
     "output_type": "stream",
     "text": [
      "The proportion of concrete lexicon in the text is: 0.4166666666666667\n"
     ]
    }
   ],
   "source": [
    "import spacy\n",
    "import pandas as pd\n",
    "\n",
    "# Load the pre-trained spaCy model\n",
    "nlp = spacy.load(\"en_core_web_md\")\n",
    "\n",
    "# Load the Concreteness Ratings dataset\n",
    "concreteness_df = pd.read_excel(\"/Users/pranoysarath/PycharmProjects/pythonProject1/AI_FInal_project/Concreteness_ratings_Brysbaert_et_al_BRM.xlsx\")\n",
    "\n",
    "def get_concreteness(word):\n",
    "    # Check if the word is in the Concreteness Ratings dataset\n",
    "    if word in concreteness_df['Word'].values:\n",
    "        # Get the concreteness rating for the word\n",
    "        concreteness = concreteness_df.loc[concreteness_df['Word'] == word, 'Conc.M'].values[0]\n",
    "        return concreteness\n",
    "    else:\n",
    "        return None\n",
    "\n",
    "def calculate_concrete_proportion(text):\n",
    "    # Process the text with spaCy\n",
    "    doc = nlp(text)\n",
    "\n",
    "    # Counters for concrete and abstract words\n",
    "    concrete_count = 0\n",
    "    total_words = 0\n",
    "\n",
    "    # Iterate through tokens in the document\n",
    "    for token in doc:\n",
    "        # Consider only alphabetic tokens (ignore punctuation, numbers, etc.)\n",
    "        if token.is_alpha:\n",
    "            total_words += 1\n",
    "            concreteness_score = get_concreteness(token.text.lower())\n",
    "\n",
    "            # You can adjust the threshold based on your specific requirements\n",
    "            # Here, I consider words with a concreteness score greater than 3 as concrete\n",
    "            if concreteness_score is not None and concreteness_score > 3:\n",
    "                concrete_count += 1\n",
    "\n",
    "    # Calculate the proportion of concrete words\n",
    "    concrete_proportion = concrete_count / total_words if total_words > 0 else 0\n",
    "    return concrete_proportion\n",
    "\n",
    "# Example usage\n",
    "sample_text = \"The cat sat on the mat and looked out of the window.\"\n",
    "proportion = calculate_concrete_proportion(sample_text)\n",
    "\n",
    "print(f\"The proportion of concrete lexicon in the text is: {proportion}\")\n"
   ],
   "metadata": {
    "collapsed": false
   }
  },
  {
   "cell_type": "code",
   "execution_count": 35,
   "outputs": [
    {
     "name": "stderr",
     "output_type": "stream",
     "text": [
      "/Users/pranoysarath/miniconda/envs/penv/lib/python3.10/site-packages/sklearn/preprocessing/_label.py:134: DataConversionWarning: A column-vector y was passed when a 1d array was expected. Please change the shape of y to (n_samples, ), for example using ravel().\n",
      "  y = column_or_1d(y, dtype=self.classes_.dtype, warn=True)\n",
      "/Users/pranoysarath/miniconda/envs/penv/lib/python3.10/site-packages/sklearn/preprocessing/_label.py:134: DataConversionWarning: A column-vector y was passed when a 1d array was expected. Please change the shape of y to (n_samples, ), for example using ravel().\n",
      "  y = column_or_1d(y, dtype=self.classes_.dtype, warn=True)\n"
     ]
    },
    {
     "name": "stdout",
     "output_type": "stream",
     "text": [
      "Train score 1.0\n",
      "Test score 0.6621499548328816\n",
      "f1 score weighted 0.6537037037037037\n",
      "f1 score recalled 0.6701940035273368\n",
      "f1 score Imagined 0.6537037037037037\n"
     ]
    },
    {
     "data": {
      "text/plain": "Text(0.5, 1.0, 'Feature Importance (Derived Top 26 features)')"
     },
     "execution_count": 35,
     "metadata": {},
     "output_type": "execute_result"
    },
    {
     "data": {
      "text/plain": "<Figure size 600x360 with 1 Axes>",
      "image/png": "[encoded data removed]"
     },
     "metadata": {},
     "output_type": "display_data"
    }
   ],
   "source": [
    "from nltk.sentiment import SentimentIntensityAnalyzer\n",
    "\n",
    "sid = SentimentIntensityAnalyzer()\n",
    "def sentiment(sentence):\n",
    "    return sid.polarity_scores(sentence)\n"
   ],
   "metadata": {
    "collapsed": false
   }
  },
  {
   "cell_type": "code",
   "execution_count": 36,
   "outputs": [
    {
     "name": "stdout",
     "output_type": "stream",
     "text": [
      "The best score is 0.6613\n",
      "The best score standard deviation is 0.0072\n",
      "Train score 0.9546882009869897\n",
      "Test score 0.649090909090909\n"
     ]
    }
   ],
   "source": [
    "def get_length(sentence):\n",
    "    return len(sentence)\n",
    "\n",
    "def get_count(sentence):\n",
    "    return len(tokenize.word_tokenize(sentence))\n",
    "\n",
    "def get_realis(sentence):\n",
    "    return get_mood_proportion(sentence)\n",
    "def get_bert(sentence):\n",
    "    return get_bert_embedding(sentence)\n",
    "def get_concrete(row):\n",
    "    if int(row.name) % 100 == 0:\n",
    "        print(f\"concrete row count {row.name}\")\n",
    "    return calculate_concrete_proportion(row['story'])\n",
    "\n",
    "\n",
    "df['sentence_length'] = df.apply(lambda row: get_length(row['story']), axis = 1)\n",
    "df['word_count'] = df.apply(lambda row: get_count(row['story']), axis = 1)\n",
    "df['realis_score'] = df.apply(lambda row: get_realis(row['story']), axis = 1)\n",
    "df['concrete_score'] = df.apply(lambda row: get_concrete(row), axis = 1)"
   ],
   "metadata": {
    "collapsed": false
   }
  },
  {
   "cell_type": "code",
   "execution_count": 10,
   "outputs": [
    {
     "name": "stderr",
     "output_type": "stream",
     "text": [
      "/Users/pranoysarath/miniconda/envs/penv/lib/python3.10/site-packages/sklearn/utils/validation.py:1143: DataConversionWarning: A column-vector y was passed when a 1d array was expected. Please change the shape of y to (n_samples, ), for example using ravel().\n",
      "  y = column_or_1d(y, warn=True)\n"
     ]
    },
    {
     "name": "stdout",
     "output_type": "stream",
     "text": [
      "Train score 0.7529358626919602\n",
      "Test score 0.6540198735320687\n",
      "f1 score recalled 0.651501364877161\n",
      "f1 score Imagined 0.6565022421524663\n"
     ]
    }
   ],
   "source": [
    "df['text'] = df.apply(lambda row: get_bert(row['story']), axis = 1)"
   ],
   "metadata": {
    "collapsed": false
   }
  },
  {
   "cell_type": "code",
   "execution_count": 256,
   "outputs": [],
   "source": [
    "def get_sentiment(row):\n",
    "    if int(row.name) % 100 == 0:\n",
    "        print(f\"sentiment row count {row.name}\")\n",
    "    return sentiment(row['story'])['neu']"
   ],
   "metadata": {
    "collapsed": false
   }
  },
  {
   "cell_type": "code",
   "execution_count": 37,
   "outputs": [
    {
     "name": "stdout",
     "output_type": "stream",
     "text": [
      " Nearest Neighbors Train score 0.7809394760614273\n",
      "Nearest Neighbors Test score 0.5763324299909666\n",
      " Linear SVM Train score 0.5033875338753387\n",
      "Linear SVM Test score 0.4968383017163505\n",
      " RBF SVM Train score 0.6224028906955736\n",
      "RBF SVM Test score 0.6214995483288166\n",
      " Gaussian Process Train score 0.6915085817524842\n",
      "Gaussian Process Test score 0.6684733514001807\n",
      " Decision Tree Train score 0.6675700090334237\n",
      "Decision Tree Test score 0.5998193315266486\n",
      " Random Forest Train score 0.676829268292683\n",
      "Random Forest Test score 0.6323396567299007\n",
      " Neural Net Train score 0.5033875338753387\n",
      "Neural Net Test score 0.4968383017163505\n",
      " AdaBoost Train score 0.6908310749774165\n",
      "AdaBoost Test score 0.6693766937669376\n",
      " Naive Bayes Train score 0.6339205058717254\n",
      "Naive Bayes Test score 0.6214995483288166\n",
      " QDA Train score 0.6644083107497741\n",
      "QDA Test score 0.6160794941282746\n"
     ]
    }
   ],
   "source": [
    "df['sentiment'] = df.apply(lambda row: get_sentiment(row), axis = 1)"
   ],
   "metadata": {
    "collapsed": false
   }
  },
  {
   "cell_type": "markdown",
   "source": [],
   "metadata": {
    "collapsed": false
   }
  },
  {
   "cell_type": "code",
   "execution_count": 132,
   "outputs": [
    {
     "data": {
      "text/plain": "                        AssignmentId  \\\n0     32RIADZISTQWI5XIVG5BN0VMYFRS4U   \n1     3IRIK4HM3B6UQBC0HI8Q5TBJZLEC61   \n2     3MTMREQS4W44RBU8OMP3XSK8NMJAWZ   \n3     36WLNQG780WFTLD990VT6XXEYVQEBZ   \n4     32Z9ZLUT1M6BWPTK368LXKUQWLLOHY   \n...                              ...   \n5530  3SKEMFQBZ4RZDN7C2AMMDQKHCV68K1   \n5531  39PAAFCODNMWRITC4CBO6VRL6O4TV3   \n5532  3FE2ERCCZYU396R8MJGQ6TWGLSMOPR   \n5533  3J88R45B2HKQ3F50NA3MP6N9XXKPXS   \n5534  3YW4XOSQKR7V5JS3X3H943670Y51UE   \n\n                                                  story   c_value   WC  \\\n0     Concerts are my most favorite thing, and my bo...  0.073301  203   \n1     It seems just like yesterday but today makes f...  0.129259  266   \n2     About a month ago I went to burning man. I was...  0.079941  162   \n3     Play stupid games, win stupid prizes road trip...  0.108834  304   \n4     I wanted to write about one of the best days i...  0.079781  332   \n...                                                 ...       ...  ...   \n5530  My dog was diagnosed with lymphoma a year ago ...  0.078590  293   \n5531  Over my vacation from my job, I went to Casper...  0.169067  290   \n5532  This event was a birthday party for my nephew....  0.078642  162   \n5533  This event occurred about two weeks ago. I was...  0.054479  337   \n5534  Over the past year I have been involved with a...  0.025652  285   \n\n      Analytic  Clout  Authentic   Tone    WPS  BigWords  ...  motion  space  \\\n0        28.28  37.23      79.50  95.54  13.53     18.23  ...    1.97   5.42   \n1        42.15  25.84      92.20  48.91  12.67     10.90  ...    1.50   3.38   \n2        28.44   1.45      98.95  68.80  10.80      8.64  ...    3.09   5.56   \n3        54.32  88.20      40.37  16.48  12.16     11.84  ...    2.96   7.24   \n4        71.58  63.24      68.55  57.93  18.44     14.16  ...    2.11   5.12   \n...        ...    ...        ...    ...    ...       ...  ...     ...    ...   \n5530      7.21   5.63      90.22  10.17  11.72     14.33  ...    3.41   8.19   \n5531     98.04  58.53      94.42  16.31  19.33     18.97  ...    4.48  15.52   \n5532     21.07  95.53      20.50  99.00  10.13     13.58  ...    3.70   4.94   \n5533      6.55  40.06       8.02  57.34  19.82     12.76  ...    2.08   2.97   \n5534     45.95  46.28      60.94  58.70  19.00     15.79  ...    1.40   6.32   \n\n       time  focuspast  focuspresent   memType  concrete_score  word_count  \\\n0      5.42       8.87          1.97  imagined        0.256158         233   \n1     10.53      10.90          4.14  imagined        0.213483         288   \n2      8.02       6.79          4.32  imagined        0.166667         181   \n3      6.58      11.18          0.33  imagined        0.306931         339   \n4      8.13      12.65          0.60  imagined        0.246988         361   \n...     ...        ...           ...       ...             ...         ...   \n5530   5.80      12.63          0.00  recalled        0.255973         335   \n5531   3.79       8.28          0.00  recalled        0.267361         314   \n5532   6.79      13.58          2.47  recalled        0.327160         183   \n5533   6.23      13.95          1.19  recalled        0.228916         380   \n5534   5.61       9.12          1.75  recalled        0.234043         304   \n\n      realis_score  sentence_length  \n0         0.777778             1059  \n1         0.741935             1330  \n2         0.828571              783  \n3         0.653846             1539  \n4         0.759259             1724  \n...            ...              ...  \n5530      0.745098             1474  \n5531      0.723404             1593  \n5532      0.833333              845  \n5533      0.861538             1773  \n5534      0.558140             1532  \n\n[5535 rows x 32 columns]",
      "text/html": "<div>\n<style scoped>\n    .dataframe tbody tr th:only-of-type {\n        vertical-align: middle;\n    }\n\n    .dataframe tbody tr th {\n        vertical-align: top;\n    }\n\n    .dataframe thead th {\n        text-align: right;\n    }\n</style>\n<table border=\"1\" class=\"dataframe\">\n  <thead>\n    <tr style=\"text-align: right;\">\n      <th></th>\n      <th>AssignmentId</th>\n      <th>story</th>\n      <th>c_value</th>\n      <th>WC</th>\n      <th>Analytic</th>\n      <th>Clout</th>\n      <th>Authentic</th>\n      <th>Tone</th>\n      <th>WPS</th>\n      <th>BigWords</th>\n      <th>...</th>\n      <th>motion</th>\n      <th>space</th>\n      <th>time</th>\n      <th>focuspast</th>\n      <th>focuspresent</th>\n      <th>memType</th>\n      <th>concrete_score</th>\n      <th>word_count</th>\n      <th>realis_score</th>\n      <th>sentence_length</th>\n    </tr>\n  </thead>\n  <tbody>\n    <tr>\n      <th>0</th>\n      <td>32RIADZISTQWI5XIVG5BN0VMYFRS4U</td>\n      <td>Concerts are my most favorite thing, and my bo...</td>\n      <td>0.073301</td>\n      <td>203</td>\n      <td>28.28</td>\n      <td>37.23</td>\n      <td>79.50</td>\n      <td>95.54</td>\n      <td>13.53</td>\n      <td>18.23</td>\n      <td>...</td>\n      <td>1.97</td>\n      <td>5.42</td>\n      <td>5.42</td>\n      <td>8.87</td>\n      <td>1.97</td>\n      <td>imagined</td>\n      <td>0.256158</td>\n      <td>233</td>\n      <td>0.777778</td>\n      <td>1059</td>\n    </tr>\n    <tr>\n      <th>1</th>\n      <td>3IRIK4HM3B6UQBC0HI8Q5TBJZLEC61</td>\n      <td>It seems just like yesterday but today makes f...</td>\n      <td>0.129259</td>\n      <td>266</td>\n      <td>42.15</td>\n      <td>25.84</td>\n      <td>92.20</td>\n      <td>48.91</td>\n      <td>12.67</td>\n      <td>10.90</td>\n      <td>...</td>\n      <td>1.50</td>\n      <td>3.38</td>\n      <td>10.53</td>\n      <td>10.90</td>\n      <td>4.14</td>\n      <td>imagined</td>\n      <td>0.213483</td>\n      <td>288</td>\n      <td>0.741935</td>\n      <td>1330</td>\n    </tr>\n    <tr>\n      <th>2</th>\n      <td>3MTMREQS4W44RBU8OMP3XSK8NMJAWZ</td>\n      <td>About a month ago I went to burning man. I was...</td>\n      <td>0.079941</td>\n      <td>162</td>\n      <td>28.44</td>\n      <td>1.45</td>\n      <td>98.95</td>\n      <td>68.80</td>\n      <td>10.80</td>\n      <td>8.64</td>\n      <td>...</td>\n      <td>3.09</td>\n      <td>5.56</td>\n      <td>8.02</td>\n      <td>6.79</td>\n      <td>4.32</td>\n      <td>imagined</td>\n      <td>0.166667</td>\n      <td>181</td>\n      <td>0.828571</td>\n      <td>783</td>\n    </tr>\n    <tr>\n      <th>3</th>\n      <td>36WLNQG780WFTLD990VT6XXEYVQEBZ</td>\n      <td>Play stupid games, win stupid prizes road trip...</td>\n      <td>0.108834</td>\n      <td>304</td>\n      <td>54.32</td>\n      <td>88.20</td>\n      <td>40.37</td>\n      <td>16.48</td>\n      <td>12.16</td>\n      <td>11.84</td>\n      <td>...</td>\n      <td>2.96</td>\n      <td>7.24</td>\n      <td>6.58</td>\n      <td>11.18</td>\n      <td>0.33</td>\n      <td>imagined</td>\n      <td>0.306931</td>\n      <td>339</td>\n      <td>0.653846</td>\n      <td>1539</td>\n    </tr>\n    <tr>\n      <th>4</th>\n      <td>32Z9ZLUT1M6BWPTK368LXKUQWLLOHY</td>\n      <td>I wanted to write about one of the best days i...</td>\n      <td>0.079781</td>\n      <td>332</td>\n      <td>71.58</td>\n      <td>63.24</td>\n      <td>68.55</td>\n      <td>57.93</td>\n      <td>18.44</td>\n      <td>14.16</td>\n      <td>...</td>\n      <td>2.11</td>\n      <td>5.12</td>\n      <td>8.13</td>\n      <td>12.65</td>\n      <td>0.60</td>\n      <td>imagined</td>\n      <td>0.246988</td>\n      <td>361</td>\n      <td>0.759259</td>\n      <td>1724</td>\n    </tr>\n    <tr>\n      <th>...</th>\n      <td>...</td>\n      <td>...</td>\n      <td>...</td>\n      <td>...</td>\n      <td>...</td>\n      <td>...</td>\n      <td>...</td>\n      <td>...</td>\n      <td>...</td>\n      <td>...</td>\n      <td>...</td>\n      <td>...</td>\n      <td>...</td>\n      <td>...</td>\n      <td>...</td>\n      <td>...</td>\n      <td>...</td>\n      <td>...</td>\n      <td>...</td>\n      <td>...</td>\n      <td>...</td>\n    </tr>\n    <tr>\n      <th>5530</th>\n      <td>3SKEMFQBZ4RZDN7C2AMMDQKHCV68K1</td>\n      <td>My dog was diagnosed with lymphoma a year ago ...</td>\n      <td>0.078590</td>\n      <td>293</td>\n      <td>7.21</td>\n      <td>5.63</td>\n      <td>90.22</td>\n      <td>10.17</td>\n      <td>11.72</td>\n      <td>14.33</td>\n      <td>...</td>\n      <td>3.41</td>\n      <td>8.19</td>\n      <td>5.80</td>\n      <td>12.63</td>\n      <td>0.00</td>\n      <td>recalled</td>\n      <td>0.255973</td>\n      <td>335</td>\n      <td>0.745098</td>\n      <td>1474</td>\n    </tr>\n    <tr>\n      <th>5531</th>\n      <td>39PAAFCODNMWRITC4CBO6VRL6O4TV3</td>\n      <td>Over my vacation from my job, I went to Casper...</td>\n      <td>0.169067</td>\n      <td>290</td>\n      <td>98.04</td>\n      <td>58.53</td>\n      <td>94.42</td>\n      <td>16.31</td>\n      <td>19.33</td>\n      <td>18.97</td>\n      <td>...</td>\n      <td>4.48</td>\n      <td>15.52</td>\n      <td>3.79</td>\n      <td>8.28</td>\n      <td>0.00</td>\n      <td>recalled</td>\n      <td>0.267361</td>\n      <td>314</td>\n      <td>0.723404</td>\n      <td>1593</td>\n    </tr>\n    <tr>\n      <th>5532</th>\n      <td>3FE2ERCCZYU396R8MJGQ6TWGLSMOPR</td>\n      <td>This event was a birthday party for my nephew....</td>\n      <td>0.078642</td>\n      <td>162</td>\n      <td>21.07</td>\n      <td>95.53</td>\n      <td>20.50</td>\n      <td>99.00</td>\n      <td>10.13</td>\n      <td>13.58</td>\n      <td>...</td>\n      <td>3.70</td>\n      <td>4.94</td>\n      <td>6.79</td>\n      <td>13.58</td>\n      <td>2.47</td>\n      <td>recalled</td>\n      <td>0.327160</td>\n      <td>183</td>\n      <td>0.833333</td>\n      <td>845</td>\n    </tr>\n    <tr>\n      <th>5533</th>\n      <td>3J88R45B2HKQ3F50NA3MP6N9XXKPXS</td>\n      <td>This event occurred about two weeks ago. I was...</td>\n      <td>0.054479</td>\n      <td>337</td>\n      <td>6.55</td>\n      <td>40.06</td>\n      <td>8.02</td>\n      <td>57.34</td>\n      <td>19.82</td>\n      <td>12.76</td>\n      <td>...</td>\n      <td>2.08</td>\n      <td>2.97</td>\n      <td>6.23</td>\n      <td>13.95</td>\n      <td>1.19</td>\n      <td>recalled</td>\n      <td>0.228916</td>\n      <td>380</td>\n      <td>0.861538</td>\n      <td>1773</td>\n    </tr>\n    <tr>\n      <th>5534</th>\n      <td>3YW4XOSQKR7V5JS3X3H943670Y51UE</td>\n      <td>Over the past year I have been involved with a...</td>\n      <td>0.025652</td>\n      <td>285</td>\n      <td>45.95</td>\n      <td>46.28</td>\n      <td>60.94</td>\n      <td>58.70</td>\n      <td>19.00</td>\n      <td>15.79</td>\n      <td>...</td>\n      <td>1.40</td>\n      <td>6.32</td>\n      <td>5.61</td>\n      <td>9.12</td>\n      <td>1.75</td>\n      <td>recalled</td>\n      <td>0.234043</td>\n      <td>304</td>\n      <td>0.558140</td>\n      <td>1532</td>\n    </tr>\n  </tbody>\n</table>\n<p>5535 rows × 32 columns</p>\n</div>"
     },
     "execution_count": 132,
     "metadata": {},
     "output_type": "execute_result"
    }
   ],
   "source": [
    "filtered_df = df.loc[df.memType.isin(['imagined', 'recalled'])]\n",
    "total_input_columns = ['AssignmentId', 'story', 'c_value', 'WC', 'Analytic', 'Clout', 'Authentic', 'Tone', 'WPS', 'BigWords', 'function', 'article', 'number', 'prep', 'conj', 'negate', 'cogproc', 'insight', 'discrep', 'tentat', 'certitude', 'differ', 'motion', 'space', 'time', 'focuspast', 'focuspresent', 'memType','concrete_score', 'word_count', 'realis_score', 'sentence_length']\n",
    "\n",
    "filtered_columns = ['c_value', 'WC', 'Analytic', 'Clout', 'Authentic', 'Tone', 'WPS', 'BigWords', 'function', 'article', 'number', 'prep', 'conj', 'negate', 'cogproc', 'insight', 'discrep', 'tentat', 'certitude', 'differ', 'motion', 'space', 'time', 'focuspast', 'focuspresent', 'memType','concrete_score', 'word_count', 'realis_score', 'sentence_length']\n",
    "filtered_df  = filtered_df[filtered_columns]\n",
    "filtered_df"
   ],
   "metadata": {
    "collapsed": false
   }
  },
  {
   "cell_type": "code",
   "execution_count": 166,
   "outputs": [],
   "source": [
    "\n",
    "# X = filtered_df[['c_value', 'WC', 'Analytic', 'Clout', 'Authentic', 'Tone', 'WPS', 'BigWords', 'function', 'article', 'number', 'prep', 'conj', 'negate', 'cogproc', 'insight', 'discrep', 'tentat', 'certitude', 'differ', 'motion', 'space', 'time', 'focuspast', 'focuspresent', 'concrete_score', 'realis_score', 'sentence_length']]\n",
    "X = filtered_df[['c_value']]\n",
    "y = filtered_df[['memType']]\n",
    "from sklearn.model_selection import train_test_split\n",
    "\n",
    "X_train, X_test, y_train, y_test = train_test_split( X, y, test_size=0.2, random_state=42)"
   ],
   "metadata": {
    "collapsed": false
   }
  },
  {
   "cell_type": "code",
   "execution_count": 167,
   "outputs": [
    {
     "name": "stdout",
     "output_type": "stream",
     "text": [
      "5535\n"
     ]
    },
    {
     "data": {
      "text/plain": "           c_value\ncount  4428.000000\nmean      0.102188\nstd       0.086731\nmin      -0.480659\n25%       0.052878\n50%       0.080117\n75%       0.124296\nmax       1.347233",
      "text/html": "<div>\n<style scoped>\n    .dataframe tbody tr th:only-of-type {\n        vertical-align: middle;\n    }\n\n    .dataframe tbody tr th {\n        vertical-align: top;\n    }\n\n    .dataframe thead th {\n        text-align: right;\n    }\n</style>\n<table border=\"1\" class=\"dataframe\">\n  <thead>\n    <tr style=\"text-align: right;\">\n      <th></th>\n      <th>c_value</th>\n    </tr>\n  </thead>\n  <tbody>\n    <tr>\n      <th>count</th>\n      <td>4428.000000</td>\n    </tr>\n    <tr>\n      <th>mean</th>\n      <td>0.102188</td>\n    </tr>\n    <tr>\n      <th>std</th>\n      <td>0.086731</td>\n    </tr>\n    <tr>\n      <th>min</th>\n      <td>-0.480659</td>\n    </tr>\n    <tr>\n      <th>25%</th>\n      <td>0.052878</td>\n    </tr>\n    <tr>\n      <th>50%</th>\n      <td>0.080117</td>\n    </tr>\n    <tr>\n      <th>75%</th>\n      <td>0.124296</td>\n    </tr>\n    <tr>\n      <th>max</th>\n      <td>1.347233</td>\n    </tr>\n  </tbody>\n</table>\n</div>"
     },
     "execution_count": 167,
     "metadata": {},
     "output_type": "execute_result"
    }
   ],
   "source": [
    "print(len(filtered_df))\n",
    "X_train.describe()"
   ],
   "metadata": {
    "collapsed": false
   }
  },
  {
   "cell_type": "code",
   "execution_count": 7,
   "outputs": [],
   "source": [
    "columns = ['AssignmentId', 'story', 'sequentiality',\n",
    "        'wordcount', 'Analytic', 'Clout', 'Authentic', 'Tone',\n",
    "       'wordsPerSentence', 'BigWords', 'function', 'article', 'number',\n",
    "       'preposition', 'conjunction', 'negation', 'cognitiveProcess', 'insight',\n",
    "       'discrepancy', 'tentative', 'certitude', 'differentiation', 'motion',\n",
    "       'space', 'time', 'pastfocus', 'presentfocus', 'sentence_length',\n",
    "        'realis_score', 'concretenes_score', 'story_type']\n",
    "\n",
    "X_columns = ['sequentiality',\n",
    " 'wordcount',\n",
    " 'Analytic',\n",
    " 'Clout',\n",
    " 'Authentic',\n",
    " 'Tone',\n",
    " 'wordsPerSentence',\n",
    " 'BigWords',\n",
    " 'function',\n",
    " 'article',\n",
    " 'number',\n",
    " 'conjunction',\n",
    " 'negation',\n",
    " 'cognitiveProcess',\n",
    " 'insight',\n",
    " 'discrepancy',\n",
    " 'tentative',\n",
    " 'certitude',\n",
    " 'differentiation',\n",
    " 'motion',\n",
    " 'space',\n",
    " 'time',\n",
    " 'pastfocus',\n",
    " 'presentfocus',\n",
    " 'sentence_length',\n",
    " 'realis_score']\n",
    "\n",
    "from sklearn import preprocessing\n",
    "X = df[X_columns]\n",
    "y = df[['story_type']]\n",
    "\n",
    "X_scaled = preprocessing.normalize(X, axis=0)\n",
    "X_scaled = pd.DataFrame(X_scaled, columns=X.columns)\n",
    "from sklearn.model_selection import train_test_split\n",
    "\n",
    "X_train, X_test, y_train, y_test = train_test_split( X_scaled, y, test_size=0.2, random_state=42)\n",
    "\n"
   ],
   "metadata": {
    "collapsed": false
   }
  },
  {
   "cell_type": "code",
   "execution_count": 8,
   "outputs": [
    {
     "data": {
      "text/plain": "      sequentiality  wordcount  Analytic     Clout  Authentic      Tone  \\\n2629       0.006880   0.006467  0.010386  0.017641   0.007373  0.021059   \n1235       0.012294   0.011038  0.005477  0.003684   0.016464  0.010293   \n2181       0.020929   0.009190  0.005142  0.010011   0.010118  0.020287   \n230        0.020262   0.007780  0.003927  0.023123   0.008377  0.010716   \n4829       0.006723   0.012351  0.021875  0.000620   0.016573  0.001977   \n...             ...        ...       ...       ...        ...       ...   \n3828       0.004854   0.023583  0.008224  0.000330   0.016458  0.017028   \n1319       0.025995   0.009433  0.001273  0.011533   0.010726  0.013330   \n4081       0.006076   0.008072  0.012244  0.010011   0.013983  0.000683   \n70         0.017399   0.009531  0.008346  0.000550   0.013562  0.005912   \n3905       0.003752   0.010795  0.003258  0.005335   0.013930  0.004440   \n\n      wordsPerSentence  BigWords  function   article  ...  tentative  \\\n2629          0.007784  0.015525  0.013171  0.019867  ...   0.009918   \n1235          0.008301  0.010747  0.014481  0.011641  ...   0.017455   \n2181          0.010364  0.005960  0.015219  0.012981  ...   0.027968   \n230           0.009363  0.007631  0.014194  0.008264  ...   0.000000   \n4829          0.014857  0.014783  0.013709  0.020056  ...   0.023406   \n...                ...       ...       ...       ...  ...        ...   \n3828          0.023641  0.013160  0.013778  0.010887  ...   0.010910   \n1319          0.011346  0.006289  0.013601  0.011679  ...   0.006810   \n4081          0.008565  0.013009  0.011726  0.015905  ...   0.011967   \n70            0.009056  0.016285  0.013573  0.014434  ...   0.040465   \n3905          0.012180  0.010991  0.014224  0.011905  ...   0.002975   \n\n      certitude  differentiation    motion     space      time  pastfocus  \\\n2629   0.000000         0.009589  0.011777  0.012189  0.011413   0.022493   \n1235   0.017935         0.016802  0.018342  0.017838  0.006674   0.018915   \n2181   0.000000         0.011244  0.016519  0.028934  0.008020   0.004813   \n230    0.016983         0.007977  0.016310  0.016461  0.014219   0.017081   \n4829   0.005299         0.006661  0.016414  0.019134  0.011944   0.012294   \n...         ...              ...       ...       ...       ...        ...   \n3828   0.011141         0.017481  0.009692  0.011278  0.012115   0.011539   \n1319   0.007065         0.017481  0.010735  0.010428  0.009764   0.010056   \n4081   0.008152         0.012771  0.006253  0.013424  0.013707   0.017237   \n70     0.013858         0.012983  0.007973  0.005163  0.015470   0.011942   \n3905   0.006114         0.017184  0.009380  0.010023  0.015376   0.014063   \n\n      presentfocus  sentence_length  realis_score  \n2629      0.002962         0.006640      0.016035  \n1235      0.000000         0.010607      0.013883  \n2181      0.014614         0.008586      0.008017  \n230       0.017300         0.007821      0.015708  \n4829      0.004661         0.012543      0.013373  \n...            ...              ...           ...  \n3828      0.006517         0.023320      0.012068  \n1319      0.028517         0.009105      0.009735  \n4081      0.011888         0.008425      0.016580  \n70        0.012086         0.010399      0.014801  \n3905      0.017773         0.010730      0.015271  \n\n[1107 rows x 26 columns]",
      "text/html": "<div>\n<style scoped>\n    .dataframe tbody tr th:only-of-type {\n        vertical-align: middle;\n    }\n\n    .dataframe tbody tr th {\n        vertical-align: top;\n    }\n\n    .dataframe thead th {\n        text-align: right;\n    }\n</style>\n<table border=\"1\" class=\"dataframe\">\n  <thead>\n    <tr style=\"text-align: right;\">\n      <th></th>\n      <th>sequentiality</th>\n      <th>wordcount</th>\n      <th>Analytic</th>\n      <th>Clout</th>\n      <th>Authentic</th>\n      <th>Tone</th>\n      <th>wordsPerSentence</th>\n      <th>BigWords</th>\n      <th>function</th>\n      <th>article</th>\n      <th>...</th>\n      <th>tentative</th>\n      <th>certitude</th>\n      <th>differentiation</th>\n      <th>motion</th>\n      <th>space</th>\n      <th>time</th>\n      <th>pastfocus</th>\n      <th>presentfocus</th>\n      <th>sentence_length</th>\n      <th>realis_score</th>\n    </tr>\n  </thead>\n  <tbody>\n    <tr>\n      <th>2629</th>\n      <td>0.006880</td>\n      <td>0.006467</td>\n      <td>0.010386</td>\n      <td>0.017641</td>\n      <td>0.007373</td>\n      <td>0.021059</td>\n      <td>0.007784</td>\n      <td>0.015525</td>\n      <td>0.013171</td>\n      <td>0.019867</td>\n      <td>...</td>\n      <td>0.009918</td>\n      <td>0.000000</td>\n      <td>0.009589</td>\n      <td>0.011777</td>\n      <td>0.012189</td>\n      <td>0.011413</td>\n      <td>0.022493</td>\n      <td>0.002962</td>\n      <td>0.006640</td>\n      <td>0.016035</td>\n    </tr>\n    <tr>\n      <th>1235</th>\n      <td>0.012294</td>\n      <td>0.011038</td>\n      <td>0.005477</td>\n      <td>0.003684</td>\n      <td>0.016464</td>\n      <td>0.010293</td>\n      <td>0.008301</td>\n      <td>0.010747</td>\n      <td>0.014481</td>\n      <td>0.011641</td>\n      <td>...</td>\n      <td>0.017455</td>\n      <td>0.017935</td>\n      <td>0.016802</td>\n      <td>0.018342</td>\n      <td>0.017838</td>\n      <td>0.006674</td>\n      <td>0.018915</td>\n      <td>0.000000</td>\n      <td>0.010607</td>\n      <td>0.013883</td>\n    </tr>\n    <tr>\n      <th>2181</th>\n      <td>0.020929</td>\n      <td>0.009190</td>\n      <td>0.005142</td>\n      <td>0.010011</td>\n      <td>0.010118</td>\n      <td>0.020287</td>\n      <td>0.010364</td>\n      <td>0.005960</td>\n      <td>0.015219</td>\n      <td>0.012981</td>\n      <td>...</td>\n      <td>0.027968</td>\n      <td>0.000000</td>\n      <td>0.011244</td>\n      <td>0.016519</td>\n      <td>0.028934</td>\n      <td>0.008020</td>\n      <td>0.004813</td>\n      <td>0.014614</td>\n      <td>0.008586</td>\n      <td>0.008017</td>\n    </tr>\n    <tr>\n      <th>230</th>\n      <td>0.020262</td>\n      <td>0.007780</td>\n      <td>0.003927</td>\n      <td>0.023123</td>\n      <td>0.008377</td>\n      <td>0.010716</td>\n      <td>0.009363</td>\n      <td>0.007631</td>\n      <td>0.014194</td>\n      <td>0.008264</td>\n      <td>...</td>\n      <td>0.000000</td>\n      <td>0.016983</td>\n      <td>0.007977</td>\n      <td>0.016310</td>\n      <td>0.016461</td>\n      <td>0.014219</td>\n      <td>0.017081</td>\n      <td>0.017300</td>\n      <td>0.007821</td>\n      <td>0.015708</td>\n    </tr>\n    <tr>\n      <th>4829</th>\n      <td>0.006723</td>\n      <td>0.012351</td>\n      <td>0.021875</td>\n      <td>0.000620</td>\n      <td>0.016573</td>\n      <td>0.001977</td>\n      <td>0.014857</td>\n      <td>0.014783</td>\n      <td>0.013709</td>\n      <td>0.020056</td>\n      <td>...</td>\n      <td>0.023406</td>\n      <td>0.005299</td>\n      <td>0.006661</td>\n      <td>0.016414</td>\n      <td>0.019134</td>\n      <td>0.011944</td>\n      <td>0.012294</td>\n      <td>0.004661</td>\n      <td>0.012543</td>\n      <td>0.013373</td>\n    </tr>\n    <tr>\n      <th>...</th>\n      <td>...</td>\n      <td>...</td>\n      <td>...</td>\n      <td>...</td>\n      <td>...</td>\n      <td>...</td>\n      <td>...</td>\n      <td>...</td>\n      <td>...</td>\n      <td>...</td>\n      <td>...</td>\n      <td>...</td>\n      <td>...</td>\n      <td>...</td>\n      <td>...</td>\n      <td>...</td>\n      <td>...</td>\n      <td>...</td>\n      <td>...</td>\n      <td>...</td>\n      <td>...</td>\n    </tr>\n    <tr>\n      <th>3828</th>\n      <td>0.004854</td>\n      <td>0.023583</td>\n      <td>0.008224</td>\n      <td>0.000330</td>\n      <td>0.016458</td>\n      <td>0.017028</td>\n      <td>0.023641</td>\n      <td>0.013160</td>\n      <td>0.013778</td>\n      <td>0.010887</td>\n      <td>...</td>\n      <td>0.010910</td>\n      <td>0.011141</td>\n      <td>0.017481</td>\n      <td>0.009692</td>\n      <td>0.011278</td>\n      <td>0.012115</td>\n      <td>0.011539</td>\n      <td>0.006517</td>\n      <td>0.023320</td>\n      <td>0.012068</td>\n    </tr>\n    <tr>\n      <th>1319</th>\n      <td>0.025995</td>\n      <td>0.009433</td>\n      <td>0.001273</td>\n      <td>0.011533</td>\n      <td>0.010726</td>\n      <td>0.013330</td>\n      <td>0.011346</td>\n      <td>0.006289</td>\n      <td>0.013601</td>\n      <td>0.011679</td>\n      <td>...</td>\n      <td>0.006810</td>\n      <td>0.007065</td>\n      <td>0.017481</td>\n      <td>0.010735</td>\n      <td>0.010428</td>\n      <td>0.009764</td>\n      <td>0.010056</td>\n      <td>0.028517</td>\n      <td>0.009105</td>\n      <td>0.009735</td>\n    </tr>\n    <tr>\n      <th>4081</th>\n      <td>0.006076</td>\n      <td>0.008072</td>\n      <td>0.012244</td>\n      <td>0.010011</td>\n      <td>0.013983</td>\n      <td>0.000683</td>\n      <td>0.008565</td>\n      <td>0.013009</td>\n      <td>0.011726</td>\n      <td>0.015905</td>\n      <td>...</td>\n      <td>0.011967</td>\n      <td>0.008152</td>\n      <td>0.012771</td>\n      <td>0.006253</td>\n      <td>0.013424</td>\n      <td>0.013707</td>\n      <td>0.017237</td>\n      <td>0.011888</td>\n      <td>0.008425</td>\n      <td>0.016580</td>\n    </tr>\n    <tr>\n      <th>70</th>\n      <td>0.017399</td>\n      <td>0.009531</td>\n      <td>0.008346</td>\n      <td>0.000550</td>\n      <td>0.013562</td>\n      <td>0.005912</td>\n      <td>0.009056</td>\n      <td>0.016285</td>\n      <td>0.013573</td>\n      <td>0.014434</td>\n      <td>...</td>\n      <td>0.040465</td>\n      <td>0.013858</td>\n      <td>0.012983</td>\n      <td>0.007973</td>\n      <td>0.005163</td>\n      <td>0.015470</td>\n      <td>0.011942</td>\n      <td>0.012086</td>\n      <td>0.010399</td>\n      <td>0.014801</td>\n    </tr>\n    <tr>\n      <th>3905</th>\n      <td>0.003752</td>\n      <td>0.010795</td>\n      <td>0.003258</td>\n      <td>0.005335</td>\n      <td>0.013930</td>\n      <td>0.004440</td>\n      <td>0.012180</td>\n      <td>0.010991</td>\n      <td>0.014224</td>\n      <td>0.011905</td>\n      <td>...</td>\n      <td>0.002975</td>\n      <td>0.006114</td>\n      <td>0.017184</td>\n      <td>0.009380</td>\n      <td>0.010023</td>\n      <td>0.015376</td>\n      <td>0.014063</td>\n      <td>0.017773</td>\n      <td>0.010730</td>\n      <td>0.015271</td>\n    </tr>\n  </tbody>\n</table>\n<p>1107 rows × 26 columns</p>\n</div>"
     },
     "execution_count": 8,
     "metadata": {},
     "output_type": "execute_result"
    }
   ],
   "source": [
    "X_test"
   ],
   "metadata": {
    "collapsed": false
   }
  },
  {
   "cell_type": "code",
   "execution_count": 39,
   "outputs": [
    {
     "name": "stdout",
     "output_type": "stream",
     "text": [
      "I was focusing on trying to pass my technician test at work. I was hired in November and you had six months to complete the course so my deadline was less than a month away. Your boss or someone else is supposed to help you but I was on my own. There was no study book or no specific time set aside for me. Anyways, I had to do this course in work flow and a lot of was very technical. I was getting frustrated. I was one course away from finishing the first section of 2 and i could not pass the quiz for the life of me. You get three attempts before the boss has to ask for the course to be reset. I had to use that twice. With 10 days to go and my boss going on vacation I had to ask to come in on a Saturday to do the course. First thing was that daunting course. I passed it right away with a little bit of my bosses help. It ended up taking me all of that Saturday when i was expecting about an hour or so. It was now off to the final. I passed it first try and got that monkey off my back. I can get nationally certified if Id like but I am firmly established with my new company.\n"
     ]
    }
   ],
   "source": [
    "from sklearn.feature_extraction.text import TfidfVectorizer\n",
    "\n",
    "# Sample documents with multiple sentences\n",
    "documents,_,_,_ = train_test_split( df[['story']], y, test_size=0.2, random_state=42)\n",
    "documents = documents['story'].to_list()\n",
    "\n",
    "# Create the TF-IDF vectorizer\n",
    "tfidf_vectorizer = TfidfVectorizer()\n",
    "\n",
    "# Fit and transform the documents to obtain TF-IDF vectors\n",
    "tfidf_matrix = tfidf_vectorizer.fit_transform(documents)\n",
    "\n",
    "# Get the feature names (words) used as columns in the TF-IDF matrix\n",
    "feature_names = tfidf_vectorizer.get_feature_names_out()\n",
    "\n",
    "# Create a DataFrame for better visualization\n",
    "import pandas as pd\n",
    "tfidf_df = pd.DataFrame(data=tfidf_matrix.toarray(), columns=feature_names)\n",
    "print(documents[0])\n",
    "# print(tfidf_df)"
   ],
   "metadata": {
    "collapsed": false
   }
  },
  {
   "cell_type": "code",
   "execution_count": 57,
   "outputs": [],
   "source": [
    "from gensim.models.doc2vec import Doc2Vec, TaggedDocument\n",
    "\n",
    "# Sample documents with multiple sentences\n",
    "documents,_,_,_ = train_test_split( df[['story']], y, test_size=0.2, random_state=42)\n",
    "documents = documents['story'].to_list()\n",
    "\n",
    "\n",
    "\n",
    "# Train the Word2Vec model\n",
    "# Tokenize the documents and create TaggedDocument objects\n",
    "tokenized_docs = [doc.split() for doc in documents]\n",
    "tagged_data = [TaggedDocument(words=doc, tags=[str(i)]) for i, doc in enumerate(tokenized_docs)]\n",
    "doc2vec_model = Doc2Vec(vector_size=100, window=5, min_count=1, workers=4, epochs=20)\n",
    "doc2vec_model.build_vocab(tagged_data)\n",
    "doc2vec_model.train(tagged_data, total_examples=doc2vec_model.corpus_count, epochs=doc2vec_model.epochs)\n",
    "\n",
    "# doc2vec_model.dv\n",
    "# model.save(\"word2vec_model.model\")\n"
   ],
   "metadata": {
    "collapsed": false
   }
  },
  {
   "cell_type": "code",
   "execution_count": 55,
   "outputs": [],
   "source": [
    "def get_vectorized_dataframe(tfidf_vectorizer, documents):\n",
    "    tfidf_matrix_inference = tfidf_vectorizer.transform(documents)\n",
    "    feature_names_inference = tfidf_vectorizer.get_feature_names_out()\n",
    "    return pd.DataFrame(data=tfidf_matrix_inference.toarray(), columns=feature_names_inference)\n",
    "\n",
    "def get_doc2vec(model, documents):\n",
    "    tokenized_new_docs = [doc.split() for doc in documents]\n",
    "    tagged_new_data = [TaggedDocument(words=doc, tags=[str(i)]) for i, doc in enumerate(tokenized_new_docs)]\n",
    "    new_doc_vectors = [model.infer_vector(doc.words) for doc in tagged_new_data]\n",
    "\n",
    "# Create a DataFrame\n",
    "    new_doc_vector_df = pd.DataFrame(new_doc_vectors, index=range(len(documents)))\n",
    "\n",
    "\n",
    "    return new_doc_vector_df\n"
   ],
   "metadata": {
    "collapsed": false
   }
  },
  {
   "cell_type": "code",
   "execution_count": 4,
   "outputs": [
    {
     "ename": "NameError",
     "evalue": "name 'df' is not defined",
     "output_type": "error",
     "traceback": [
      "\u001B[0;31m---------------------------------------------------------------------------\u001B[0m",
      "\u001B[0;31mNameError\u001B[0m                                 Traceback (most recent call last)",
      "Cell \u001B[0;32mIn[4], line 37\u001B[0m\n\u001B[1;32m      9\u001B[0m X_columns \u001B[38;5;241m=\u001B[39m [\u001B[38;5;124m'\u001B[39m\u001B[38;5;124msequentiality\u001B[39m\u001B[38;5;124m'\u001B[39m,\n\u001B[1;32m     10\u001B[0m  \u001B[38;5;124m'\u001B[39m\u001B[38;5;124mwordcount\u001B[39m\u001B[38;5;124m'\u001B[39m,\n\u001B[1;32m     11\u001B[0m  \u001B[38;5;124m'\u001B[39m\u001B[38;5;124mAnalytic\u001B[39m\u001B[38;5;124m'\u001B[39m,\n\u001B[0;32m   (...)\u001B[0m\n\u001B[1;32m     33\u001B[0m  \u001B[38;5;124m'\u001B[39m\u001B[38;5;124msentence_length\u001B[39m\u001B[38;5;124m'\u001B[39m,\n\u001B[1;32m     34\u001B[0m  \u001B[38;5;124m'\u001B[39m\u001B[38;5;124mrealis_score\u001B[39m\u001B[38;5;124m'\u001B[39m]\n\u001B[1;32m     36\u001B[0m \u001B[38;5;28;01mfrom\u001B[39;00m \u001B[38;5;21;01msklearn\u001B[39;00m \u001B[38;5;28;01mimport\u001B[39;00m preprocessing\n\u001B[0;32m---> 37\u001B[0m X \u001B[38;5;241m=\u001B[39m \u001B[43mdf\u001B[49m[X_columns]\n\u001B[1;32m     38\u001B[0m y \u001B[38;5;241m=\u001B[39m df[[\u001B[38;5;124m'\u001B[39m\u001B[38;5;124mstory_type\u001B[39m\u001B[38;5;124m'\u001B[39m]]\n\u001B[1;32m     40\u001B[0m \u001B[38;5;66;03m# X_tf_idf = get_vectorized_dataframe(tfidf_vectorizer, df['story'].to_list())\u001B[39;00m\n",
      "\u001B[0;31mNameError\u001B[0m: name 'df' is not defined"
     ]
    }
   ],
   "source": [
    "columns = ['AssignmentId', 'story', 'sequentiality',\n",
    "        'wordcount', 'Analytic', 'Clout', 'Authentic', 'Tone',\n",
    "       'wordsPerSentence', 'BigWords', 'function', 'article', 'number',\n",
    "       'preposition', 'conjunction', 'negation', 'cognitiveProcess', 'insight',\n",
    "       'discrepancy', 'tentative', 'certitude', 'differentiation', 'motion',\n",
    "       'space', 'time', 'pastfocus', 'presentfocus', 'sentence_length',\n",
    "        'realis_score', 'concretenes_score', 'story_type']\n",
    "\n",
    "X_columns = ['sequentiality',\n",
    " 'wordcount',\n",
    " 'Analytic',\n",
    " 'Clout',\n",
    " 'Authentic',\n",
    " 'Tone',\n",
    " 'wordsPerSentence',\n",
    " 'BigWords',\n",
    " 'function',\n",
    " 'article',\n",
    " 'number',\n",
    " 'conjunction',\n",
    " 'negation',\n",
    " 'cognitiveProcess',\n",
    " 'insight',\n",
    " 'discrepancy',\n",
    " 'tentative',\n",
    " 'certitude',\n",
    " 'differentiation',\n",
    " 'motion',\n",
    " 'space',\n",
    " 'time',\n",
    " 'pastfocus',\n",
    " 'presentfocus',\n",
    " 'sentence_length',\n",
    " 'realis_score']\n",
    "\n",
    "from sklearn import preprocessing\n",
    "X = df[X_columns]\n",
    "y = df[['story_type']]\n",
    "\n",
    "# X_tf_idf = get_vectorized_dataframe(tfidf_vectorizer, df['story'].to_list())\n",
    "X_dco2vec = get_doc2vec(doc2vec_model, df['story'].to_list())\n",
    "X = pd.concat([X, X_dco2vec], axis=1)\n",
    "X.columns = X.columns.astype(str)\n",
    "X_scaled = preprocessing.normalize(X, axis=0)\n",
    "X_scaled = pd.DataFrame(X_scaled, columns=X.columns)\n",
    "from sklearn.model_selection import train_test_split\n",
    "\n",
    "X_train, X_test, y_train, y_test = train_test_split( X_scaled, y, test_size=0.2, random_state=42)\n",
    "\n"
   ],
   "metadata": {
    "collapsed": false
   }
  },
  {
   "cell_type": "code",
   "execution_count": 64,
   "outputs": [
    {
     "data": {
      "text/plain": "      sequentiality  wordcount  Analytic     Clout  Authentic      Tone  \\\n4981       0.005053   0.011135  0.015109  0.000847   0.015997  0.007095   \n3739       0.002541   0.011087  0.005027  0.002679   0.014432  0.010262   \n1934       0.007251   0.011573  0.001717  0.000250   0.016573  0.011568   \n1212       0.006607   0.015366  0.020289  0.001702   0.007887  0.002954   \n831        0.018026   0.016533  0.008586  0.015254   0.016573  0.005258   \n...             ...        ...       ...       ...        ...       ...   \n3772       0.003097   0.015414  0.002951  0.002649   0.007441  0.001095   \n5191       0.007132   0.013129  0.014101  0.021214   0.013565  0.015900   \n5226      -0.000191   0.011621  0.011086  0.000362   0.016573  0.013084   \n5390       0.007075   0.012788  0.015822  0.022289   0.014317  0.021546   \n860        0.004719   0.013275  0.002053  0.001787   0.014914  0.021215   \n\n      wordsPerSentence  BigWords  function   article  ...        90        91  \\\n4981          0.012557  0.009837  0.014261  0.010717  ... -0.003742  0.018226   \n3739          0.013338  0.008232  0.013943  0.008283  ... -0.001959  0.003914   \n1934          0.012285  0.015384  0.013631  0.007924  ...  0.011288  0.011516   \n1212          0.013865  0.016633  0.012593  0.020301  ...  0.007363 -0.005775   \n831           0.018647  0.010766  0.014948  0.008321  ... -0.007007 -0.006564   \n...                ...       ...       ...       ...  ...       ...       ...   \n3772          0.011592  0.010362  0.014395  0.006547  ...  0.008926 -0.003484   \n5191          0.015796  0.010775  0.013776  0.013283  ...  0.001210  0.008158   \n5226          0.009530  0.014924  0.013303  0.016584  ...  0.010853 -0.013247   \n5390          0.014427  0.014277  0.012169  0.013622  ...  0.021622  0.020584   \n860           0.013312  0.010316  0.014101  0.008981  ...  0.018169  0.006744   \n\n            92        93        94        95        96        97        98  \\\n4981  0.004285 -0.010911 -0.004097  0.002181 -0.012219 -0.014736 -0.014853   \n3739 -0.015700 -0.010918  0.012797  0.010896 -0.004385  0.007783 -0.002999   \n1934  0.001196 -0.006842  0.001368  0.003006 -0.019585  0.012826 -0.004036   \n1212 -0.006324 -0.008461 -0.002580  0.030939  0.022242 -0.006280  0.010003   \n831  -0.016285  0.004799  0.006485 -0.003040 -0.020807  0.029107 -0.002133   \n...        ...       ...       ...       ...       ...       ...       ...   \n3772 -0.012017 -0.011759  0.002277  0.018993 -0.023954 -0.000210 -0.004704   \n5191  0.011852 -0.005045  0.003832  0.013521 -0.004443 -0.012823 -0.009644   \n5226  0.010987 -0.024974  0.018700  0.020224 -0.002498  0.006564 -0.005990   \n5390  0.016729  0.025567  0.003072  0.008798 -0.006647 -0.008011 -0.006607   \n860  -0.008431 -0.000970  0.006331  0.004168 -0.003443 -0.020323 -0.022885   \n\n            99  \n4981 -0.003452  \n3739 -0.007353  \n1934  0.015818  \n1212  0.010763  \n831   0.019340  \n...        ...  \n3772  0.008229  \n5191 -0.012152  \n5226  0.001066  \n5390 -0.028820  \n860  -0.001793  \n\n[4428 rows x 128 columns]",
      "text/html": "<div>\n<style scoped>\n    .dataframe tbody tr th:only-of-type {\n        vertical-align: middle;\n    }\n\n    .dataframe tbody tr th {\n        vertical-align: top;\n    }\n\n    .dataframe thead th {\n        text-align: right;\n    }\n</style>\n<table border=\"1\" class=\"dataframe\">\n  <thead>\n    <tr style=\"text-align: right;\">\n      <th></th>\n      <th>sequentiality</th>\n      <th>wordcount</th>\n      <th>Analytic</th>\n      <th>Clout</th>\n      <th>Authentic</th>\n      <th>Tone</th>\n      <th>wordsPerSentence</th>\n      <th>BigWords</th>\n      <th>function</th>\n      <th>article</th>\n      <th>...</th>\n      <th>90</th>\n      <th>91</th>\n      <th>92</th>\n      <th>93</th>\n      <th>94</th>\n      <th>95</th>\n      <th>96</th>\n      <th>97</th>\n      <th>98</th>\n      <th>99</th>\n    </tr>\n  </thead>\n  <tbody>\n    <tr>\n      <th>4981</th>\n      <td>0.005053</td>\n      <td>0.011135</td>\n      <td>0.015109</td>\n      <td>0.000847</td>\n      <td>0.015997</td>\n      <td>0.007095</td>\n      <td>0.012557</td>\n      <td>0.009837</td>\n      <td>0.014261</td>\n      <td>0.010717</td>\n      <td>...</td>\n      <td>-0.003742</td>\n      <td>0.018226</td>\n      <td>0.004285</td>\n      <td>-0.010911</td>\n      <td>-0.004097</td>\n      <td>0.002181</td>\n      <td>-0.012219</td>\n      <td>-0.014736</td>\n      <td>-0.014853</td>\n      <td>-0.003452</td>\n    </tr>\n    <tr>\n      <th>3739</th>\n      <td>0.002541</td>\n      <td>0.011087</td>\n      <td>0.005027</td>\n      <td>0.002679</td>\n      <td>0.014432</td>\n      <td>0.010262</td>\n      <td>0.013338</td>\n      <td>0.008232</td>\n      <td>0.013943</td>\n      <td>0.008283</td>\n      <td>...</td>\n      <td>-0.001959</td>\n      <td>0.003914</td>\n      <td>-0.015700</td>\n      <td>-0.010918</td>\n      <td>0.012797</td>\n      <td>0.010896</td>\n      <td>-0.004385</td>\n      <td>0.007783</td>\n      <td>-0.002999</td>\n      <td>-0.007353</td>\n    </tr>\n    <tr>\n      <th>1934</th>\n      <td>0.007251</td>\n      <td>0.011573</td>\n      <td>0.001717</td>\n      <td>0.000250</td>\n      <td>0.016573</td>\n      <td>0.011568</td>\n      <td>0.012285</td>\n      <td>0.015384</td>\n      <td>0.013631</td>\n      <td>0.007924</td>\n      <td>...</td>\n      <td>0.011288</td>\n      <td>0.011516</td>\n      <td>0.001196</td>\n      <td>-0.006842</td>\n      <td>0.001368</td>\n      <td>0.003006</td>\n      <td>-0.019585</td>\n      <td>0.012826</td>\n      <td>-0.004036</td>\n      <td>0.015818</td>\n    </tr>\n    <tr>\n      <th>1212</th>\n      <td>0.006607</td>\n      <td>0.015366</td>\n      <td>0.020289</td>\n      <td>0.001702</td>\n      <td>0.007887</td>\n      <td>0.002954</td>\n      <td>0.013865</td>\n      <td>0.016633</td>\n      <td>0.012593</td>\n      <td>0.020301</td>\n      <td>...</td>\n      <td>0.007363</td>\n      <td>-0.005775</td>\n      <td>-0.006324</td>\n      <td>-0.008461</td>\n      <td>-0.002580</td>\n      <td>0.030939</td>\n      <td>0.022242</td>\n      <td>-0.006280</td>\n      <td>0.010003</td>\n      <td>0.010763</td>\n    </tr>\n    <tr>\n      <th>831</th>\n      <td>0.018026</td>\n      <td>0.016533</td>\n      <td>0.008586</td>\n      <td>0.015254</td>\n      <td>0.016573</td>\n      <td>0.005258</td>\n      <td>0.018647</td>\n      <td>0.010766</td>\n      <td>0.014948</td>\n      <td>0.008321</td>\n      <td>...</td>\n      <td>-0.007007</td>\n      <td>-0.006564</td>\n      <td>-0.016285</td>\n      <td>0.004799</td>\n      <td>0.006485</td>\n      <td>-0.003040</td>\n      <td>-0.020807</td>\n      <td>0.029107</td>\n      <td>-0.002133</td>\n      <td>0.019340</td>\n    </tr>\n    <tr>\n      <th>...</th>\n      <td>...</td>\n      <td>...</td>\n      <td>...</td>\n      <td>...</td>\n      <td>...</td>\n      <td>...</td>\n      <td>...</td>\n      <td>...</td>\n      <td>...</td>\n      <td>...</td>\n      <td>...</td>\n      <td>...</td>\n      <td>...</td>\n      <td>...</td>\n      <td>...</td>\n      <td>...</td>\n      <td>...</td>\n      <td>...</td>\n      <td>...</td>\n      <td>...</td>\n      <td>...</td>\n    </tr>\n    <tr>\n      <th>3772</th>\n      <td>0.003097</td>\n      <td>0.015414</td>\n      <td>0.002951</td>\n      <td>0.002649</td>\n      <td>0.007441</td>\n      <td>0.001095</td>\n      <td>0.011592</td>\n      <td>0.010362</td>\n      <td>0.014395</td>\n      <td>0.006547</td>\n      <td>...</td>\n      <td>0.008926</td>\n      <td>-0.003484</td>\n      <td>-0.012017</td>\n      <td>-0.011759</td>\n      <td>0.002277</td>\n      <td>0.018993</td>\n      <td>-0.023954</td>\n      <td>-0.000210</td>\n      <td>-0.004704</td>\n      <td>0.008229</td>\n    </tr>\n    <tr>\n      <th>5191</th>\n      <td>0.007132</td>\n      <td>0.013129</td>\n      <td>0.014101</td>\n      <td>0.021214</td>\n      <td>0.013565</td>\n      <td>0.015900</td>\n      <td>0.015796</td>\n      <td>0.010775</td>\n      <td>0.013776</td>\n      <td>0.013283</td>\n      <td>...</td>\n      <td>0.001210</td>\n      <td>0.008158</td>\n      <td>0.011852</td>\n      <td>-0.005045</td>\n      <td>0.003832</td>\n      <td>0.013521</td>\n      <td>-0.004443</td>\n      <td>-0.012823</td>\n      <td>-0.009644</td>\n      <td>-0.012152</td>\n    </tr>\n    <tr>\n      <th>5226</th>\n      <td>-0.000191</td>\n      <td>0.011621</td>\n      <td>0.011086</td>\n      <td>0.000362</td>\n      <td>0.016573</td>\n      <td>0.013084</td>\n      <td>0.009530</td>\n      <td>0.014924</td>\n      <td>0.013303</td>\n      <td>0.016584</td>\n      <td>...</td>\n      <td>0.010853</td>\n      <td>-0.013247</td>\n      <td>0.010987</td>\n      <td>-0.024974</td>\n      <td>0.018700</td>\n      <td>0.020224</td>\n      <td>-0.002498</td>\n      <td>0.006564</td>\n      <td>-0.005990</td>\n      <td>0.001066</td>\n    </tr>\n    <tr>\n      <th>5390</th>\n      <td>0.007075</td>\n      <td>0.012788</td>\n      <td>0.015822</td>\n      <td>0.022289</td>\n      <td>0.014317</td>\n      <td>0.021546</td>\n      <td>0.014427</td>\n      <td>0.014277</td>\n      <td>0.012169</td>\n      <td>0.013622</td>\n      <td>...</td>\n      <td>0.021622</td>\n      <td>0.020584</td>\n      <td>0.016729</td>\n      <td>0.025567</td>\n      <td>0.003072</td>\n      <td>0.008798</td>\n      <td>-0.006647</td>\n      <td>-0.008011</td>\n      <td>-0.006607</td>\n      <td>-0.028820</td>\n    </tr>\n    <tr>\n      <th>860</th>\n      <td>0.004719</td>\n      <td>0.013275</td>\n      <td>0.002053</td>\n      <td>0.001787</td>\n      <td>0.014914</td>\n      <td>0.021215</td>\n      <td>0.013312</td>\n      <td>0.010316</td>\n      <td>0.014101</td>\n      <td>0.008981</td>\n      <td>...</td>\n      <td>0.018169</td>\n      <td>0.006744</td>\n      <td>-0.008431</td>\n      <td>-0.000970</td>\n      <td>0.006331</td>\n      <td>0.004168</td>\n      <td>-0.003443</td>\n      <td>-0.020323</td>\n      <td>-0.022885</td>\n      <td>-0.001793</td>\n    </tr>\n  </tbody>\n</table>\n<p>4428 rows × 128 columns</p>\n</div>"
     },
     "execution_count": 64,
     "metadata": {},
     "output_type": "execute_result"
    }
   ],
   "source": [
    "X_train"
   ],
   "metadata": {
    "collapsed": false
   }
  },
  {
   "cell_type": "code",
   "execution_count": 75,
   "outputs": [
    {
     "name": "stderr",
     "output_type": "stream",
     "text": [
      "/Users/pranoysarath/miniconda/envs/penv/lib/python3.10/site-packages/sklearn/utils/validation.py:1143: DataConversionWarning: A column-vector y was passed when a 1d array was expected. Please change the shape of y to (n_samples, ), for example using ravel().\n",
      "  y = column_or_1d(y, warn=True)\n"
     ]
    },
    {
     "name": "stdout",
     "output_type": "stream",
     "text": [
      "Train score 0.6271454381210478\n",
      "Test score 0.6278229448961157\n",
      "weighted_f1_score recalled 0.631984571101882\n",
      "f1_score recalled 0.6622950819672131\n",
      "f1 score Imagined 0.5855130784708249\n"
     ]
    }
   ],
   "source": [
    "from sklearn.linear_model import LogisticRegression\n",
    "\n",
    "clf = LogisticRegression(random_state=0).fit(X_train, y_train)\n",
    "print(\"Train score\", clf.score(X_train, y_train))\n",
    "print(\"Test score\", clf.score(X_test, y_test))\n",
    "\n",
    "print(\"weighted_f1_score recalled\", f1_score(clf.predict(X_test), y_test, average='weighted'))\n",
    "\n",
    "# print(\"f1_score recalled\", f1_score(clf.predict(X_test), y_test, pos_label='recalled'))\n",
    "# print(\"f1 score Imagined\", f1_score(clf.predict(X_test), y_test, pos_label='imagined'))\n"
   ],
   "metadata": {
    "collapsed": false
   }
  },
  {
   "cell_type": "code",
   "execution_count": 32,
   "outputs": [
    {
     "name": "stderr",
     "output_type": "stream",
     "text": [
      "/Users/pranoysarath/miniconda/envs/penv/lib/python3.10/site-packages/sklearn/utils/validation.py:1143: DataConversionWarning: A column-vector y was passed when a 1d array was expected. Please change the shape of y to (n_samples, ), for example using ravel().\n",
      "  y = column_or_1d(y, warn=True)\n",
      "/Users/pranoysarath/miniconda/envs/penv/lib/python3.10/site-packages/sklearn/utils/validation.py:1143: DataConversionWarning: A column-vector y was passed when a 1d array was expected. Please change the shape of y to (n_samples, ), for example using ravel().\n",
      "  y = column_or_1d(y, warn=True)\n",
      "/Users/pranoysarath/miniconda/envs/penv/lib/python3.10/site-packages/sklearn/utils/validation.py:1143: DataConversionWarning: A column-vector y was passed when a 1d array was expected. Please change the shape of y to (n_samples, ), for example using ravel().\n",
      "  y = column_or_1d(y, warn=True)\n",
      "/Users/pranoysarath/miniconda/envs/penv/lib/python3.10/site-packages/sklearn/utils/validation.py:1143: DataConversionWarning: A column-vector y was passed when a 1d array was expected. Please change the shape of y to (n_samples, ), for example using ravel().\n",
      "  y = column_or_1d(y, warn=True)\n",
      "/Users/pranoysarath/miniconda/envs/penv/lib/python3.10/site-packages/sklearn/utils/validation.py:1143: DataConversionWarning: A column-vector y was passed when a 1d array was expected. Please change the shape of y to (n_samples, ), for example using ravel().\n",
      "  y = column_or_1d(y, warn=True)\n",
      "/Users/pranoysarath/miniconda/envs/penv/lib/python3.10/site-packages/sklearn/utils/validation.py:1143: DataConversionWarning: A column-vector y was passed when a 1d array was expected. Please change the shape of y to (n_samples, ), for example using ravel().\n",
      "  y = column_or_1d(y, warn=True)\n",
      "/Users/pranoysarath/miniconda/envs/penv/lib/python3.10/site-packages/sklearn/utils/validation.py:1143: DataConversionWarning: A column-vector y was passed when a 1d array was expected. Please change the shape of y to (n_samples, ), for example using ravel().\n",
      "  y = column_or_1d(y, warn=True)\n",
      "/Users/pranoysarath/miniconda/envs/penv/lib/python3.10/site-packages/sklearn/utils/validation.py:1143: DataConversionWarning: A column-vector y was passed when a 1d array was expected. Please change the shape of y to (n_samples, ), for example using ravel().\n",
      "  y = column_or_1d(y, warn=True)\n",
      "/Users/pranoysarath/miniconda/envs/penv/lib/python3.10/site-packages/sklearn/utils/validation.py:1143: DataConversionWarning: A column-vector y was passed when a 1d array was expected. Please change the shape of y to (n_samples, ), for example using ravel().\n",
      "  y = column_or_1d(y, warn=True)\n",
      "/Users/pranoysarath/miniconda/envs/penv/lib/python3.10/site-packages/sklearn/utils/validation.py:1143: DataConversionWarning: A column-vector y was passed when a 1d array was expected. Please change the shape of y to (n_samples, ), for example using ravel().\n",
      "  y = column_or_1d(y, warn=True)\n",
      "/Users/pranoysarath/miniconda/envs/penv/lib/python3.10/site-packages/sklearn/utils/validation.py:1143: DataConversionWarning: A column-vector y was passed when a 1d array was expected. Please change the shape of y to (n_samples, ), for example using ravel().\n",
      "  y = column_or_1d(y, warn=True)\n",
      "/Users/pranoysarath/miniconda/envs/penv/lib/python3.10/site-packages/sklearn/utils/validation.py:1143: DataConversionWarning: A column-vector y was passed when a 1d array was expected. Please change the shape of y to (n_samples, ), for example using ravel().\n",
      "  y = column_or_1d(y, warn=True)\n",
      "/Users/pranoysarath/miniconda/envs/penv/lib/python3.10/site-packages/sklearn/utils/validation.py:1143: DataConversionWarning: A column-vector y was passed when a 1d array was expected. Please change the shape of y to (n_samples, ), for example using ravel().\n",
      "  y = column_or_1d(y, warn=True)\n",
      "/Users/pranoysarath/miniconda/envs/penv/lib/python3.10/site-packages/sklearn/utils/validation.py:1143: DataConversionWarning: A column-vector y was passed when a 1d array was expected. Please change the shape of y to (n_samples, ), for example using ravel().\n",
      "  y = column_or_1d(y, warn=True)\n",
      "/Users/pranoysarath/miniconda/envs/penv/lib/python3.10/site-packages/sklearn/utils/validation.py:1143: DataConversionWarning: A column-vector y was passed when a 1d array was expected. Please change the shape of y to (n_samples, ), for example using ravel().\n",
      "  y = column_or_1d(y, warn=True)\n",
      "/Users/pranoysarath/miniconda/envs/penv/lib/python3.10/site-packages/sklearn/utils/validation.py:1143: DataConversionWarning: A column-vector y was passed when a 1d array was expected. Please change the shape of y to (n_samples, ), for example using ravel().\n",
      "  y = column_or_1d(y, warn=True)\n",
      "/Users/pranoysarath/miniconda/envs/penv/lib/python3.10/site-packages/sklearn/utils/validation.py:1143: DataConversionWarning: A column-vector y was passed when a 1d array was expected. Please change the shape of y to (n_samples, ), for example using ravel().\n",
      "  y = column_or_1d(y, warn=True)\n",
      "/Users/pranoysarath/miniconda/envs/penv/lib/python3.10/site-packages/sklearn/utils/validation.py:1143: DataConversionWarning: A column-vector y was passed when a 1d array was expected. Please change the shape of y to (n_samples, ), for example using ravel().\n",
      "  y = column_or_1d(y, warn=True)\n",
      "/Users/pranoysarath/miniconda/envs/penv/lib/python3.10/site-packages/sklearn/utils/validation.py:1143: DataConversionWarning: A column-vector y was passed when a 1d array was expected. Please change the shape of y to (n_samples, ), for example using ravel().\n",
      "  y = column_or_1d(y, warn=True)\n",
      "/Users/pranoysarath/miniconda/envs/penv/lib/python3.10/site-packages/sklearn/utils/validation.py:1143: DataConversionWarning: A column-vector y was passed when a 1d array was expected. Please change the shape of y to (n_samples, ), for example using ravel().\n",
      "  y = column_or_1d(y, warn=True)\n",
      "/Users/pranoysarath/miniconda/envs/penv/lib/python3.10/site-packages/sklearn/utils/validation.py:1143: DataConversionWarning: A column-vector y was passed when a 1d array was expected. Please change the shape of y to (n_samples, ), for example using ravel().\n",
      "  y = column_or_1d(y, warn=True)\n",
      "/Users/pranoysarath/miniconda/envs/penv/lib/python3.10/site-packages/sklearn/utils/validation.py:1143: DataConversionWarning: A column-vector y was passed when a 1d array was expected. Please change the shape of y to (n_samples, ), for example using ravel().\n",
      "  y = column_or_1d(y, warn=True)\n",
      "/Users/pranoysarath/miniconda/envs/penv/lib/python3.10/site-packages/sklearn/utils/validation.py:1143: DataConversionWarning: A column-vector y was passed when a 1d array was expected. Please change the shape of y to (n_samples, ), for example using ravel().\n",
      "  y = column_or_1d(y, warn=True)\n",
      "/Users/pranoysarath/miniconda/envs/penv/lib/python3.10/site-packages/sklearn/utils/validation.py:1143: DataConversionWarning: A column-vector y was passed when a 1d array was expected. Please change the shape of y to (n_samples, ), for example using ravel().\n",
      "  y = column_or_1d(y, warn=True)\n",
      "/Users/pranoysarath/miniconda/envs/penv/lib/python3.10/site-packages/sklearn/utils/validation.py:1143: DataConversionWarning: A column-vector y was passed when a 1d array was expected. Please change the shape of y to (n_samples, ), for example using ravel().\n",
      "  y = column_or_1d(y, warn=True)\n",
      "/Users/pranoysarath/miniconda/envs/penv/lib/python3.10/site-packages/sklearn/linear_model/_logistic.py:1173: FutureWarning: `penalty='none'`has been deprecated in 1.2 and will be removed in 1.4. To keep the past behaviour, set `penalty=None`.\n",
      "  warnings.warn(\n",
      "/Users/pranoysarath/miniconda/envs/penv/lib/python3.10/site-packages/sklearn/utils/validation.py:1143: DataConversionWarning: A column-vector y was passed when a 1d array was expected. Please change the shape of y to (n_samples, ), for example using ravel().\n",
      "  y = column_or_1d(y, warn=True)\n",
      "/Users/pranoysarath/miniconda/envs/penv/lib/python3.10/site-packages/sklearn/linear_model/_logistic.py:458: ConvergenceWarning: lbfgs failed to converge (status=1):\n",
      "STOP: TOTAL NO. of ITERATIONS REACHED LIMIT.\n",
      "\n",
      "Increase the number of iterations (max_iter) or scale the data as shown in:\n",
      "    https://scikit-learn.org/stable/modules/preprocessing.html\n",
      "Please also refer to the documentation for alternative solver options:\n",
      "    https://scikit-learn.org/stable/modules/linear_model.html#logistic-regression\n",
      "  n_iter_i = _check_optimize_result(\n",
      "/Users/pranoysarath/miniconda/envs/penv/lib/python3.10/site-packages/sklearn/linear_model/_logistic.py:1173: FutureWarning: `penalty='none'`has been deprecated in 1.2 and will be removed in 1.4. To keep the past behaviour, set `penalty=None`.\n",
      "  warnings.warn(\n",
      "/Users/pranoysarath/miniconda/envs/penv/lib/python3.10/site-packages/sklearn/utils/validation.py:1143: DataConversionWarning: A column-vector y was passed when a 1d array was expected. Please change the shape of y to (n_samples, ), for example using ravel().\n",
      "  y = column_or_1d(y, warn=True)\n",
      "/Users/pranoysarath/miniconda/envs/penv/lib/python3.10/site-packages/sklearn/linear_model/_logistic.py:458: ConvergenceWarning: lbfgs failed to converge (status=1):\n",
      "STOP: TOTAL NO. of ITERATIONS REACHED LIMIT.\n",
      "\n",
      "Increase the number of iterations (max_iter) or scale the data as shown in:\n",
      "    https://scikit-learn.org/stable/modules/preprocessing.html\n",
      "Please also refer to the documentation for alternative solver options:\n",
      "    https://scikit-learn.org/stable/modules/linear_model.html#logistic-regression\n",
      "  n_iter_i = _check_optimize_result(\n",
      "/Users/pranoysarath/miniconda/envs/penv/lib/python3.10/site-packages/sklearn/linear_model/_logistic.py:1173: FutureWarning: `penalty='none'`has been deprecated in 1.2 and will be removed in 1.4. To keep the past behaviour, set `penalty=None`.\n",
      "  warnings.warn(\n",
      "/Users/pranoysarath/miniconda/envs/penv/lib/python3.10/site-packages/sklearn/utils/validation.py:1143: DataConversionWarning: A column-vector y was passed when a 1d array was expected. Please change the shape of y to (n_samples, ), for example using ravel().\n",
      "  y = column_or_1d(y, warn=True)\n",
      "/Users/pranoysarath/miniconda/envs/penv/lib/python3.10/site-packages/sklearn/linear_model/_logistic.py:458: ConvergenceWarning: lbfgs failed to converge (status=1):\n",
      "STOP: TOTAL NO. of ITERATIONS REACHED LIMIT.\n",
      "\n",
      "Increase the number of iterations (max_iter) or scale the data as shown in:\n",
      "    https://scikit-learn.org/stable/modules/preprocessing.html\n",
      "Please also refer to the documentation for alternative solver options:\n",
      "    https://scikit-learn.org/stable/modules/linear_model.html#logistic-regression\n",
      "  n_iter_i = _check_optimize_result(\n",
      "/Users/pranoysarath/miniconda/envs/penv/lib/python3.10/site-packages/sklearn/linear_model/_logistic.py:1173: FutureWarning: `penalty='none'`has been deprecated in 1.2 and will be removed in 1.4. To keep the past behaviour, set `penalty=None`.\n",
      "  warnings.warn(\n",
      "/Users/pranoysarath/miniconda/envs/penv/lib/python3.10/site-packages/sklearn/utils/validation.py:1143: DataConversionWarning: A column-vector y was passed when a 1d array was expected. Please change the shape of y to (n_samples, ), for example using ravel().\n",
      "  y = column_or_1d(y, warn=True)\n",
      "/Users/pranoysarath/miniconda/envs/penv/lib/python3.10/site-packages/sklearn/linear_model/_logistic.py:458: ConvergenceWarning: lbfgs failed to converge (status=1):\n",
      "STOP: TOTAL NO. of ITERATIONS REACHED LIMIT.\n",
      "\n",
      "Increase the number of iterations (max_iter) or scale the data as shown in:\n",
      "    https://scikit-learn.org/stable/modules/preprocessing.html\n",
      "Please also refer to the documentation for alternative solver options:\n",
      "    https://scikit-learn.org/stable/modules/linear_model.html#logistic-regression\n",
      "  n_iter_i = _check_optimize_result(\n",
      "/Users/pranoysarath/miniconda/envs/penv/lib/python3.10/site-packages/sklearn/linear_model/_logistic.py:1173: FutureWarning: `penalty='none'`has been deprecated in 1.2 and will be removed in 1.4. To keep the past behaviour, set `penalty=None`.\n",
      "  warnings.warn(\n",
      "/Users/pranoysarath/miniconda/envs/penv/lib/python3.10/site-packages/sklearn/utils/validation.py:1143: DataConversionWarning: A column-vector y was passed when a 1d array was expected. Please change the shape of y to (n_samples, ), for example using ravel().\n",
      "  y = column_or_1d(y, warn=True)\n",
      "/Users/pranoysarath/miniconda/envs/penv/lib/python3.10/site-packages/sklearn/linear_model/_logistic.py:458: ConvergenceWarning: lbfgs failed to converge (status=1):\n",
      "STOP: TOTAL NO. of ITERATIONS REACHED LIMIT.\n",
      "\n",
      "Increase the number of iterations (max_iter) or scale the data as shown in:\n",
      "    https://scikit-learn.org/stable/modules/preprocessing.html\n",
      "Please also refer to the documentation for alternative solver options:\n",
      "    https://scikit-learn.org/stable/modules/linear_model.html#logistic-regression\n",
      "  n_iter_i = _check_optimize_result(\n",
      "/Users/pranoysarath/miniconda/envs/penv/lib/python3.10/site-packages/sklearn/utils/validation.py:1143: DataConversionWarning: A column-vector y was passed when a 1d array was expected. Please change the shape of y to (n_samples, ), for example using ravel().\n",
      "  y = column_or_1d(y, warn=True)\n",
      "/Users/pranoysarath/miniconda/envs/penv/lib/python3.10/site-packages/sklearn/utils/validation.py:1143: DataConversionWarning: A column-vector y was passed when a 1d array was expected. Please change the shape of y to (n_samples, ), for example using ravel().\n",
      "  y = column_or_1d(y, warn=True)\n",
      "/Users/pranoysarath/miniconda/envs/penv/lib/python3.10/site-packages/sklearn/utils/validation.py:1143: DataConversionWarning: A column-vector y was passed when a 1d array was expected. Please change the shape of y to (n_samples, ), for example using ravel().\n",
      "  y = column_or_1d(y, warn=True)\n",
      "/Users/pranoysarath/miniconda/envs/penv/lib/python3.10/site-packages/sklearn/utils/validation.py:1143: DataConversionWarning: A column-vector y was passed when a 1d array was expected. Please change the shape of y to (n_samples, ), for example using ravel().\n",
      "  y = column_or_1d(y, warn=True)\n",
      "/Users/pranoysarath/miniconda/envs/penv/lib/python3.10/site-packages/sklearn/utils/validation.py:1143: DataConversionWarning: A column-vector y was passed when a 1d array was expected. Please change the shape of y to (n_samples, ), for example using ravel().\n",
      "  y = column_or_1d(y, warn=True)\n",
      "/Users/pranoysarath/miniconda/envs/penv/lib/python3.10/site-packages/sklearn/utils/validation.py:1143: DataConversionWarning: A column-vector y was passed when a 1d array was expected. Please change the shape of y to (n_samples, ), for example using ravel().\n",
      "  y = column_or_1d(y, warn=True)\n",
      "/Users/pranoysarath/miniconda/envs/penv/lib/python3.10/site-packages/sklearn/utils/validation.py:1143: DataConversionWarning: A column-vector y was passed when a 1d array was expected. Please change the shape of y to (n_samples, ), for example using ravel().\n",
      "  y = column_or_1d(y, warn=True)\n",
      "/Users/pranoysarath/miniconda/envs/penv/lib/python3.10/site-packages/sklearn/utils/validation.py:1143: DataConversionWarning: A column-vector y was passed when a 1d array was expected. Please change the shape of y to (n_samples, ), for example using ravel().\n",
      "  y = column_or_1d(y, warn=True)\n",
      "/Users/pranoysarath/miniconda/envs/penv/lib/python3.10/site-packages/sklearn/utils/validation.py:1143: DataConversionWarning: A column-vector y was passed when a 1d array was expected. Please change the shape of y to (n_samples, ), for example using ravel().\n",
      "  y = column_or_1d(y, warn=True)\n",
      "/Users/pranoysarath/miniconda/envs/penv/lib/python3.10/site-packages/sklearn/utils/validation.py:1143: DataConversionWarning: A column-vector y was passed when a 1d array was expected. Please change the shape of y to (n_samples, ), for example using ravel().\n",
      "  y = column_or_1d(y, warn=True)\n",
      "/Users/pranoysarath/miniconda/envs/penv/lib/python3.10/site-packages/sklearn/utils/validation.py:1143: DataConversionWarning: A column-vector y was passed when a 1d array was expected. Please change the shape of y to (n_samples, ), for example using ravel().\n",
      "  y = column_or_1d(y, warn=True)\n",
      "/Users/pranoysarath/miniconda/envs/penv/lib/python3.10/site-packages/sklearn/utils/validation.py:1143: DataConversionWarning: A column-vector y was passed when a 1d array was expected. Please change the shape of y to (n_samples, ), for example using ravel().\n",
      "  y = column_or_1d(y, warn=True)\n",
      "/Users/pranoysarath/miniconda/envs/penv/lib/python3.10/site-packages/sklearn/utils/validation.py:1143: DataConversionWarning: A column-vector y was passed when a 1d array was expected. Please change the shape of y to (n_samples, ), for example using ravel().\n",
      "  y = column_or_1d(y, warn=True)\n",
      "/Users/pranoysarath/miniconda/envs/penv/lib/python3.10/site-packages/sklearn/utils/validation.py:1143: DataConversionWarning: A column-vector y was passed when a 1d array was expected. Please change the shape of y to (n_samples, ), for example using ravel().\n",
      "  y = column_or_1d(y, warn=True)\n",
      "/Users/pranoysarath/miniconda/envs/penv/lib/python3.10/site-packages/sklearn/utils/validation.py:1143: DataConversionWarning: A column-vector y was passed when a 1d array was expected. Please change the shape of y to (n_samples, ), for example using ravel().\n",
      "  y = column_or_1d(y, warn=True)\n",
      "/Users/pranoysarath/miniconda/envs/penv/lib/python3.10/site-packages/sklearn/utils/validation.py:1143: DataConversionWarning: A column-vector y was passed when a 1d array was expected. Please change the shape of y to (n_samples, ), for example using ravel().\n",
      "  y = column_or_1d(y, warn=True)\n",
      "/Users/pranoysarath/miniconda/envs/penv/lib/python3.10/site-packages/sklearn/utils/validation.py:1143: DataConversionWarning: A column-vector y was passed when a 1d array was expected. Please change the shape of y to (n_samples, ), for example using ravel().\n",
      "  y = column_or_1d(y, warn=True)\n",
      "/Users/pranoysarath/miniconda/envs/penv/lib/python3.10/site-packages/sklearn/utils/validation.py:1143: DataConversionWarning: A column-vector y was passed when a 1d array was expected. Please change the shape of y to (n_samples, ), for example using ravel().\n",
      "  y = column_or_1d(y, warn=True)\n",
      "/Users/pranoysarath/miniconda/envs/penv/lib/python3.10/site-packages/sklearn/utils/validation.py:1143: DataConversionWarning: A column-vector y was passed when a 1d array was expected. Please change the shape of y to (n_samples, ), for example using ravel().\n",
      "  y = column_or_1d(y, warn=True)\n",
      "/Users/pranoysarath/miniconda/envs/penv/lib/python3.10/site-packages/sklearn/utils/validation.py:1143: DataConversionWarning: A column-vector y was passed when a 1d array was expected. Please change the shape of y to (n_samples, ), for example using ravel().\n",
      "  y = column_or_1d(y, warn=True)\n",
      "/Users/pranoysarath/miniconda/envs/penv/lib/python3.10/site-packages/sklearn/utils/validation.py:1143: DataConversionWarning: A column-vector y was passed when a 1d array was expected. Please change the shape of y to (n_samples, ), for example using ravel().\n",
      "  y = column_or_1d(y, warn=True)\n",
      "/Users/pranoysarath/miniconda/envs/penv/lib/python3.10/site-packages/sklearn/utils/validation.py:1143: DataConversionWarning: A column-vector y was passed when a 1d array was expected. Please change the shape of y to (n_samples, ), for example using ravel().\n",
      "  y = column_or_1d(y, warn=True)\n",
      "/Users/pranoysarath/miniconda/envs/penv/lib/python3.10/site-packages/sklearn/utils/validation.py:1143: DataConversionWarning: A column-vector y was passed when a 1d array was expected. Please change the shape of y to (n_samples, ), for example using ravel().\n",
      "  y = column_or_1d(y, warn=True)\n",
      "/Users/pranoysarath/miniconda/envs/penv/lib/python3.10/site-packages/sklearn/utils/validation.py:1143: DataConversionWarning: A column-vector y was passed when a 1d array was expected. Please change the shape of y to (n_samples, ), for example using ravel().\n",
      "  y = column_or_1d(y, warn=True)\n",
      "/Users/pranoysarath/miniconda/envs/penv/lib/python3.10/site-packages/sklearn/utils/validation.py:1143: DataConversionWarning: A column-vector y was passed when a 1d array was expected. Please change the shape of y to (n_samples, ), for example using ravel().\n",
      "  y = column_or_1d(y, warn=True)\n",
      "/Users/pranoysarath/miniconda/envs/penv/lib/python3.10/site-packages/sklearn/utils/validation.py:1143: DataConversionWarning: A column-vector y was passed when a 1d array was expected. Please change the shape of y to (n_samples, ), for example using ravel().\n",
      "  y = column_or_1d(y, warn=True)\n",
      "/Users/pranoysarath/miniconda/envs/penv/lib/python3.10/site-packages/sklearn/utils/validation.py:1143: DataConversionWarning: A column-vector y was passed when a 1d array was expected. Please change the shape of y to (n_samples, ), for example using ravel().\n",
      "  y = column_or_1d(y, warn=True)\n",
      "/Users/pranoysarath/miniconda/envs/penv/lib/python3.10/site-packages/sklearn/utils/validation.py:1143: DataConversionWarning: A column-vector y was passed when a 1d array was expected. Please change the shape of y to (n_samples, ), for example using ravel().\n",
      "  y = column_or_1d(y, warn=True)\n",
      "/Users/pranoysarath/miniconda/envs/penv/lib/python3.10/site-packages/sklearn/utils/validation.py:1143: DataConversionWarning: A column-vector y was passed when a 1d array was expected. Please change the shape of y to (n_samples, ), for example using ravel().\n",
      "  y = column_or_1d(y, warn=True)\n",
      "/Users/pranoysarath/miniconda/envs/penv/lib/python3.10/site-packages/sklearn/utils/validation.py:1143: DataConversionWarning: A column-vector y was passed when a 1d array was expected. Please change the shape of y to (n_samples, ), for example using ravel().\n",
      "  y = column_or_1d(y, warn=True)\n",
      "/Users/pranoysarath/miniconda/envs/penv/lib/python3.10/site-packages/sklearn/utils/validation.py:1143: DataConversionWarning: A column-vector y was passed when a 1d array was expected. Please change the shape of y to (n_samples, ), for example using ravel().\n",
      "  y = column_or_1d(y, warn=True)\n",
      "/Users/pranoysarath/miniconda/envs/penv/lib/python3.10/site-packages/sklearn/utils/validation.py:1143: DataConversionWarning: A column-vector y was passed when a 1d array was expected. Please change the shape of y to (n_samples, ), for example using ravel().\n",
      "  y = column_or_1d(y, warn=True)\n",
      "/Users/pranoysarath/miniconda/envs/penv/lib/python3.10/site-packages/sklearn/utils/validation.py:1143: DataConversionWarning: A column-vector y was passed when a 1d array was expected. Please change the shape of y to (n_samples, ), for example using ravel().\n",
      "  y = column_or_1d(y, warn=True)\n",
      "/Users/pranoysarath/miniconda/envs/penv/lib/python3.10/site-packages/sklearn/utils/validation.py:1143: DataConversionWarning: A column-vector y was passed when a 1d array was expected. Please change the shape of y to (n_samples, ), for example using ravel().\n",
      "  y = column_or_1d(y, warn=True)\n",
      "/Users/pranoysarath/miniconda/envs/penv/lib/python3.10/site-packages/sklearn/utils/validation.py:1143: DataConversionWarning: A column-vector y was passed when a 1d array was expected. Please change the shape of y to (n_samples, ), for example using ravel().\n",
      "  y = column_or_1d(y, warn=True)\n",
      "/Users/pranoysarath/miniconda/envs/penv/lib/python3.10/site-packages/sklearn/model_selection/_validation.py:378: FitFailedWarning: \n",
      "10 fits failed out of a total of 75.\n",
      "The score on these train-test partitions for these parameters will be set to nan.\n",
      "If these failures are not expected, you can try to debug them by setting error_score='raise'.\n",
      "\n",
      "Below are more details about the failures:\n",
      "--------------------------------------------------------------------------------\n",
      "5 fits failed with the following error:\n",
      "Traceback (most recent call last):\n",
      "  File \"/Users/pranoysarath/miniconda/envs/penv/lib/python3.10/site-packages/sklearn/model_selection/_validation.py\", line 686, in _fit_and_score\n",
      "    estimator.fit(X_train, y_train, **fit_params)\n",
      "  File \"/Users/pranoysarath/miniconda/envs/penv/lib/python3.10/site-packages/sklearn/linear_model/_logistic.py\", line 1162, in fit\n",
      "    solver = _check_solver(self.solver, self.penalty, self.dual)\n",
      "  File \"/Users/pranoysarath/miniconda/envs/penv/lib/python3.10/site-packages/sklearn/linear_model/_logistic.py\", line 54, in _check_solver\n",
      "    raise ValueError(\n",
      "ValueError: Solver lbfgs supports only 'l2' or 'none' penalties, got elasticnet penalty.\n",
      "\n",
      "--------------------------------------------------------------------------------\n",
      "5 fits failed with the following error:\n",
      "Traceback (most recent call last):\n",
      "  File \"/Users/pranoysarath/miniconda/envs/penv/lib/python3.10/site-packages/sklearn/model_selection/_validation.py\", line 686, in _fit_and_score\n",
      "    estimator.fit(X_train, y_train, **fit_params)\n",
      "  File \"/Users/pranoysarath/miniconda/envs/penv/lib/python3.10/site-packages/sklearn/linear_model/_logistic.py\", line 1162, in fit\n",
      "    solver = _check_solver(self.solver, self.penalty, self.dual)\n",
      "  File \"/Users/pranoysarath/miniconda/envs/penv/lib/python3.10/site-packages/sklearn/linear_model/_logistic.py\", line 54, in _check_solver\n",
      "    raise ValueError(\n",
      "ValueError: Solver lbfgs supports only 'l2' or 'none' penalties, got l1 penalty.\n",
      "\n",
      "  warnings.warn(some_fits_failed_message, FitFailedWarning)\n",
      "/Users/pranoysarath/miniconda/envs/penv/lib/python3.10/site-packages/sklearn/model_selection/_search.py:952: UserWarning: One or more of the test scores are non-finite: [0.62466261 0.62466261 0.62466261 0.62488809 0.62511433 0.65921083\n",
      "        nan        nan 0.62466261 0.50338753 0.50338753 0.52393797\n",
      " 0.62466261 0.64092104 0.6583107 ]\n",
      "  warnings.warn(\n",
      "/Users/pranoysarath/miniconda/envs/penv/lib/python3.10/site-packages/sklearn/linear_model/_logistic.py:1173: FutureWarning: `penalty='none'`has been deprecated in 1.2 and will be removed in 1.4. To keep the past behaviour, set `penalty=None`.\n",
      "  warnings.warn(\n",
      "/Users/pranoysarath/miniconda/envs/penv/lib/python3.10/site-packages/sklearn/utils/validation.py:1143: DataConversionWarning: A column-vector y was passed when a 1d array was expected. Please change the shape of y to (n_samples, ), for example using ravel().\n",
      "  y = column_or_1d(y, warn=True)\n",
      "/Users/pranoysarath/miniconda/envs/penv/lib/python3.10/site-packages/sklearn/linear_model/_logistic.py:458: ConvergenceWarning: lbfgs failed to converge (status=1):\n",
      "STOP: TOTAL NO. of ITERATIONS REACHED LIMIT.\n",
      "\n",
      "Increase the number of iterations (max_iter) or scale the data as shown in:\n",
      "    https://scikit-learn.org/stable/modules/preprocessing.html\n",
      "Please also refer to the documentation for alternative solver options:\n",
      "    https://scikit-learn.org/stable/modules/linear_model.html#logistic-regression\n",
      "  n_iter_i = _check_optimize_result(\n"
     ]
    },
    {
     "name": "stdout",
     "output_type": "stream",
     "text": [
      "Train score 0.6666666666666666\n",
      "Test score 0.6513098464317977\n",
      "f1 score recalled 0.6547406082289803\n",
      "f1 score Imagined 0.6478102189781022\n"
     ]
    },
    {
     "data": {
      "text/plain": "array([0., 0., 0., 0., 0., 0., 0., 0., 0., 0., 0., 0., 0., 0., 0., 0., 0.,\n       0., 0., 0., 0., 0., 0., 0., 0., 0., 0., 0.])"
     },
     "execution_count": 32,
     "metadata": {},
     "output_type": "execute_result"
    }
   ],
   "source": [
    "from sklearn.model_selection import GridSearchCV\n",
    "from sklearn.inspection import permutation_importance\n",
    "parameters = parameters = [{'solver': ['newton-cg', 'lbfgs', 'liblinear', 'sag', 'saga']},\n",
    "              {'penalty':['none', 'elasticnet', 'l1', 'l2']},\n",
    "              {'C':[0.001, 0.01, 0.1, 1, 10, 100]}]\n",
    "grid_search = GridSearchCV(estimator = LogisticRegression(random_state=0),\n",
    "                           param_grid = parameters,\n",
    "                           scoring = 'accuracy',\n",
    "                           cv = 5,\n",
    "                           verbose=0)\n",
    "\n",
    "\n",
    "grid_search.fit(X_train, y_train)\n",
    "print(\"Train score\", grid_search.score(X_train, y_train))\n",
    "print(\"Test score\", grid_search.score(X_test, y_test))\n",
    "\n",
    "\n",
    "print(\"f1 score recalled\", f1_score(grid_search.predict(X_test), y_test, pos_label='recalled'))\n",
    "print(\"f1 score Imagined\", f1_score(grid_search.predict(X_test), y_test, pos_label='imagined'))\n",
    "\n",
    "\n",
    "model_fi = permutation_importance(grid_search, X, y)\n",
    "model_fi['importances_mean']"
   ],
   "metadata": {
    "collapsed": false
   }
  },
  {
   "cell_type": "code",
   "execution_count": 10,
   "outputs": [
    {
     "name": "stderr",
     "output_type": "stream",
     "text": [
      "/Users/pranoysarath/miniconda/envs/penv/lib/python3.10/site-packages/sklearn/preprocessing/_label.py:134: DataConversionWarning: A column-vector y was passed when a 1d array was expected. Please change the shape of y to (n_samples, ), for example using ravel().\n",
      "  y = column_or_1d(y, dtype=self.classes_.dtype, warn=True)\n",
      "/Users/pranoysarath/miniconda/envs/penv/lib/python3.10/site-packages/sklearn/preprocessing/_label.py:134: DataConversionWarning: A column-vector y was passed when a 1d array was expected. Please change the shape of y to (n_samples, ), for example using ravel().\n",
      "  y = column_or_1d(y, dtype=self.classes_.dtype, warn=True)\n"
     ]
    },
    {
     "name": "stdout",
     "output_type": "stream",
     "text": [
      "Train score 1.0\n",
      "Test score 0.6621499548328816\n",
      "f1 score weighted 0.6537037037037037\n",
      "f1 score recalled 0.6701940035273368\n",
      "f1 score Imagined 0.6537037037037037\n"
     ]
    },
    {
     "data": {
      "text/plain": "<AxesSubplot: title={'center': 'Feature Importance (Top 26 features)'}, xlabel='F score', ylabel='Features'>"
     },
     "execution_count": 10,
     "metadata": {},
     "output_type": "execute_result"
    },
    {
     "data": {
      "text/plain": "<Figure size 640x480 with 1 Axes>",
      "image/png": "[encoded data removed]"
     },
     "metadata": {},
     "output_type": "display_data"
    }
   ],
   "source": [
    "from sklearn.preprocessing import LabelEncoder\n",
    "import xgboost as xgb\n",
    "from xgboost import plot_importance\n",
    "xgb_model = xgb.XGBClassifier(objective=\"binary:logistic\", random_state=42)\n",
    "le = LabelEncoder()\n",
    "le.fit(['recalled', 'imagined'])\n",
    "\n",
    "y_train_xg = le.transform(y_train)\n",
    "y_test_xg = le.transform(y_test)\n",
    "\n",
    "xgb_model.fit(X_train, y_train_xg)\n",
    "print(\"Train score\", xgb_model.score(X_train, y_train_xg))\n",
    "print(\"Test score\", xgb_model.score(X_test, y_test_xg))\n",
    "print(\"f1 score weighted\", f1_score(xgb_model.predict(X_test), y_test_xg))\n",
    "\n",
    "\n",
    "print(\"f1 score recalled\", f1_score(xgb_model.predict(X_test), y_test_xg, pos_label=0))\n",
    "print(\"f1 score Imagined\", f1_score(xgb_model.predict(X_test), y_test_xg, pos_label=1))\n",
    "plot_importance(xgb_model, title= 'Feature Importance (Top 26 features)')"
   ],
   "metadata": {
    "collapsed": false
   }
  },
  {
   "cell_type": "code",
   "execution_count": 65,
   "outputs": [
    {
     "name": "stdout",
     "output_type": "stream",
     "text": [
      "The best score is 0.6752\n",
      "The best score standard deviation is 0.0073\n",
      "Train score 1.0\n",
      "Test score 0.6181818181818182\n"
     ]
    }
   ],
   "source": [
    "from xgboost import XGBClassifier\n",
    "import xgboost\n",
    "from sklearn.model_selection import StratifiedKFold\n",
    "from sklearn.model_selection import GridSearchCV\n",
    "# Define the search space\n",
    "param_grid = {\n",
    "    # Percentage of columns to be randomly samples for each tree.\n",
    "    \"colsample_bytree\": [ 0.3, 0.5 , 0.8 ],\n",
    "    # reg_alpha provides l1 regularization to the weight, higher values result in more conservative models\n",
    "    \"reg_alpha\": [0, 0.5, 1, 5],\n",
    "    # reg_lambda provides l2 regularization to the weight, higher values result in more conservative models\n",
    "    \"reg_lambda\": [0, 0.5, 1, 5]\n",
    "    }\n",
    "# Set up score\n",
    "scoring = ['recall']\n",
    "# Set up the k-fold cross-validation\n",
    "kfold = StratifiedKFold(n_splits=3, shuffle=True, random_state=0)\n",
    "# Define grid search\n",
    "grid_search = GridSearchCV(estimator=XGBClassifier(),\n",
    "                           param_grid=param_grid,\n",
    "                           scoring=scoring,\n",
    "                           refit='recall',\n",
    "                           n_jobs=-1,\n",
    "                           cv=kfold,\n",
    "                           verbose=0)\n",
    "# Fit grid search\n",
    "grid_result = grid_search.fit(X_train, y_train_xg)\n",
    "# Print grid search summary\n",
    "grid_result\n",
    "# Print the best score and the corresponding hyperparameters\n",
    "print(f'The best score is {grid_result.best_score_:.4f}')\n",
    "print('The best score standard deviation is', round(grid_result.cv_results_['std_test_recall'][grid_result.best_index_], 4))\n",
    "# print(f'The best hyperparameters are {grid_result.best_params_}')\n",
    "\n",
    "print(\"Train score\", grid_search.score(X_train, y_train_xg))\n",
    "print(\"Test score\", grid_search.score(X_test, y_test_xg))\n",
    "# plot_importance(grid_search)"
   ],
   "metadata": {
    "collapsed": false
   }
  },
  {
   "cell_type": "code",
   "execution_count": 70,
   "outputs": [
    {
     "name": "stderr",
     "output_type": "stream",
     "text": [
      "/Users/pranoysarath/miniconda/envs/penv/lib/python3.10/site-packages/sklearn/utils/validation.py:1143: DataConversionWarning: A column-vector y was passed when a 1d array was expected. Please change the shape of y to (n_samples, ), for example using ravel().\n",
      "  y = column_or_1d(y, warn=True)\n"
     ]
    },
    {
     "name": "stdout",
     "output_type": "stream",
     "text": [
      "Train score 0.7529358626919602\n",
      "Test score 0.6540198735320687\n",
      "f1 score recalled 0.651501364877161\n",
      "f1 score Imagined 0.6565022421524663\n"
     ]
    }
   ],
   "source": [
    "import numpy as np\n",
    "from sklearn.pipeline import make_pipeline\n",
    "from sklearn.preprocessing import StandardScaler\n",
    "from sklearn.svm import SVC\n",
    "clf = make_pipeline(StandardScaler(), SVC(gamma='auto'))\n",
    "clf.fit(X_train, y_train)\n",
    "print(\"Train score\", clf.score(X_train, y_train))\n",
    "print(\"Test score\", clf.score(X_test, y_test))\n",
    "\n",
    "\n",
    "print(\"f1 score recalled\", f1_score(clf.predict(X_test), y_test, pos_label='recalled'))\n",
    "print(\"f1 score Imagined\", f1_score(clf.predict(X_test), y_test, pos_label='imagined'))"
   ],
   "metadata": {
    "collapsed": false
   }
  },
  {
   "cell_type": "code",
   "execution_count": 49,
   "outputs": [
    {
     "name": "stdout",
     "output_type": "stream",
     "text": [
      "Fitting 5 folds for each of 25 candidates, totalling 125 fits\n"
     ]
    },
    {
     "name": "stderr",
     "output_type": "stream",
     "text": [
      "/Users/pranoysarath/miniconda/envs/penv/lib/python3.10/site-packages/sklearn/utils/validation.py:1143: DataConversionWarning: A column-vector y was passed when a 1d array was expected. Please change the shape of y to (n_samples, ), for example using ravel().\n",
      "  y = column_or_1d(y, warn=True)\n"
     ]
    },
    {
     "name": "stdout",
     "output_type": "stream",
     "text": [
      "[CV 1/5] END ........C=0.1, gamma=1, kernel=rbf;, score=0.503 total time=   0.9s\n"
     ]
    },
    {
     "name": "stderr",
     "output_type": "stream",
     "text": [
      "/Users/pranoysarath/miniconda/envs/penv/lib/python3.10/site-packages/sklearn/utils/validation.py:1143: DataConversionWarning: A column-vector y was passed when a 1d array was expected. Please change the shape of y to (n_samples, ), for example using ravel().\n",
      "  y = column_or_1d(y, warn=True)\n"
     ]
    },
    {
     "name": "stdout",
     "output_type": "stream",
     "text": [
      "[CV 2/5] END ........C=0.1, gamma=1, kernel=rbf;, score=0.503 total time=   0.8s\n"
     ]
    },
    {
     "name": "stderr",
     "output_type": "stream",
     "text": [
      "/Users/pranoysarath/miniconda/envs/penv/lib/python3.10/site-packages/sklearn/utils/validation.py:1143: DataConversionWarning: A column-vector y was passed when a 1d array was expected. Please change the shape of y to (n_samples, ), for example using ravel().\n",
      "  y = column_or_1d(y, warn=True)\n"
     ]
    },
    {
     "name": "stdout",
     "output_type": "stream",
     "text": [
      "[CV 3/5] END ........C=0.1, gamma=1, kernel=rbf;, score=0.503 total time=   0.8s\n"
     ]
    },
    {
     "name": "stderr",
     "output_type": "stream",
     "text": [
      "/Users/pranoysarath/miniconda/envs/penv/lib/python3.10/site-packages/sklearn/utils/validation.py:1143: DataConversionWarning: A column-vector y was passed when a 1d array was expected. Please change the shape of y to (n_samples, ), for example using ravel().\n",
      "  y = column_or_1d(y, warn=True)\n"
     ]
    },
    {
     "name": "stdout",
     "output_type": "stream",
     "text": [
      "[CV 4/5] END ........C=0.1, gamma=1, kernel=rbf;, score=0.504 total time=   0.8s\n"
     ]
    },
    {
     "name": "stderr",
     "output_type": "stream",
     "text": [
      "/Users/pranoysarath/miniconda/envs/penv/lib/python3.10/site-packages/sklearn/utils/validation.py:1143: DataConversionWarning: A column-vector y was passed when a 1d array was expected. Please change the shape of y to (n_samples, ), for example using ravel().\n",
      "  y = column_or_1d(y, warn=True)\n"
     ]
    },
    {
     "name": "stdout",
     "output_type": "stream",
     "text": [
      "[CV 5/5] END ........C=0.1, gamma=1, kernel=rbf;, score=0.503 total time=   0.8s\n"
     ]
    },
    {
     "name": "stderr",
     "output_type": "stream",
     "text": [
      "/Users/pranoysarath/miniconda/envs/penv/lib/python3.10/site-packages/sklearn/utils/validation.py:1143: DataConversionWarning: A column-vector y was passed when a 1d array was expected. Please change the shape of y to (n_samples, ), for example using ravel().\n",
      "  y = column_or_1d(y, warn=True)\n"
     ]
    },
    {
     "name": "stdout",
     "output_type": "stream",
     "text": [
      "[CV 1/5] END ......C=0.1, gamma=0.1, kernel=rbf;, score=0.503 total time=   0.8s\n"
     ]
    },
    {
     "name": "stderr",
     "output_type": "stream",
     "text": [
      "/Users/pranoysarath/miniconda/envs/penv/lib/python3.10/site-packages/sklearn/utils/validation.py:1143: DataConversionWarning: A column-vector y was passed when a 1d array was expected. Please change the shape of y to (n_samples, ), for example using ravel().\n",
      "  y = column_or_1d(y, warn=True)\n"
     ]
    },
    {
     "name": "stdout",
     "output_type": "stream",
     "text": [
      "[CV 2/5] END ......C=0.1, gamma=0.1, kernel=rbf;, score=0.503 total time=   0.8s\n"
     ]
    },
    {
     "name": "stderr",
     "output_type": "stream",
     "text": [
      "/Users/pranoysarath/miniconda/envs/penv/lib/python3.10/site-packages/sklearn/utils/validation.py:1143: DataConversionWarning: A column-vector y was passed when a 1d array was expected. Please change the shape of y to (n_samples, ), for example using ravel().\n",
      "  y = column_or_1d(y, warn=True)\n"
     ]
    },
    {
     "name": "stdout",
     "output_type": "stream",
     "text": [
      "[CV 3/5] END ......C=0.1, gamma=0.1, kernel=rbf;, score=0.503 total time=   0.8s\n"
     ]
    },
    {
     "name": "stderr",
     "output_type": "stream",
     "text": [
      "/Users/pranoysarath/miniconda/envs/penv/lib/python3.10/site-packages/sklearn/utils/validation.py:1143: DataConversionWarning: A column-vector y was passed when a 1d array was expected. Please change the shape of y to (n_samples, ), for example using ravel().\n",
      "  y = column_or_1d(y, warn=True)\n"
     ]
    },
    {
     "name": "stdout",
     "output_type": "stream",
     "text": [
      "[CV 4/5] END ......C=0.1, gamma=0.1, kernel=rbf;, score=0.504 total time=   0.8s\n"
     ]
    },
    {
     "name": "stderr",
     "output_type": "stream",
     "text": [
      "/Users/pranoysarath/miniconda/envs/penv/lib/python3.10/site-packages/sklearn/utils/validation.py:1143: DataConversionWarning: A column-vector y was passed when a 1d array was expected. Please change the shape of y to (n_samples, ), for example using ravel().\n",
      "  y = column_or_1d(y, warn=True)\n"
     ]
    },
    {
     "name": "stdout",
     "output_type": "stream",
     "text": [
      "[CV 5/5] END ......C=0.1, gamma=0.1, kernel=rbf;, score=0.503 total time=   0.8s\n"
     ]
    },
    {
     "name": "stderr",
     "output_type": "stream",
     "text": [
      "/Users/pranoysarath/miniconda/envs/penv/lib/python3.10/site-packages/sklearn/utils/validation.py:1143: DataConversionWarning: A column-vector y was passed when a 1d array was expected. Please change the shape of y to (n_samples, ), for example using ravel().\n",
      "  y = column_or_1d(y, warn=True)\n"
     ]
    },
    {
     "name": "stdout",
     "output_type": "stream",
     "text": [
      "[CV 1/5] END .....C=0.1, gamma=0.01, kernel=rbf;, score=0.503 total time=   0.8s\n"
     ]
    },
    {
     "name": "stderr",
     "output_type": "stream",
     "text": [
      "/Users/pranoysarath/miniconda/envs/penv/lib/python3.10/site-packages/sklearn/utils/validation.py:1143: DataConversionWarning: A column-vector y was passed when a 1d array was expected. Please change the shape of y to (n_samples, ), for example using ravel().\n",
      "  y = column_or_1d(y, warn=True)\n"
     ]
    },
    {
     "name": "stdout",
     "output_type": "stream",
     "text": [
      "[CV 2/5] END .....C=0.1, gamma=0.01, kernel=rbf;, score=0.503 total time=   0.8s\n"
     ]
    },
    {
     "name": "stderr",
     "output_type": "stream",
     "text": [
      "/Users/pranoysarath/miniconda/envs/penv/lib/python3.10/site-packages/sklearn/utils/validation.py:1143: DataConversionWarning: A column-vector y was passed when a 1d array was expected. Please change the shape of y to (n_samples, ), for example using ravel().\n",
      "  y = column_or_1d(y, warn=True)\n"
     ]
    },
    {
     "name": "stdout",
     "output_type": "stream",
     "text": [
      "[CV 3/5] END .....C=0.1, gamma=0.01, kernel=rbf;, score=0.503 total time=   0.8s\n"
     ]
    },
    {
     "name": "stderr",
     "output_type": "stream",
     "text": [
      "/Users/pranoysarath/miniconda/envs/penv/lib/python3.10/site-packages/sklearn/utils/validation.py:1143: DataConversionWarning: A column-vector y was passed when a 1d array was expected. Please change the shape of y to (n_samples, ), for example using ravel().\n",
      "  y = column_or_1d(y, warn=True)\n"
     ]
    },
    {
     "name": "stdout",
     "output_type": "stream",
     "text": [
      "[CV 4/5] END .....C=0.1, gamma=0.01, kernel=rbf;, score=0.504 total time=   0.8s\n"
     ]
    },
    {
     "name": "stderr",
     "output_type": "stream",
     "text": [
      "/Users/pranoysarath/miniconda/envs/penv/lib/python3.10/site-packages/sklearn/utils/validation.py:1143: DataConversionWarning: A column-vector y was passed when a 1d array was expected. Please change the shape of y to (n_samples, ), for example using ravel().\n",
      "  y = column_or_1d(y, warn=True)\n"
     ]
    },
    {
     "name": "stdout",
     "output_type": "stream",
     "text": [
      "[CV 5/5] END .....C=0.1, gamma=0.01, kernel=rbf;, score=0.503 total time=   0.8s\n"
     ]
    },
    {
     "name": "stderr",
     "output_type": "stream",
     "text": [
      "/Users/pranoysarath/miniconda/envs/penv/lib/python3.10/site-packages/sklearn/utils/validation.py:1143: DataConversionWarning: A column-vector y was passed when a 1d array was expected. Please change the shape of y to (n_samples, ), for example using ravel().\n",
      "  y = column_or_1d(y, warn=True)\n"
     ]
    },
    {
     "name": "stdout",
     "output_type": "stream",
     "text": [
      "[CV 1/5] END ....C=0.1, gamma=0.001, kernel=rbf;, score=0.503 total time=   0.8s\n"
     ]
    },
    {
     "name": "stderr",
     "output_type": "stream",
     "text": [
      "/Users/pranoysarath/miniconda/envs/penv/lib/python3.10/site-packages/sklearn/utils/validation.py:1143: DataConversionWarning: A column-vector y was passed when a 1d array was expected. Please change the shape of y to (n_samples, ), for example using ravel().\n",
      "  y = column_or_1d(y, warn=True)\n"
     ]
    },
    {
     "name": "stdout",
     "output_type": "stream",
     "text": [
      "[CV 2/5] END ....C=0.1, gamma=0.001, kernel=rbf;, score=0.503 total time=   0.8s\n"
     ]
    },
    {
     "name": "stderr",
     "output_type": "stream",
     "text": [
      "/Users/pranoysarath/miniconda/envs/penv/lib/python3.10/site-packages/sklearn/utils/validation.py:1143: DataConversionWarning: A column-vector y was passed when a 1d array was expected. Please change the shape of y to (n_samples, ), for example using ravel().\n",
      "  y = column_or_1d(y, warn=True)\n"
     ]
    },
    {
     "name": "stdout",
     "output_type": "stream",
     "text": [
      "[CV 3/5] END ....C=0.1, gamma=0.001, kernel=rbf;, score=0.503 total time=   0.8s\n"
     ]
    },
    {
     "name": "stderr",
     "output_type": "stream",
     "text": [
      "/Users/pranoysarath/miniconda/envs/penv/lib/python3.10/site-packages/sklearn/utils/validation.py:1143: DataConversionWarning: A column-vector y was passed when a 1d array was expected. Please change the shape of y to (n_samples, ), for example using ravel().\n",
      "  y = column_or_1d(y, warn=True)\n"
     ]
    },
    {
     "name": "stdout",
     "output_type": "stream",
     "text": [
      "[CV 4/5] END ....C=0.1, gamma=0.001, kernel=rbf;, score=0.504 total time=   0.8s\n"
     ]
    },
    {
     "name": "stderr",
     "output_type": "stream",
     "text": [
      "/Users/pranoysarath/miniconda/envs/penv/lib/python3.10/site-packages/sklearn/utils/validation.py:1143: DataConversionWarning: A column-vector y was passed when a 1d array was expected. Please change the shape of y to (n_samples, ), for example using ravel().\n",
      "  y = column_or_1d(y, warn=True)\n"
     ]
    },
    {
     "name": "stdout",
     "output_type": "stream",
     "text": [
      "[CV 5/5] END ....C=0.1, gamma=0.001, kernel=rbf;, score=0.503 total time=   0.8s\n"
     ]
    },
    {
     "name": "stderr",
     "output_type": "stream",
     "text": [
      "/Users/pranoysarath/miniconda/envs/penv/lib/python3.10/site-packages/sklearn/utils/validation.py:1143: DataConversionWarning: A column-vector y was passed when a 1d array was expected. Please change the shape of y to (n_samples, ), for example using ravel().\n",
      "  y = column_or_1d(y, warn=True)\n"
     ]
    },
    {
     "name": "stdout",
     "output_type": "stream",
     "text": [
      "[CV 1/5] END ...C=0.1, gamma=0.0001, kernel=rbf;, score=0.503 total time=   0.8s\n"
     ]
    },
    {
     "name": "stderr",
     "output_type": "stream",
     "text": [
      "/Users/pranoysarath/miniconda/envs/penv/lib/python3.10/site-packages/sklearn/utils/validation.py:1143: DataConversionWarning: A column-vector y was passed when a 1d array was expected. Please change the shape of y to (n_samples, ), for example using ravel().\n",
      "  y = column_or_1d(y, warn=True)\n"
     ]
    },
    {
     "name": "stdout",
     "output_type": "stream",
     "text": [
      "[CV 2/5] END ...C=0.1, gamma=0.0001, kernel=rbf;, score=0.503 total time=   0.8s\n"
     ]
    },
    {
     "name": "stderr",
     "output_type": "stream",
     "text": [
      "/Users/pranoysarath/miniconda/envs/penv/lib/python3.10/site-packages/sklearn/utils/validation.py:1143: DataConversionWarning: A column-vector y was passed when a 1d array was expected. Please change the shape of y to (n_samples, ), for example using ravel().\n",
      "  y = column_or_1d(y, warn=True)\n"
     ]
    },
    {
     "name": "stdout",
     "output_type": "stream",
     "text": [
      "[CV 3/5] END ...C=0.1, gamma=0.0001, kernel=rbf;, score=0.503 total time=   0.8s\n"
     ]
    },
    {
     "name": "stderr",
     "output_type": "stream",
     "text": [
      "/Users/pranoysarath/miniconda/envs/penv/lib/python3.10/site-packages/sklearn/utils/validation.py:1143: DataConversionWarning: A column-vector y was passed when a 1d array was expected. Please change the shape of y to (n_samples, ), for example using ravel().\n",
      "  y = column_or_1d(y, warn=True)\n"
     ]
    },
    {
     "name": "stdout",
     "output_type": "stream",
     "text": [
      "[CV 4/5] END ...C=0.1, gamma=0.0001, kernel=rbf;, score=0.504 total time=   0.8s\n"
     ]
    },
    {
     "name": "stderr",
     "output_type": "stream",
     "text": [
      "/Users/pranoysarath/miniconda/envs/penv/lib/python3.10/site-packages/sklearn/utils/validation.py:1143: DataConversionWarning: A column-vector y was passed when a 1d array was expected. Please change the shape of y to (n_samples, ), for example using ravel().\n",
      "  y = column_or_1d(y, warn=True)\n"
     ]
    },
    {
     "name": "stdout",
     "output_type": "stream",
     "text": [
      "[CV 5/5] END ...C=0.1, gamma=0.0001, kernel=rbf;, score=0.503 total time=   0.8s\n"
     ]
    },
    {
     "name": "stderr",
     "output_type": "stream",
     "text": [
      "/Users/pranoysarath/miniconda/envs/penv/lib/python3.10/site-packages/sklearn/utils/validation.py:1143: DataConversionWarning: A column-vector y was passed when a 1d array was expected. Please change the shape of y to (n_samples, ), for example using ravel().\n",
      "  y = column_or_1d(y, warn=True)\n"
     ]
    },
    {
     "name": "stdout",
     "output_type": "stream",
     "text": [
      "[CV 1/5] END ..........C=1, gamma=1, kernel=rbf;, score=0.542 total time=   0.8s\n"
     ]
    },
    {
     "name": "stderr",
     "output_type": "stream",
     "text": [
      "/Users/pranoysarath/miniconda/envs/penv/lib/python3.10/site-packages/sklearn/utils/validation.py:1143: DataConversionWarning: A column-vector y was passed when a 1d array was expected. Please change the shape of y to (n_samples, ), for example using ravel().\n",
      "  y = column_or_1d(y, warn=True)\n"
     ]
    },
    {
     "name": "stdout",
     "output_type": "stream",
     "text": [
      "[CV 2/5] END ..........C=1, gamma=1, kernel=rbf;, score=0.541 total time=   0.8s\n"
     ]
    },
    {
     "name": "stderr",
     "output_type": "stream",
     "text": [
      "/Users/pranoysarath/miniconda/envs/penv/lib/python3.10/site-packages/sklearn/utils/validation.py:1143: DataConversionWarning: A column-vector y was passed when a 1d array was expected. Please change the shape of y to (n_samples, ), for example using ravel().\n",
      "  y = column_or_1d(y, warn=True)\n"
     ]
    },
    {
     "name": "stdout",
     "output_type": "stream",
     "text": [
      "[CV 3/5] END ..........C=1, gamma=1, kernel=rbf;, score=0.527 total time=   0.8s\n"
     ]
    },
    {
     "name": "stderr",
     "output_type": "stream",
     "text": [
      "/Users/pranoysarath/miniconda/envs/penv/lib/python3.10/site-packages/sklearn/utils/validation.py:1143: DataConversionWarning: A column-vector y was passed when a 1d array was expected. Please change the shape of y to (n_samples, ), for example using ravel().\n",
      "  y = column_or_1d(y, warn=True)\n"
     ]
    },
    {
     "name": "stdout",
     "output_type": "stream",
     "text": [
      "[CV 4/5] END ..........C=1, gamma=1, kernel=rbf;, score=0.542 total time=   0.9s\n"
     ]
    },
    {
     "name": "stderr",
     "output_type": "stream",
     "text": [
      "/Users/pranoysarath/miniconda/envs/penv/lib/python3.10/site-packages/sklearn/utils/validation.py:1143: DataConversionWarning: A column-vector y was passed when a 1d array was expected. Please change the shape of y to (n_samples, ), for example using ravel().\n",
      "  y = column_or_1d(y, warn=True)\n"
     ]
    },
    {
     "name": "stdout",
     "output_type": "stream",
     "text": [
      "[CV 5/5] END ..........C=1, gamma=1, kernel=rbf;, score=0.528 total time=   0.8s\n"
     ]
    },
    {
     "name": "stderr",
     "output_type": "stream",
     "text": [
      "/Users/pranoysarath/miniconda/envs/penv/lib/python3.10/site-packages/sklearn/utils/validation.py:1143: DataConversionWarning: A column-vector y was passed when a 1d array was expected. Please change the shape of y to (n_samples, ), for example using ravel().\n",
      "  y = column_or_1d(y, warn=True)\n"
     ]
    },
    {
     "name": "stdout",
     "output_type": "stream",
     "text": [
      "[CV 1/5] END ........C=1, gamma=0.1, kernel=rbf;, score=0.503 total time=   0.8s\n"
     ]
    },
    {
     "name": "stderr",
     "output_type": "stream",
     "text": [
      "/Users/pranoysarath/miniconda/envs/penv/lib/python3.10/site-packages/sklearn/utils/validation.py:1143: DataConversionWarning: A column-vector y was passed when a 1d array was expected. Please change the shape of y to (n_samples, ), for example using ravel().\n",
      "  y = column_or_1d(y, warn=True)\n"
     ]
    },
    {
     "name": "stdout",
     "output_type": "stream",
     "text": [
      "[CV 2/5] END ........C=1, gamma=0.1, kernel=rbf;, score=0.503 total time=   0.8s\n"
     ]
    },
    {
     "name": "stderr",
     "output_type": "stream",
     "text": [
      "/Users/pranoysarath/miniconda/envs/penv/lib/python3.10/site-packages/sklearn/utils/validation.py:1143: DataConversionWarning: A column-vector y was passed when a 1d array was expected. Please change the shape of y to (n_samples, ), for example using ravel().\n",
      "  y = column_or_1d(y, warn=True)\n"
     ]
    },
    {
     "name": "stdout",
     "output_type": "stream",
     "text": [
      "[CV 3/5] END ........C=1, gamma=0.1, kernel=rbf;, score=0.503 total time=   0.8s\n"
     ]
    },
    {
     "name": "stderr",
     "output_type": "stream",
     "text": [
      "/Users/pranoysarath/miniconda/envs/penv/lib/python3.10/site-packages/sklearn/utils/validation.py:1143: DataConversionWarning: A column-vector y was passed when a 1d array was expected. Please change the shape of y to (n_samples, ), for example using ravel().\n",
      "  y = column_or_1d(y, warn=True)\n"
     ]
    },
    {
     "name": "stdout",
     "output_type": "stream",
     "text": [
      "[CV 4/5] END ........C=1, gamma=0.1, kernel=rbf;, score=0.504 total time=   0.8s\n"
     ]
    },
    {
     "name": "stderr",
     "output_type": "stream",
     "text": [
      "/Users/pranoysarath/miniconda/envs/penv/lib/python3.10/site-packages/sklearn/utils/validation.py:1143: DataConversionWarning: A column-vector y was passed when a 1d array was expected. Please change the shape of y to (n_samples, ), for example using ravel().\n",
      "  y = column_or_1d(y, warn=True)\n"
     ]
    },
    {
     "name": "stdout",
     "output_type": "stream",
     "text": [
      "[CV 5/5] END ........C=1, gamma=0.1, kernel=rbf;, score=0.503 total time=   0.8s\n"
     ]
    },
    {
     "name": "stderr",
     "output_type": "stream",
     "text": [
      "/Users/pranoysarath/miniconda/envs/penv/lib/python3.10/site-packages/sklearn/utils/validation.py:1143: DataConversionWarning: A column-vector y was passed when a 1d array was expected. Please change the shape of y to (n_samples, ), for example using ravel().\n",
      "  y = column_or_1d(y, warn=True)\n"
     ]
    },
    {
     "name": "stdout",
     "output_type": "stream",
     "text": [
      "[CV 1/5] END .......C=1, gamma=0.01, kernel=rbf;, score=0.503 total time=   0.8s\n"
     ]
    },
    {
     "name": "stderr",
     "output_type": "stream",
     "text": [
      "/Users/pranoysarath/miniconda/envs/penv/lib/python3.10/site-packages/sklearn/utils/validation.py:1143: DataConversionWarning: A column-vector y was passed when a 1d array was expected. Please change the shape of y to (n_samples, ), for example using ravel().\n",
      "  y = column_or_1d(y, warn=True)\n"
     ]
    },
    {
     "name": "stdout",
     "output_type": "stream",
     "text": [
      "[CV 2/5] END .......C=1, gamma=0.01, kernel=rbf;, score=0.503 total time=   0.8s\n"
     ]
    },
    {
     "name": "stderr",
     "output_type": "stream",
     "text": [
      "/Users/pranoysarath/miniconda/envs/penv/lib/python3.10/site-packages/sklearn/utils/validation.py:1143: DataConversionWarning: A column-vector y was passed when a 1d array was expected. Please change the shape of y to (n_samples, ), for example using ravel().\n",
      "  y = column_or_1d(y, warn=True)\n"
     ]
    },
    {
     "name": "stdout",
     "output_type": "stream",
     "text": [
      "[CV 3/5] END .......C=1, gamma=0.01, kernel=rbf;, score=0.503 total time=   0.8s\n"
     ]
    },
    {
     "name": "stderr",
     "output_type": "stream",
     "text": [
      "/Users/pranoysarath/miniconda/envs/penv/lib/python3.10/site-packages/sklearn/utils/validation.py:1143: DataConversionWarning: A column-vector y was passed when a 1d array was expected. Please change the shape of y to (n_samples, ), for example using ravel().\n",
      "  y = column_or_1d(y, warn=True)\n"
     ]
    },
    {
     "name": "stdout",
     "output_type": "stream",
     "text": [
      "[CV 4/5] END .......C=1, gamma=0.01, kernel=rbf;, score=0.504 total time=   0.8s\n"
     ]
    },
    {
     "name": "stderr",
     "output_type": "stream",
     "text": [
      "/Users/pranoysarath/miniconda/envs/penv/lib/python3.10/site-packages/sklearn/utils/validation.py:1143: DataConversionWarning: A column-vector y was passed when a 1d array was expected. Please change the shape of y to (n_samples, ), for example using ravel().\n",
      "  y = column_or_1d(y, warn=True)\n"
     ]
    },
    {
     "name": "stdout",
     "output_type": "stream",
     "text": [
      "[CV 5/5] END .......C=1, gamma=0.01, kernel=rbf;, score=0.503 total time=   0.8s\n"
     ]
    },
    {
     "name": "stderr",
     "output_type": "stream",
     "text": [
      "/Users/pranoysarath/miniconda/envs/penv/lib/python3.10/site-packages/sklearn/utils/validation.py:1143: DataConversionWarning: A column-vector y was passed when a 1d array was expected. Please change the shape of y to (n_samples, ), for example using ravel().\n",
      "  y = column_or_1d(y, warn=True)\n"
     ]
    },
    {
     "name": "stdout",
     "output_type": "stream",
     "text": [
      "[CV 1/5] END ......C=1, gamma=0.001, kernel=rbf;, score=0.503 total time=   0.8s\n"
     ]
    },
    {
     "name": "stderr",
     "output_type": "stream",
     "text": [
      "/Users/pranoysarath/miniconda/envs/penv/lib/python3.10/site-packages/sklearn/utils/validation.py:1143: DataConversionWarning: A column-vector y was passed when a 1d array was expected. Please change the shape of y to (n_samples, ), for example using ravel().\n",
      "  y = column_or_1d(y, warn=True)\n"
     ]
    },
    {
     "name": "stdout",
     "output_type": "stream",
     "text": [
      "[CV 2/5] END ......C=1, gamma=0.001, kernel=rbf;, score=0.503 total time=   0.8s\n"
     ]
    },
    {
     "name": "stderr",
     "output_type": "stream",
     "text": [
      "/Users/pranoysarath/miniconda/envs/penv/lib/python3.10/site-packages/sklearn/utils/validation.py:1143: DataConversionWarning: A column-vector y was passed when a 1d array was expected. Please change the shape of y to (n_samples, ), for example using ravel().\n",
      "  y = column_or_1d(y, warn=True)\n"
     ]
    },
    {
     "name": "stdout",
     "output_type": "stream",
     "text": [
      "[CV 3/5] END ......C=1, gamma=0.001, kernel=rbf;, score=0.503 total time=   0.8s\n"
     ]
    },
    {
     "name": "stderr",
     "output_type": "stream",
     "text": [
      "/Users/pranoysarath/miniconda/envs/penv/lib/python3.10/site-packages/sklearn/utils/validation.py:1143: DataConversionWarning: A column-vector y was passed when a 1d array was expected. Please change the shape of y to (n_samples, ), for example using ravel().\n",
      "  y = column_or_1d(y, warn=True)\n"
     ]
    },
    {
     "name": "stdout",
     "output_type": "stream",
     "text": [
      "[CV 4/5] END ......C=1, gamma=0.001, kernel=rbf;, score=0.504 total time=   0.8s\n"
     ]
    },
    {
     "name": "stderr",
     "output_type": "stream",
     "text": [
      "/Users/pranoysarath/miniconda/envs/penv/lib/python3.10/site-packages/sklearn/utils/validation.py:1143: DataConversionWarning: A column-vector y was passed when a 1d array was expected. Please change the shape of y to (n_samples, ), for example using ravel().\n",
      "  y = column_or_1d(y, warn=True)\n"
     ]
    },
    {
     "name": "stdout",
     "output_type": "stream",
     "text": [
      "[CV 5/5] END ......C=1, gamma=0.001, kernel=rbf;, score=0.503 total time=   0.8s\n"
     ]
    },
    {
     "name": "stderr",
     "output_type": "stream",
     "text": [
      "/Users/pranoysarath/miniconda/envs/penv/lib/python3.10/site-packages/sklearn/utils/validation.py:1143: DataConversionWarning: A column-vector y was passed when a 1d array was expected. Please change the shape of y to (n_samples, ), for example using ravel().\n",
      "  y = column_or_1d(y, warn=True)\n"
     ]
    },
    {
     "name": "stdout",
     "output_type": "stream",
     "text": [
      "[CV 1/5] END .....C=1, gamma=0.0001, kernel=rbf;, score=0.503 total time=   0.8s\n"
     ]
    },
    {
     "name": "stderr",
     "output_type": "stream",
     "text": [
      "/Users/pranoysarath/miniconda/envs/penv/lib/python3.10/site-packages/sklearn/utils/validation.py:1143: DataConversionWarning: A column-vector y was passed when a 1d array was expected. Please change the shape of y to (n_samples, ), for example using ravel().\n",
      "  y = column_or_1d(y, warn=True)\n"
     ]
    },
    {
     "name": "stdout",
     "output_type": "stream",
     "text": [
      "[CV 2/5] END .....C=1, gamma=0.0001, kernel=rbf;, score=0.503 total time=   0.8s\n"
     ]
    },
    {
     "name": "stderr",
     "output_type": "stream",
     "text": [
      "/Users/pranoysarath/miniconda/envs/penv/lib/python3.10/site-packages/sklearn/utils/validation.py:1143: DataConversionWarning: A column-vector y was passed when a 1d array was expected. Please change the shape of y to (n_samples, ), for example using ravel().\n",
      "  y = column_or_1d(y, warn=True)\n"
     ]
    },
    {
     "name": "stdout",
     "output_type": "stream",
     "text": [
      "[CV 3/5] END .....C=1, gamma=0.0001, kernel=rbf;, score=0.503 total time=   0.8s\n"
     ]
    },
    {
     "name": "stderr",
     "output_type": "stream",
     "text": [
      "/Users/pranoysarath/miniconda/envs/penv/lib/python3.10/site-packages/sklearn/utils/validation.py:1143: DataConversionWarning: A column-vector y was passed when a 1d array was expected. Please change the shape of y to (n_samples, ), for example using ravel().\n",
      "  y = column_or_1d(y, warn=True)\n"
     ]
    },
    {
     "name": "stdout",
     "output_type": "stream",
     "text": [
      "[CV 4/5] END .....C=1, gamma=0.0001, kernel=rbf;, score=0.504 total time=   0.8s\n"
     ]
    },
    {
     "name": "stderr",
     "output_type": "stream",
     "text": [
      "/Users/pranoysarath/miniconda/envs/penv/lib/python3.10/site-packages/sklearn/utils/validation.py:1143: DataConversionWarning: A column-vector y was passed when a 1d array was expected. Please change the shape of y to (n_samples, ), for example using ravel().\n",
      "  y = column_or_1d(y, warn=True)\n"
     ]
    },
    {
     "name": "stdout",
     "output_type": "stream",
     "text": [
      "[CV 5/5] END .....C=1, gamma=0.0001, kernel=rbf;, score=0.503 total time=   0.8s\n"
     ]
    },
    {
     "name": "stderr",
     "output_type": "stream",
     "text": [
      "/Users/pranoysarath/miniconda/envs/penv/lib/python3.10/site-packages/sklearn/utils/validation.py:1143: DataConversionWarning: A column-vector y was passed when a 1d array was expected. Please change the shape of y to (n_samples, ), for example using ravel().\n",
      "  y = column_or_1d(y, warn=True)\n"
     ]
    },
    {
     "name": "stdout",
     "output_type": "stream",
     "text": [
      "[CV 1/5] END .........C=10, gamma=1, kernel=rbf;, score=0.631 total time=   0.7s\n"
     ]
    },
    {
     "name": "stderr",
     "output_type": "stream",
     "text": [
      "/Users/pranoysarath/miniconda/envs/penv/lib/python3.10/site-packages/sklearn/utils/validation.py:1143: DataConversionWarning: A column-vector y was passed when a 1d array was expected. Please change the shape of y to (n_samples, ), for example using ravel().\n",
      "  y = column_or_1d(y, warn=True)\n"
     ]
    },
    {
     "name": "stdout",
     "output_type": "stream",
     "text": [
      "[CV 2/5] END .........C=10, gamma=1, kernel=rbf;, score=0.658 total time=   0.7s\n"
     ]
    },
    {
     "name": "stderr",
     "output_type": "stream",
     "text": [
      "/Users/pranoysarath/miniconda/envs/penv/lib/python3.10/site-packages/sklearn/utils/validation.py:1143: DataConversionWarning: A column-vector y was passed when a 1d array was expected. Please change the shape of y to (n_samples, ), for example using ravel().\n",
      "  y = column_or_1d(y, warn=True)\n"
     ]
    },
    {
     "name": "stdout",
     "output_type": "stream",
     "text": [
      "[CV 3/5] END .........C=10, gamma=1, kernel=rbf;, score=0.653 total time=   0.8s\n"
     ]
    },
    {
     "name": "stderr",
     "output_type": "stream",
     "text": [
      "/Users/pranoysarath/miniconda/envs/penv/lib/python3.10/site-packages/sklearn/utils/validation.py:1143: DataConversionWarning: A column-vector y was passed when a 1d array was expected. Please change the shape of y to (n_samples, ), for example using ravel().\n",
      "  y = column_or_1d(y, warn=True)\n"
     ]
    },
    {
     "name": "stdout",
     "output_type": "stream",
     "text": [
      "[CV 4/5] END .........C=10, gamma=1, kernel=rbf;, score=0.652 total time=   0.7s\n"
     ]
    },
    {
     "name": "stderr",
     "output_type": "stream",
     "text": [
      "/Users/pranoysarath/miniconda/envs/penv/lib/python3.10/site-packages/sklearn/utils/validation.py:1143: DataConversionWarning: A column-vector y was passed when a 1d array was expected. Please change the shape of y to (n_samples, ), for example using ravel().\n",
      "  y = column_or_1d(y, warn=True)\n"
     ]
    },
    {
     "name": "stdout",
     "output_type": "stream",
     "text": [
      "[CV 5/5] END .........C=10, gamma=1, kernel=rbf;, score=0.641 total time=   0.7s\n"
     ]
    },
    {
     "name": "stderr",
     "output_type": "stream",
     "text": [
      "/Users/pranoysarath/miniconda/envs/penv/lib/python3.10/site-packages/sklearn/utils/validation.py:1143: DataConversionWarning: A column-vector y was passed when a 1d array was expected. Please change the shape of y to (n_samples, ), for example using ravel().\n",
      "  y = column_or_1d(y, warn=True)\n"
     ]
    },
    {
     "name": "stdout",
     "output_type": "stream",
     "text": [
      "[CV 1/5] END .......C=10, gamma=0.1, kernel=rbf;, score=0.542 total time=   0.8s\n"
     ]
    },
    {
     "name": "stderr",
     "output_type": "stream",
     "text": [
      "/Users/pranoysarath/miniconda/envs/penv/lib/python3.10/site-packages/sklearn/utils/validation.py:1143: DataConversionWarning: A column-vector y was passed when a 1d array was expected. Please change the shape of y to (n_samples, ), for example using ravel().\n",
      "  y = column_or_1d(y, warn=True)\n"
     ]
    },
    {
     "name": "stdout",
     "output_type": "stream",
     "text": [
      "[CV 2/5] END .......C=10, gamma=0.1, kernel=rbf;, score=0.538 total time=   0.8s\n"
     ]
    },
    {
     "name": "stderr",
     "output_type": "stream",
     "text": [
      "/Users/pranoysarath/miniconda/envs/penv/lib/python3.10/site-packages/sklearn/utils/validation.py:1143: DataConversionWarning: A column-vector y was passed when a 1d array was expected. Please change the shape of y to (n_samples, ), for example using ravel().\n",
      "  y = column_or_1d(y, warn=True)\n"
     ]
    },
    {
     "name": "stdout",
     "output_type": "stream",
     "text": [
      "[CV 3/5] END .......C=10, gamma=0.1, kernel=rbf;, score=0.527 total time=   0.8s\n"
     ]
    },
    {
     "name": "stderr",
     "output_type": "stream",
     "text": [
      "/Users/pranoysarath/miniconda/envs/penv/lib/python3.10/site-packages/sklearn/utils/validation.py:1143: DataConversionWarning: A column-vector y was passed when a 1d array was expected. Please change the shape of y to (n_samples, ), for example using ravel().\n",
      "  y = column_or_1d(y, warn=True)\n"
     ]
    },
    {
     "name": "stdout",
     "output_type": "stream",
     "text": [
      "[CV 4/5] END .......C=10, gamma=0.1, kernel=rbf;, score=0.544 total time=   0.8s\n"
     ]
    },
    {
     "name": "stderr",
     "output_type": "stream",
     "text": [
      "/Users/pranoysarath/miniconda/envs/penv/lib/python3.10/site-packages/sklearn/utils/validation.py:1143: DataConversionWarning: A column-vector y was passed when a 1d array was expected. Please change the shape of y to (n_samples, ), for example using ravel().\n",
      "  y = column_or_1d(y, warn=True)\n"
     ]
    },
    {
     "name": "stdout",
     "output_type": "stream",
     "text": [
      "[CV 5/5] END .......C=10, gamma=0.1, kernel=rbf;, score=0.529 total time=   0.8s\n"
     ]
    },
    {
     "name": "stderr",
     "output_type": "stream",
     "text": [
      "/Users/pranoysarath/miniconda/envs/penv/lib/python3.10/site-packages/sklearn/utils/validation.py:1143: DataConversionWarning: A column-vector y was passed when a 1d array was expected. Please change the shape of y to (n_samples, ), for example using ravel().\n",
      "  y = column_or_1d(y, warn=True)\n"
     ]
    },
    {
     "name": "stdout",
     "output_type": "stream",
     "text": [
      "[CV 1/5] END ......C=10, gamma=0.01, kernel=rbf;, score=0.503 total time=   0.8s\n"
     ]
    },
    {
     "name": "stderr",
     "output_type": "stream",
     "text": [
      "/Users/pranoysarath/miniconda/envs/penv/lib/python3.10/site-packages/sklearn/utils/validation.py:1143: DataConversionWarning: A column-vector y was passed when a 1d array was expected. Please change the shape of y to (n_samples, ), for example using ravel().\n",
      "  y = column_or_1d(y, warn=True)\n"
     ]
    },
    {
     "name": "stdout",
     "output_type": "stream",
     "text": [
      "[CV 2/5] END ......C=10, gamma=0.01, kernel=rbf;, score=0.503 total time=   0.8s\n"
     ]
    },
    {
     "name": "stderr",
     "output_type": "stream",
     "text": [
      "/Users/pranoysarath/miniconda/envs/penv/lib/python3.10/site-packages/sklearn/utils/validation.py:1143: DataConversionWarning: A column-vector y was passed when a 1d array was expected. Please change the shape of y to (n_samples, ), for example using ravel().\n",
      "  y = column_or_1d(y, warn=True)\n"
     ]
    },
    {
     "name": "stdout",
     "output_type": "stream",
     "text": [
      "[CV 3/5] END ......C=10, gamma=0.01, kernel=rbf;, score=0.503 total time=   0.8s\n"
     ]
    },
    {
     "name": "stderr",
     "output_type": "stream",
     "text": [
      "/Users/pranoysarath/miniconda/envs/penv/lib/python3.10/site-packages/sklearn/utils/validation.py:1143: DataConversionWarning: A column-vector y was passed when a 1d array was expected. Please change the shape of y to (n_samples, ), for example using ravel().\n",
      "  y = column_or_1d(y, warn=True)\n"
     ]
    },
    {
     "name": "stdout",
     "output_type": "stream",
     "text": [
      "[CV 4/5] END ......C=10, gamma=0.01, kernel=rbf;, score=0.504 total time=   0.8s\n"
     ]
    },
    {
     "name": "stderr",
     "output_type": "stream",
     "text": [
      "/Users/pranoysarath/miniconda/envs/penv/lib/python3.10/site-packages/sklearn/utils/validation.py:1143: DataConversionWarning: A column-vector y was passed when a 1d array was expected. Please change the shape of y to (n_samples, ), for example using ravel().\n",
      "  y = column_or_1d(y, warn=True)\n"
     ]
    },
    {
     "name": "stdout",
     "output_type": "stream",
     "text": [
      "[CV 5/5] END ......C=10, gamma=0.01, kernel=rbf;, score=0.503 total time=   0.8s\n"
     ]
    },
    {
     "name": "stderr",
     "output_type": "stream",
     "text": [
      "/Users/pranoysarath/miniconda/envs/penv/lib/python3.10/site-packages/sklearn/utils/validation.py:1143: DataConversionWarning: A column-vector y was passed when a 1d array was expected. Please change the shape of y to (n_samples, ), for example using ravel().\n",
      "  y = column_or_1d(y, warn=True)\n"
     ]
    },
    {
     "name": "stdout",
     "output_type": "stream",
     "text": [
      "[CV 1/5] END .....C=10, gamma=0.001, kernel=rbf;, score=0.503 total time=   0.8s\n"
     ]
    },
    {
     "name": "stderr",
     "output_type": "stream",
     "text": [
      "/Users/pranoysarath/miniconda/envs/penv/lib/python3.10/site-packages/sklearn/utils/validation.py:1143: DataConversionWarning: A column-vector y was passed when a 1d array was expected. Please change the shape of y to (n_samples, ), for example using ravel().\n",
      "  y = column_or_1d(y, warn=True)\n"
     ]
    },
    {
     "name": "stdout",
     "output_type": "stream",
     "text": [
      "[CV 2/5] END .....C=10, gamma=0.001, kernel=rbf;, score=0.503 total time=   0.8s\n"
     ]
    },
    {
     "name": "stderr",
     "output_type": "stream",
     "text": [
      "/Users/pranoysarath/miniconda/envs/penv/lib/python3.10/site-packages/sklearn/utils/validation.py:1143: DataConversionWarning: A column-vector y was passed when a 1d array was expected. Please change the shape of y to (n_samples, ), for example using ravel().\n",
      "  y = column_or_1d(y, warn=True)\n"
     ]
    },
    {
     "name": "stdout",
     "output_type": "stream",
     "text": [
      "[CV 3/5] END .....C=10, gamma=0.001, kernel=rbf;, score=0.503 total time=   0.8s\n"
     ]
    },
    {
     "name": "stderr",
     "output_type": "stream",
     "text": [
      "/Users/pranoysarath/miniconda/envs/penv/lib/python3.10/site-packages/sklearn/utils/validation.py:1143: DataConversionWarning: A column-vector y was passed when a 1d array was expected. Please change the shape of y to (n_samples, ), for example using ravel().\n",
      "  y = column_or_1d(y, warn=True)\n"
     ]
    },
    {
     "name": "stdout",
     "output_type": "stream",
     "text": [
      "[CV 4/5] END .....C=10, gamma=0.001, kernel=rbf;, score=0.504 total time=   0.8s\n"
     ]
    },
    {
     "name": "stderr",
     "output_type": "stream",
     "text": [
      "/Users/pranoysarath/miniconda/envs/penv/lib/python3.10/site-packages/sklearn/utils/validation.py:1143: DataConversionWarning: A column-vector y was passed when a 1d array was expected. Please change the shape of y to (n_samples, ), for example using ravel().\n",
      "  y = column_or_1d(y, warn=True)\n"
     ]
    },
    {
     "name": "stdout",
     "output_type": "stream",
     "text": [
      "[CV 5/5] END .....C=10, gamma=0.001, kernel=rbf;, score=0.503 total time=   0.8s\n"
     ]
    },
    {
     "name": "stderr",
     "output_type": "stream",
     "text": [
      "/Users/pranoysarath/miniconda/envs/penv/lib/python3.10/site-packages/sklearn/utils/validation.py:1143: DataConversionWarning: A column-vector y was passed when a 1d array was expected. Please change the shape of y to (n_samples, ), for example using ravel().\n",
      "  y = column_or_1d(y, warn=True)\n"
     ]
    },
    {
     "name": "stdout",
     "output_type": "stream",
     "text": [
      "[CV 1/5] END ....C=10, gamma=0.0001, kernel=rbf;, score=0.503 total time=   0.8s\n"
     ]
    },
    {
     "name": "stderr",
     "output_type": "stream",
     "text": [
      "/Users/pranoysarath/miniconda/envs/penv/lib/python3.10/site-packages/sklearn/utils/validation.py:1143: DataConversionWarning: A column-vector y was passed when a 1d array was expected. Please change the shape of y to (n_samples, ), for example using ravel().\n",
      "  y = column_or_1d(y, warn=True)\n"
     ]
    },
    {
     "name": "stdout",
     "output_type": "stream",
     "text": [
      "[CV 2/5] END ....C=10, gamma=0.0001, kernel=rbf;, score=0.503 total time=   0.8s\n"
     ]
    },
    {
     "name": "stderr",
     "output_type": "stream",
     "text": [
      "/Users/pranoysarath/miniconda/envs/penv/lib/python3.10/site-packages/sklearn/utils/validation.py:1143: DataConversionWarning: A column-vector y was passed when a 1d array was expected. Please change the shape of y to (n_samples, ), for example using ravel().\n",
      "  y = column_or_1d(y, warn=True)\n"
     ]
    },
    {
     "name": "stdout",
     "output_type": "stream",
     "text": [
      "[CV 3/5] END ....C=10, gamma=0.0001, kernel=rbf;, score=0.503 total time=   0.8s\n"
     ]
    },
    {
     "name": "stderr",
     "output_type": "stream",
     "text": [
      "/Users/pranoysarath/miniconda/envs/penv/lib/python3.10/site-packages/sklearn/utils/validation.py:1143: DataConversionWarning: A column-vector y was passed when a 1d array was expected. Please change the shape of y to (n_samples, ), for example using ravel().\n",
      "  y = column_or_1d(y, warn=True)\n"
     ]
    },
    {
     "name": "stdout",
     "output_type": "stream",
     "text": [
      "[CV 4/5] END ....C=10, gamma=0.0001, kernel=rbf;, score=0.504 total time=   0.8s\n"
     ]
    },
    {
     "name": "stderr",
     "output_type": "stream",
     "text": [
      "/Users/pranoysarath/miniconda/envs/penv/lib/python3.10/site-packages/sklearn/utils/validation.py:1143: DataConversionWarning: A column-vector y was passed when a 1d array was expected. Please change the shape of y to (n_samples, ), for example using ravel().\n",
      "  y = column_or_1d(y, warn=True)\n"
     ]
    },
    {
     "name": "stdout",
     "output_type": "stream",
     "text": [
      "[CV 5/5] END ....C=10, gamma=0.0001, kernel=rbf;, score=0.503 total time=   0.8s\n"
     ]
    },
    {
     "name": "stderr",
     "output_type": "stream",
     "text": [
      "/Users/pranoysarath/miniconda/envs/penv/lib/python3.10/site-packages/sklearn/utils/validation.py:1143: DataConversionWarning: A column-vector y was passed when a 1d array was expected. Please change the shape of y to (n_samples, ), for example using ravel().\n",
      "  y = column_or_1d(y, warn=True)\n"
     ]
    },
    {
     "name": "stdout",
     "output_type": "stream",
     "text": [
      "[CV 1/5] END ........C=100, gamma=1, kernel=rbf;, score=0.644 total time=   0.6s\n"
     ]
    },
    {
     "name": "stderr",
     "output_type": "stream",
     "text": [
      "/Users/pranoysarath/miniconda/envs/penv/lib/python3.10/site-packages/sklearn/utils/validation.py:1143: DataConversionWarning: A column-vector y was passed when a 1d array was expected. Please change the shape of y to (n_samples, ), for example using ravel().\n",
      "  y = column_or_1d(y, warn=True)\n"
     ]
    },
    {
     "name": "stdout",
     "output_type": "stream",
     "text": [
      "[CV 2/5] END ........C=100, gamma=1, kernel=rbf;, score=0.661 total time=   0.6s\n"
     ]
    },
    {
     "name": "stderr",
     "output_type": "stream",
     "text": [
      "/Users/pranoysarath/miniconda/envs/penv/lib/python3.10/site-packages/sklearn/utils/validation.py:1143: DataConversionWarning: A column-vector y was passed when a 1d array was expected. Please change the shape of y to (n_samples, ), for example using ravel().\n",
      "  y = column_or_1d(y, warn=True)\n"
     ]
    },
    {
     "name": "stdout",
     "output_type": "stream",
     "text": [
      "[CV 3/5] END ........C=100, gamma=1, kernel=rbf;, score=0.677 total time=   0.6s\n"
     ]
    },
    {
     "name": "stderr",
     "output_type": "stream",
     "text": [
      "/Users/pranoysarath/miniconda/envs/penv/lib/python3.10/site-packages/sklearn/utils/validation.py:1143: DataConversionWarning: A column-vector y was passed when a 1d array was expected. Please change the shape of y to (n_samples, ), for example using ravel().\n",
      "  y = column_or_1d(y, warn=True)\n"
     ]
    },
    {
     "name": "stdout",
     "output_type": "stream",
     "text": [
      "[CV 4/5] END ........C=100, gamma=1, kernel=rbf;, score=0.668 total time=   0.7s\n"
     ]
    },
    {
     "name": "stderr",
     "output_type": "stream",
     "text": [
      "/Users/pranoysarath/miniconda/envs/penv/lib/python3.10/site-packages/sklearn/utils/validation.py:1143: DataConversionWarning: A column-vector y was passed when a 1d array was expected. Please change the shape of y to (n_samples, ), for example using ravel().\n",
      "  y = column_or_1d(y, warn=True)\n"
     ]
    },
    {
     "name": "stdout",
     "output_type": "stream",
     "text": [
      "[CV 5/5] END ........C=100, gamma=1, kernel=rbf;, score=0.646 total time=   0.7s\n"
     ]
    },
    {
     "name": "stderr",
     "output_type": "stream",
     "text": [
      "/Users/pranoysarath/miniconda/envs/penv/lib/python3.10/site-packages/sklearn/utils/validation.py:1143: DataConversionWarning: A column-vector y was passed when a 1d array was expected. Please change the shape of y to (n_samples, ), for example using ravel().\n",
      "  y = column_or_1d(y, warn=True)\n"
     ]
    },
    {
     "name": "stdout",
     "output_type": "stream",
     "text": [
      "[CV 1/5] END ......C=100, gamma=0.1, kernel=rbf;, score=0.631 total time=   0.9s\n"
     ]
    },
    {
     "name": "stderr",
     "output_type": "stream",
     "text": [
      "/Users/pranoysarath/miniconda/envs/penv/lib/python3.10/site-packages/sklearn/utils/validation.py:1143: DataConversionWarning: A column-vector y was passed when a 1d array was expected. Please change the shape of y to (n_samples, ), for example using ravel().\n",
      "  y = column_or_1d(y, warn=True)\n"
     ]
    },
    {
     "name": "stdout",
     "output_type": "stream",
     "text": [
      "[CV 2/5] END ......C=100, gamma=0.1, kernel=rbf;, score=0.658 total time=   0.7s\n"
     ]
    },
    {
     "name": "stderr",
     "output_type": "stream",
     "text": [
      "/Users/pranoysarath/miniconda/envs/penv/lib/python3.10/site-packages/sklearn/utils/validation.py:1143: DataConversionWarning: A column-vector y was passed when a 1d array was expected. Please change the shape of y to (n_samples, ), for example using ravel().\n",
      "  y = column_or_1d(y, warn=True)\n"
     ]
    },
    {
     "name": "stdout",
     "output_type": "stream",
     "text": [
      "[CV 3/5] END ......C=100, gamma=0.1, kernel=rbf;, score=0.653 total time=   0.7s\n"
     ]
    },
    {
     "name": "stderr",
     "output_type": "stream",
     "text": [
      "/Users/pranoysarath/miniconda/envs/penv/lib/python3.10/site-packages/sklearn/utils/validation.py:1143: DataConversionWarning: A column-vector y was passed when a 1d array was expected. Please change the shape of y to (n_samples, ), for example using ravel().\n",
      "  y = column_or_1d(y, warn=True)\n"
     ]
    },
    {
     "name": "stdout",
     "output_type": "stream",
     "text": [
      "[CV 4/5] END ......C=100, gamma=0.1, kernel=rbf;, score=0.650 total time=   0.7s\n"
     ]
    },
    {
     "name": "stderr",
     "output_type": "stream",
     "text": [
      "/Users/pranoysarath/miniconda/envs/penv/lib/python3.10/site-packages/sklearn/utils/validation.py:1143: DataConversionWarning: A column-vector y was passed when a 1d array was expected. Please change the shape of y to (n_samples, ), for example using ravel().\n",
      "  y = column_or_1d(y, warn=True)\n"
     ]
    },
    {
     "name": "stdout",
     "output_type": "stream",
     "text": [
      "[CV 5/5] END ......C=100, gamma=0.1, kernel=rbf;, score=0.642 total time=   0.7s\n"
     ]
    },
    {
     "name": "stderr",
     "output_type": "stream",
     "text": [
      "/Users/pranoysarath/miniconda/envs/penv/lib/python3.10/site-packages/sklearn/utils/validation.py:1143: DataConversionWarning: A column-vector y was passed when a 1d array was expected. Please change the shape of y to (n_samples, ), for example using ravel().\n",
      "  y = column_or_1d(y, warn=True)\n"
     ]
    },
    {
     "name": "stdout",
     "output_type": "stream",
     "text": [
      "[CV 1/5] END .....C=100, gamma=0.01, kernel=rbf;, score=0.542 total time=   0.8s\n"
     ]
    },
    {
     "name": "stderr",
     "output_type": "stream",
     "text": [
      "/Users/pranoysarath/miniconda/envs/penv/lib/python3.10/site-packages/sklearn/utils/validation.py:1143: DataConversionWarning: A column-vector y was passed when a 1d array was expected. Please change the shape of y to (n_samples, ), for example using ravel().\n",
      "  y = column_or_1d(y, warn=True)\n"
     ]
    },
    {
     "name": "stdout",
     "output_type": "stream",
     "text": [
      "[CV 2/5] END .....C=100, gamma=0.01, kernel=rbf;, score=0.538 total time=   0.8s\n"
     ]
    },
    {
     "name": "stderr",
     "output_type": "stream",
     "text": [
      "/Users/pranoysarath/miniconda/envs/penv/lib/python3.10/site-packages/sklearn/utils/validation.py:1143: DataConversionWarning: A column-vector y was passed when a 1d array was expected. Please change the shape of y to (n_samples, ), for example using ravel().\n",
      "  y = column_or_1d(y, warn=True)\n"
     ]
    },
    {
     "name": "stdout",
     "output_type": "stream",
     "text": [
      "[CV 3/5] END .....C=100, gamma=0.01, kernel=rbf;, score=0.528 total time=   0.8s\n"
     ]
    },
    {
     "name": "stderr",
     "output_type": "stream",
     "text": [
      "/Users/pranoysarath/miniconda/envs/penv/lib/python3.10/site-packages/sklearn/utils/validation.py:1143: DataConversionWarning: A column-vector y was passed when a 1d array was expected. Please change the shape of y to (n_samples, ), for example using ravel().\n",
      "  y = column_or_1d(y, warn=True)\n"
     ]
    },
    {
     "name": "stdout",
     "output_type": "stream",
     "text": [
      "[CV 4/5] END .....C=100, gamma=0.01, kernel=rbf;, score=0.544 total time=   0.8s\n"
     ]
    },
    {
     "name": "stderr",
     "output_type": "stream",
     "text": [
      "/Users/pranoysarath/miniconda/envs/penv/lib/python3.10/site-packages/sklearn/utils/validation.py:1143: DataConversionWarning: A column-vector y was passed when a 1d array was expected. Please change the shape of y to (n_samples, ), for example using ravel().\n",
      "  y = column_or_1d(y, warn=True)\n"
     ]
    },
    {
     "name": "stdout",
     "output_type": "stream",
     "text": [
      "[CV 5/5] END .....C=100, gamma=0.01, kernel=rbf;, score=0.529 total time=   0.8s\n"
     ]
    },
    {
     "name": "stderr",
     "output_type": "stream",
     "text": [
      "/Users/pranoysarath/miniconda/envs/penv/lib/python3.10/site-packages/sklearn/utils/validation.py:1143: DataConversionWarning: A column-vector y was passed when a 1d array was expected. Please change the shape of y to (n_samples, ), for example using ravel().\n",
      "  y = column_or_1d(y, warn=True)\n"
     ]
    },
    {
     "name": "stdout",
     "output_type": "stream",
     "text": [
      "[CV 1/5] END ....C=100, gamma=0.001, kernel=rbf;, score=0.503 total time=   0.8s\n"
     ]
    },
    {
     "name": "stderr",
     "output_type": "stream",
     "text": [
      "/Users/pranoysarath/miniconda/envs/penv/lib/python3.10/site-packages/sklearn/utils/validation.py:1143: DataConversionWarning: A column-vector y was passed when a 1d array was expected. Please change the shape of y to (n_samples, ), for example using ravel().\n",
      "  y = column_or_1d(y, warn=True)\n"
     ]
    },
    {
     "name": "stdout",
     "output_type": "stream",
     "text": [
      "[CV 2/5] END ....C=100, gamma=0.001, kernel=rbf;, score=0.503 total time=   0.8s\n"
     ]
    },
    {
     "name": "stderr",
     "output_type": "stream",
     "text": [
      "/Users/pranoysarath/miniconda/envs/penv/lib/python3.10/site-packages/sklearn/utils/validation.py:1143: DataConversionWarning: A column-vector y was passed when a 1d array was expected. Please change the shape of y to (n_samples, ), for example using ravel().\n",
      "  y = column_or_1d(y, warn=True)\n"
     ]
    },
    {
     "name": "stdout",
     "output_type": "stream",
     "text": [
      "[CV 3/5] END ....C=100, gamma=0.001, kernel=rbf;, score=0.503 total time=   0.8s\n"
     ]
    },
    {
     "name": "stderr",
     "output_type": "stream",
     "text": [
      "/Users/pranoysarath/miniconda/envs/penv/lib/python3.10/site-packages/sklearn/utils/validation.py:1143: DataConversionWarning: A column-vector y was passed when a 1d array was expected. Please change the shape of y to (n_samples, ), for example using ravel().\n",
      "  y = column_or_1d(y, warn=True)\n"
     ]
    },
    {
     "name": "stdout",
     "output_type": "stream",
     "text": [
      "[CV 4/5] END ....C=100, gamma=0.001, kernel=rbf;, score=0.504 total time=   0.8s\n"
     ]
    },
    {
     "name": "stderr",
     "output_type": "stream",
     "text": [
      "/Users/pranoysarath/miniconda/envs/penv/lib/python3.10/site-packages/sklearn/utils/validation.py:1143: DataConversionWarning: A column-vector y was passed when a 1d array was expected. Please change the shape of y to (n_samples, ), for example using ravel().\n",
      "  y = column_or_1d(y, warn=True)\n"
     ]
    },
    {
     "name": "stdout",
     "output_type": "stream",
     "text": [
      "[CV 5/5] END ....C=100, gamma=0.001, kernel=rbf;, score=0.503 total time=   0.8s\n"
     ]
    },
    {
     "name": "stderr",
     "output_type": "stream",
     "text": [
      "/Users/pranoysarath/miniconda/envs/penv/lib/python3.10/site-packages/sklearn/utils/validation.py:1143: DataConversionWarning: A column-vector y was passed when a 1d array was expected. Please change the shape of y to (n_samples, ), for example using ravel().\n",
      "  y = column_or_1d(y, warn=True)\n"
     ]
    },
    {
     "name": "stdout",
     "output_type": "stream",
     "text": [
      "[CV 1/5] END ...C=100, gamma=0.0001, kernel=rbf;, score=0.503 total time=   0.8s\n"
     ]
    },
    {
     "name": "stderr",
     "output_type": "stream",
     "text": [
      "/Users/pranoysarath/miniconda/envs/penv/lib/python3.10/site-packages/sklearn/utils/validation.py:1143: DataConversionWarning: A column-vector y was passed when a 1d array was expected. Please change the shape of y to (n_samples, ), for example using ravel().\n",
      "  y = column_or_1d(y, warn=True)\n"
     ]
    },
    {
     "name": "stdout",
     "output_type": "stream",
     "text": [
      "[CV 2/5] END ...C=100, gamma=0.0001, kernel=rbf;, score=0.503 total time=   0.8s\n"
     ]
    },
    {
     "name": "stderr",
     "output_type": "stream",
     "text": [
      "/Users/pranoysarath/miniconda/envs/penv/lib/python3.10/site-packages/sklearn/utils/validation.py:1143: DataConversionWarning: A column-vector y was passed when a 1d array was expected. Please change the shape of y to (n_samples, ), for example using ravel().\n",
      "  y = column_or_1d(y, warn=True)\n"
     ]
    },
    {
     "name": "stdout",
     "output_type": "stream",
     "text": [
      "[CV 3/5] END ...C=100, gamma=0.0001, kernel=rbf;, score=0.503 total time=   0.8s\n"
     ]
    },
    {
     "name": "stderr",
     "output_type": "stream",
     "text": [
      "/Users/pranoysarath/miniconda/envs/penv/lib/python3.10/site-packages/sklearn/utils/validation.py:1143: DataConversionWarning: A column-vector y was passed when a 1d array was expected. Please change the shape of y to (n_samples, ), for example using ravel().\n",
      "  y = column_or_1d(y, warn=True)\n"
     ]
    },
    {
     "name": "stdout",
     "output_type": "stream",
     "text": [
      "[CV 4/5] END ...C=100, gamma=0.0001, kernel=rbf;, score=0.504 total time=   0.8s\n"
     ]
    },
    {
     "name": "stderr",
     "output_type": "stream",
     "text": [
      "/Users/pranoysarath/miniconda/envs/penv/lib/python3.10/site-packages/sklearn/utils/validation.py:1143: DataConversionWarning: A column-vector y was passed when a 1d array was expected. Please change the shape of y to (n_samples, ), for example using ravel().\n",
      "  y = column_or_1d(y, warn=True)\n"
     ]
    },
    {
     "name": "stdout",
     "output_type": "stream",
     "text": [
      "[CV 5/5] END ...C=100, gamma=0.0001, kernel=rbf;, score=0.503 total time=   0.8s\n"
     ]
    },
    {
     "name": "stderr",
     "output_type": "stream",
     "text": [
      "/Users/pranoysarath/miniconda/envs/penv/lib/python3.10/site-packages/sklearn/utils/validation.py:1143: DataConversionWarning: A column-vector y was passed when a 1d array was expected. Please change the shape of y to (n_samples, ), for example using ravel().\n",
      "  y = column_or_1d(y, warn=True)\n"
     ]
    },
    {
     "name": "stdout",
     "output_type": "stream",
     "text": [
      "[CV 1/5] END .......C=1000, gamma=1, kernel=rbf;, score=0.659 total time=   0.6s\n"
     ]
    },
    {
     "name": "stderr",
     "output_type": "stream",
     "text": [
      "/Users/pranoysarath/miniconda/envs/penv/lib/python3.10/site-packages/sklearn/utils/validation.py:1143: DataConversionWarning: A column-vector y was passed when a 1d array was expected. Please change the shape of y to (n_samples, ), for example using ravel().\n",
      "  y = column_or_1d(y, warn=True)\n"
     ]
    },
    {
     "name": "stdout",
     "output_type": "stream",
     "text": [
      "[CV 2/5] END .......C=1000, gamma=1, kernel=rbf;, score=0.668 total time=   0.6s\n"
     ]
    },
    {
     "name": "stderr",
     "output_type": "stream",
     "text": [
      "/Users/pranoysarath/miniconda/envs/penv/lib/python3.10/site-packages/sklearn/utils/validation.py:1143: DataConversionWarning: A column-vector y was passed when a 1d array was expected. Please change the shape of y to (n_samples, ), for example using ravel().\n",
      "  y = column_or_1d(y, warn=True)\n"
     ]
    },
    {
     "name": "stdout",
     "output_type": "stream",
     "text": [
      "[CV 3/5] END .......C=1000, gamma=1, kernel=rbf;, score=0.679 total time=   0.6s\n"
     ]
    },
    {
     "name": "stderr",
     "output_type": "stream",
     "text": [
      "/Users/pranoysarath/miniconda/envs/penv/lib/python3.10/site-packages/sklearn/utils/validation.py:1143: DataConversionWarning: A column-vector y was passed when a 1d array was expected. Please change the shape of y to (n_samples, ), for example using ravel().\n",
      "  y = column_or_1d(y, warn=True)\n"
     ]
    },
    {
     "name": "stdout",
     "output_type": "stream",
     "text": [
      "[CV 4/5] END .......C=1000, gamma=1, kernel=rbf;, score=0.667 total time=   0.6s\n"
     ]
    },
    {
     "name": "stderr",
     "output_type": "stream",
     "text": [
      "/Users/pranoysarath/miniconda/envs/penv/lib/python3.10/site-packages/sklearn/utils/validation.py:1143: DataConversionWarning: A column-vector y was passed when a 1d array was expected. Please change the shape of y to (n_samples, ), for example using ravel().\n",
      "  y = column_or_1d(y, warn=True)\n"
     ]
    },
    {
     "name": "stdout",
     "output_type": "stream",
     "text": [
      "[CV 5/5] END .......C=1000, gamma=1, kernel=rbf;, score=0.660 total time=   0.6s\n"
     ]
    },
    {
     "name": "stderr",
     "output_type": "stream",
     "text": [
      "/Users/pranoysarath/miniconda/envs/penv/lib/python3.10/site-packages/sklearn/utils/validation.py:1143: DataConversionWarning: A column-vector y was passed when a 1d array was expected. Please change the shape of y to (n_samples, ), for example using ravel().\n",
      "  y = column_or_1d(y, warn=True)\n"
     ]
    },
    {
     "name": "stdout",
     "output_type": "stream",
     "text": [
      "[CV 1/5] END .....C=1000, gamma=0.1, kernel=rbf;, score=0.644 total time=   0.6s\n"
     ]
    },
    {
     "name": "stderr",
     "output_type": "stream",
     "text": [
      "/Users/pranoysarath/miniconda/envs/penv/lib/python3.10/site-packages/sklearn/utils/validation.py:1143: DataConversionWarning: A column-vector y was passed when a 1d array was expected. Please change the shape of y to (n_samples, ), for example using ravel().\n",
      "  y = column_or_1d(y, warn=True)\n"
     ]
    },
    {
     "name": "stdout",
     "output_type": "stream",
     "text": [
      "[CV 2/5] END .....C=1000, gamma=0.1, kernel=rbf;, score=0.663 total time=   0.6s\n"
     ]
    },
    {
     "name": "stderr",
     "output_type": "stream",
     "text": [
      "/Users/pranoysarath/miniconda/envs/penv/lib/python3.10/site-packages/sklearn/utils/validation.py:1143: DataConversionWarning: A column-vector y was passed when a 1d array was expected. Please change the shape of y to (n_samples, ), for example using ravel().\n",
      "  y = column_or_1d(y, warn=True)\n"
     ]
    },
    {
     "name": "stdout",
     "output_type": "stream",
     "text": [
      "[CV 3/5] END .....C=1000, gamma=0.1, kernel=rbf;, score=0.677 total time=   0.6s\n"
     ]
    },
    {
     "name": "stderr",
     "output_type": "stream",
     "text": [
      "/Users/pranoysarath/miniconda/envs/penv/lib/python3.10/site-packages/sklearn/utils/validation.py:1143: DataConversionWarning: A column-vector y was passed when a 1d array was expected. Please change the shape of y to (n_samples, ), for example using ravel().\n",
      "  y = column_or_1d(y, warn=True)\n"
     ]
    },
    {
     "name": "stdout",
     "output_type": "stream",
     "text": [
      "[CV 4/5] END .....C=1000, gamma=0.1, kernel=rbf;, score=0.668 total time=   0.6s\n"
     ]
    },
    {
     "name": "stderr",
     "output_type": "stream",
     "text": [
      "/Users/pranoysarath/miniconda/envs/penv/lib/python3.10/site-packages/sklearn/utils/validation.py:1143: DataConversionWarning: A column-vector y was passed when a 1d array was expected. Please change the shape of y to (n_samples, ), for example using ravel().\n",
      "  y = column_or_1d(y, warn=True)\n"
     ]
    },
    {
     "name": "stdout",
     "output_type": "stream",
     "text": [
      "[CV 5/5] END .....C=1000, gamma=0.1, kernel=rbf;, score=0.649 total time=   0.6s\n"
     ]
    },
    {
     "name": "stderr",
     "output_type": "stream",
     "text": [
      "/Users/pranoysarath/miniconda/envs/penv/lib/python3.10/site-packages/sklearn/utils/validation.py:1143: DataConversionWarning: A column-vector y was passed when a 1d array was expected. Please change the shape of y to (n_samples, ), for example using ravel().\n",
      "  y = column_or_1d(y, warn=True)\n"
     ]
    },
    {
     "name": "stdout",
     "output_type": "stream",
     "text": [
      "[CV 1/5] END ....C=1000, gamma=0.01, kernel=rbf;, score=0.631 total time=   0.7s\n"
     ]
    },
    {
     "name": "stderr",
     "output_type": "stream",
     "text": [
      "/Users/pranoysarath/miniconda/envs/penv/lib/python3.10/site-packages/sklearn/utils/validation.py:1143: DataConversionWarning: A column-vector y was passed when a 1d array was expected. Please change the shape of y to (n_samples, ), for example using ravel().\n",
      "  y = column_or_1d(y, warn=True)\n"
     ]
    },
    {
     "name": "stdout",
     "output_type": "stream",
     "text": [
      "[CV 2/5] END ....C=1000, gamma=0.01, kernel=rbf;, score=0.659 total time=   0.7s\n"
     ]
    },
    {
     "name": "stderr",
     "output_type": "stream",
     "text": [
      "/Users/pranoysarath/miniconda/envs/penv/lib/python3.10/site-packages/sklearn/utils/validation.py:1143: DataConversionWarning: A column-vector y was passed when a 1d array was expected. Please change the shape of y to (n_samples, ), for example using ravel().\n",
      "  y = column_or_1d(y, warn=True)\n"
     ]
    },
    {
     "name": "stdout",
     "output_type": "stream",
     "text": [
      "[CV 3/5] END ....C=1000, gamma=0.01, kernel=rbf;, score=0.653 total time=   0.7s\n"
     ]
    },
    {
     "name": "stderr",
     "output_type": "stream",
     "text": [
      "/Users/pranoysarath/miniconda/envs/penv/lib/python3.10/site-packages/sklearn/utils/validation.py:1143: DataConversionWarning: A column-vector y was passed when a 1d array was expected. Please change the shape of y to (n_samples, ), for example using ravel().\n",
      "  y = column_or_1d(y, warn=True)\n"
     ]
    },
    {
     "name": "stdout",
     "output_type": "stream",
     "text": [
      "[CV 4/5] END ....C=1000, gamma=0.01, kernel=rbf;, score=0.650 total time=   0.7s\n"
     ]
    },
    {
     "name": "stderr",
     "output_type": "stream",
     "text": [
      "/Users/pranoysarath/miniconda/envs/penv/lib/python3.10/site-packages/sklearn/utils/validation.py:1143: DataConversionWarning: A column-vector y was passed when a 1d array was expected. Please change the shape of y to (n_samples, ), for example using ravel().\n",
      "  y = column_or_1d(y, warn=True)\n"
     ]
    },
    {
     "name": "stdout",
     "output_type": "stream",
     "text": [
      "[CV 5/5] END ....C=1000, gamma=0.01, kernel=rbf;, score=0.642 total time=   0.7s\n"
     ]
    },
    {
     "name": "stderr",
     "output_type": "stream",
     "text": [
      "/Users/pranoysarath/miniconda/envs/penv/lib/python3.10/site-packages/sklearn/utils/validation.py:1143: DataConversionWarning: A column-vector y was passed when a 1d array was expected. Please change the shape of y to (n_samples, ), for example using ravel().\n",
      "  y = column_or_1d(y, warn=True)\n"
     ]
    },
    {
     "name": "stdout",
     "output_type": "stream",
     "text": [
      "[CV 1/5] END ...C=1000, gamma=0.001, kernel=rbf;, score=0.542 total time=   0.8s\n"
     ]
    },
    {
     "name": "stderr",
     "output_type": "stream",
     "text": [
      "/Users/pranoysarath/miniconda/envs/penv/lib/python3.10/site-packages/sklearn/utils/validation.py:1143: DataConversionWarning: A column-vector y was passed when a 1d array was expected. Please change the shape of y to (n_samples, ), for example using ravel().\n",
      "  y = column_or_1d(y, warn=True)\n"
     ]
    },
    {
     "name": "stdout",
     "output_type": "stream",
     "text": [
      "[CV 2/5] END ...C=1000, gamma=0.001, kernel=rbf;, score=0.538 total time=   0.8s\n"
     ]
    },
    {
     "name": "stderr",
     "output_type": "stream",
     "text": [
      "/Users/pranoysarath/miniconda/envs/penv/lib/python3.10/site-packages/sklearn/utils/validation.py:1143: DataConversionWarning: A column-vector y was passed when a 1d array was expected. Please change the shape of y to (n_samples, ), for example using ravel().\n",
      "  y = column_or_1d(y, warn=True)\n"
     ]
    },
    {
     "name": "stdout",
     "output_type": "stream",
     "text": [
      "[CV 3/5] END ...C=1000, gamma=0.001, kernel=rbf;, score=0.527 total time=   0.8s\n"
     ]
    },
    {
     "name": "stderr",
     "output_type": "stream",
     "text": [
      "/Users/pranoysarath/miniconda/envs/penv/lib/python3.10/site-packages/sklearn/utils/validation.py:1143: DataConversionWarning: A column-vector y was passed when a 1d array was expected. Please change the shape of y to (n_samples, ), for example using ravel().\n",
      "  y = column_or_1d(y, warn=True)\n"
     ]
    },
    {
     "name": "stdout",
     "output_type": "stream",
     "text": [
      "[CV 4/5] END ...C=1000, gamma=0.001, kernel=rbf;, score=0.544 total time=   0.8s\n"
     ]
    },
    {
     "name": "stderr",
     "output_type": "stream",
     "text": [
      "/Users/pranoysarath/miniconda/envs/penv/lib/python3.10/site-packages/sklearn/utils/validation.py:1143: DataConversionWarning: A column-vector y was passed when a 1d array was expected. Please change the shape of y to (n_samples, ), for example using ravel().\n",
      "  y = column_or_1d(y, warn=True)\n"
     ]
    },
    {
     "name": "stdout",
     "output_type": "stream",
     "text": [
      "[CV 5/5] END ...C=1000, gamma=0.001, kernel=rbf;, score=0.529 total time=   0.8s\n"
     ]
    },
    {
     "name": "stderr",
     "output_type": "stream",
     "text": [
      "/Users/pranoysarath/miniconda/envs/penv/lib/python3.10/site-packages/sklearn/utils/validation.py:1143: DataConversionWarning: A column-vector y was passed when a 1d array was expected. Please change the shape of y to (n_samples, ), for example using ravel().\n",
      "  y = column_or_1d(y, warn=True)\n"
     ]
    },
    {
     "name": "stdout",
     "output_type": "stream",
     "text": [
      "[CV 1/5] END ..C=1000, gamma=0.0001, kernel=rbf;, score=0.503 total time=   0.8s\n"
     ]
    },
    {
     "name": "stderr",
     "output_type": "stream",
     "text": [
      "/Users/pranoysarath/miniconda/envs/penv/lib/python3.10/site-packages/sklearn/utils/validation.py:1143: DataConversionWarning: A column-vector y was passed when a 1d array was expected. Please change the shape of y to (n_samples, ), for example using ravel().\n",
      "  y = column_or_1d(y, warn=True)\n"
     ]
    },
    {
     "name": "stdout",
     "output_type": "stream",
     "text": [
      "[CV 2/5] END ..C=1000, gamma=0.0001, kernel=rbf;, score=0.503 total time=   0.8s\n"
     ]
    },
    {
     "name": "stderr",
     "output_type": "stream",
     "text": [
      "/Users/pranoysarath/miniconda/envs/penv/lib/python3.10/site-packages/sklearn/utils/validation.py:1143: DataConversionWarning: A column-vector y was passed when a 1d array was expected. Please change the shape of y to (n_samples, ), for example using ravel().\n",
      "  y = column_or_1d(y, warn=True)\n"
     ]
    },
    {
     "name": "stdout",
     "output_type": "stream",
     "text": [
      "[CV 3/5] END ..C=1000, gamma=0.0001, kernel=rbf;, score=0.503 total time=   0.8s\n"
     ]
    },
    {
     "name": "stderr",
     "output_type": "stream",
     "text": [
      "/Users/pranoysarath/miniconda/envs/penv/lib/python3.10/site-packages/sklearn/utils/validation.py:1143: DataConversionWarning: A column-vector y was passed when a 1d array was expected. Please change the shape of y to (n_samples, ), for example using ravel().\n",
      "  y = column_or_1d(y, warn=True)\n"
     ]
    },
    {
     "name": "stdout",
     "output_type": "stream",
     "text": [
      "[CV 4/5] END ..C=1000, gamma=0.0001, kernel=rbf;, score=0.504 total time=   0.8s\n"
     ]
    },
    {
     "name": "stderr",
     "output_type": "stream",
     "text": [
      "/Users/pranoysarath/miniconda/envs/penv/lib/python3.10/site-packages/sklearn/utils/validation.py:1143: DataConversionWarning: A column-vector y was passed when a 1d array was expected. Please change the shape of y to (n_samples, ), for example using ravel().\n",
      "  y = column_or_1d(y, warn=True)\n"
     ]
    },
    {
     "name": "stdout",
     "output_type": "stream",
     "text": [
      "[CV 5/5] END ..C=1000, gamma=0.0001, kernel=rbf;, score=0.503 total time=   0.8s\n"
     ]
    },
    {
     "name": "stderr",
     "output_type": "stream",
     "text": [
      "/Users/pranoysarath/miniconda/envs/penv/lib/python3.10/site-packages/sklearn/utils/validation.py:1143: DataConversionWarning: A column-vector y was passed when a 1d array was expected. Please change the shape of y to (n_samples, ), for example using ravel().\n",
      "  y = column_or_1d(y, warn=True)\n"
     ]
    },
    {
     "name": "stdout",
     "output_type": "stream",
     "text": [
      "Train score 0.6718608852755195\n",
      "Test score 0.6567299006323396\n"
     ]
    }
   ],
   "source": [
    "import numpy as np\n",
    "from sklearn.pipeline import make_pipeline\n",
    "from sklearn.preprocessing import StandardScaler\n",
    "from sklearn.svm import SVC\n",
    "\n",
    "\n",
    "from sklearn.model_selection import GridSearchCV\n",
    "\n",
    "param_grid = {'C': [0.1, 1, 10, 100, 1000],\n",
    "              'gamma': [1, 0.1, 0.01, 0.001, 0.0001],\n",
    "              'kernel': ['rbf']}\n",
    "grid = GridSearchCV(SVC(), param_grid, refit = True, verbose = 3)\n",
    "# clf = make_pipeline(StandardScaler(), SVC(gamma='auto'))\n",
    "grid.fit(X_train, y_train)\n",
    "print(\"Train score\", grid.score(X_train, y_train))\n",
    "print(\"Test score\", grid.score(X_test, y_test))"
   ],
   "metadata": {
    "collapsed": false
   }
  },
  {
   "cell_type": "code",
   "execution_count": 50,
   "outputs": [
    {
     "name": "stdout",
     "output_type": "stream",
     "text": [
      " Nearest Neighbors Train score 0.7793586269196026\n",
      "Nearest Neighbors Test score 0.5636856368563685\n",
      " Linear SVM Train score 0.5033875338753387\n",
      "Linear SVM Test score 0.4968383017163505\n",
      " RBF SVM Train score 0.6230803974706414\n",
      "RBF SVM Test score 0.6233062330623306\n",
      " Gaussian Process Train score 0.6919602529358627\n",
      "Gaussian Process Test score 0.6702800361336947\n",
      " Decision Tree Train score 0.6675700090334237\n",
      "Decision Tree Test score 0.5989159891598916\n",
      " Random Forest Train score 0.6808943089430894\n",
      "Random Forest Test score 0.6332429990966576\n",
      " Neural Net Train score 0.49661246612466126\n",
      "Neural Net Test score 0.5031616982836495\n",
      " AdaBoost Train score 0.6822493224932249\n",
      "AdaBoost Test score 0.6594399277326106\n",
      " Naive Bayes Train score 0.6298554652213189\n",
      "Naive Bayes Test score 0.6133694670280037\n",
      " QDA Train score 0.6705058717253839\n",
      "QDA Test score 0.6169828364950316\n"
     ]
    }
   ],
   "source": [
    "import matplotlib.pyplot as plt\n",
    "import numpy as np\n",
    "from matplotlib.colors import ListedColormap\n",
    "\n",
    "from sklearn.datasets import make_circles, make_classification, make_moons\n",
    "from sklearn.discriminant_analysis import QuadraticDiscriminantAnalysis\n",
    "from sklearn.ensemble import AdaBoostClassifier, RandomForestClassifier\n",
    "from sklearn.gaussian_process import GaussianProcessClassifier\n",
    "from sklearn.gaussian_process.kernels import RBF\n",
    "from sklearn.inspection import DecisionBoundaryDisplay\n",
    "from sklearn.model_selection import train_test_split\n",
    "from sklearn.naive_bayes import GaussianNB\n",
    "from sklearn.neighbors import KNeighborsClassifier\n",
    "from sklearn.neural_network import MLPClassifier\n",
    "from sklearn.pipeline import make_pipeline\n",
    "from sklearn.preprocessing import StandardScaler\n",
    "from sklearn.svm import SVC\n",
    "from sklearn.tree import DecisionTreeClassifier\n",
    "\n",
    "names = [\n",
    "    \"Nearest Neighbors\",\n",
    "    \"Linear SVM\",\n",
    "    \"RBF SVM\",\n",
    "    \"Gaussian Process\",\n",
    "    \"Decision Tree\",\n",
    "    \"Random Forest\",\n",
    "    \"Neural Net\",\n",
    "    \"AdaBoost\",\n",
    "    \"Naive Bayes\",\n",
    "    \"QDA\",\n",
    "]\n",
    "\n",
    "classifiers = [\n",
    "    KNeighborsClassifier(3),\n",
    "    SVC(kernel=\"linear\", C=0.025, random_state=42),\n",
    "    SVC(gamma=2, C=1, random_state=42),\n",
    "    GaussianProcessClassifier(1.0 * RBF(1.0), random_state=42),\n",
    "    DecisionTreeClassifier(max_depth=5, random_state=42),\n",
    "    RandomForestClassifier(\n",
    "        max_depth=5, n_estimators=10, max_features=1, random_state=42\n",
    "    ),\n",
    "    MLPClassifier(alpha=1, max_iter=1000, random_state=42),\n",
    "    AdaBoostClassifier(random_state=42),\n",
    "    GaussianNB(),\n",
    "    QuadraticDiscriminantAnalysis(),\n",
    "]\n",
    "\n",
    "\n",
    "\n",
    "\n",
    "for name, clf in zip(names, classifiers):\n",
    "    clf.fit(X_train, y_train_xg)\n",
    "    print(f\" {name} Train score\", clf.score(X_train, y_train_xg))\n",
    "    print(f\"{name} Test score\", clf.score(X_test, y_test_xg))\n",
    "\n",
    "\n"
   ],
   "metadata": {
    "collapsed": false
   }
  },
  {
   "cell_type": "code",
   "execution_count": null,
   "outputs": [],
   "source": [],
   "metadata": {
    "collapsed": false
   }
  }
 ],
 "metadata": {
  "kernelspec": {
   "display_name": "Python 3",
   "language": "python",
   "name": "python3"
  },
  "language_info": {
   "codemirror_mode": {
    "name": "ipython",
    "version": 2
   },
   "file_extension": ".py",
   "mimetype": "text/x-python",
   "name": "python",
   "nbconvert_exporter": "python",
   "pygments_lexer": "ipython2",
   "version": "2.7.6"
  }
 },
 "nbformat": 4,
 "nbformat_minor": 0
}
