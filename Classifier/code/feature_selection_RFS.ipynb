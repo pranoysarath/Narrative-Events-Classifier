{
 "cells": [
  {
   "cell_type": "code",
   "execution_count": 6,
   "metadata": {
    "collapsed": true
   },
   "outputs": [
    {
     "data": {
      "text/plain": "      Unnamed: 0                    AssignmentId  \\\n2756        2756  3018Q3ZVOJCZJFDMPSFXATCQ4DARA2   \n2757        2757  3018Q3ZVOJCZJFDMPSFXATCQG04RAI   \n2758        2758  3018Q3ZVOJCZJFDMPSFXATCQG06AR3   \n2759        2759  3018Q3ZVOJCZJFDMPSFXATCQG1OARN   \n2760        2760  304SM51WA4QG34IRAVFYVE1S8XNSBV   \n...          ...                             ...   \n5530        5530  3SKEMFQBZ4RZDN7C2AMMDQKHCV68K1   \n5531        5531  39PAAFCODNMWRITC4CBO6VRL6O4TV3   \n5532        5532  3FE2ERCCZYU396R8MJGQ6TWGLSMOPR   \n5533        5533  3J88R45B2HKQ3F50NA3MP6N9XXKPXS   \n5534        5534  3YW4XOSQKR7V5JS3X3H943670Y51UE   \n\n                                                  story  sequentiality  \\\n2756  The day started perfectly, with a great drive ...       0.073307   \n2757  Five months ago, my niece and nephew were born...       0.046847   \n2758  Burning Man metamorphoses was perfect. I am de...       0.046211   \n2759  Dear Diary,I would say this happened about 3 m...       0.089669   \n2760  About a month ago me and my girlfriend went to...       0.052101   \n...                                                 ...            ...   \n5530  My dog was diagnosed with lymphoma a year ago ...       0.078590   \n5531  Over my vacation from my job, I went to Casper...       0.169067   \n5532  This event was a birthday party for my nephew....       0.078642   \n5533  This event occurred about two weeks ago. I was...       0.054479   \n5534  Over the past year I have been involved with a...       0.025652   \n\n      wordcount  Analytic  Clout  Authentic   Tone  wordsPerSentence  ...  \\\n2756        183     52.16  36.93      83.55  98.59             11.44  ...   \n2757        165      1.00  58.11      63.35  58.17             11.00  ...   \n2758        318     11.06   1.00      95.30  64.84             15.14  ...   \n2759        284     30.63  72.47      83.98  29.74             18.93  ...   \n2760        252     44.90  85.62      90.66  37.34             15.75  ...   \n...         ...       ...    ...        ...    ...               ...  ...   \n5530        293      7.21   5.63      90.22  10.17             11.72  ...   \n5531        290     98.04  58.53      94.42  16.31             19.33  ...   \n5532        162     21.07  95.53      20.50  99.00             10.13  ...   \n5533        337      6.55  40.06       8.02  57.34             19.82  ...   \n5534        285     45.95  46.28      60.94  58.70             19.00  ...   \n\n      differentiation  motion  space  time  pastfocus  presentfocus  \\\n2756             1.09    3.28   8.20  6.01      11.48          1.09   \n2757             3.64    0.61   1.82  8.48      14.55          2.42   \n2758             4.09    1.89   6.92  5.35       5.66          5.03   \n2759             3.87    2.46   7.04  6.69      10.21          1.41   \n2760             4.37    3.97   8.33  5.95      11.51          0.00   \n...               ...     ...    ...   ...        ...           ...   \n5530             3.07    3.41   8.19  5.80      12.63          0.00   \n5531             1.38    4.48  15.52  3.79       8.28          0.00   \n5532             1.23    3.70   4.94  6.79      13.58          2.47   \n5533             4.75    2.08   2.97  6.23      13.95          1.19   \n5534             2.46    1.40   6.32  5.61       9.12          1.75   \n\n      sentence_length  realis_score  concretenes_score  story_type  \n2756              902      0.809524           0.271739    recalled  \n2757              876      0.750000           0.250000    recalled  \n2758             1615      0.750000           0.220126    recalled  \n2759             1474      0.775000           0.241135    recalled  \n2760             1325      0.870968           0.246032    recalled  \n...               ...           ...                ...         ...  \n5530             1474      0.745098           0.255973    recalled  \n5531             1593      0.723404           0.267361    recalled  \n5532              845      0.833333           0.327160    recalled  \n5533             1773      0.861538           0.228916    recalled  \n5534             1532      0.558140           0.234043    recalled  \n\n[2779 rows x 32 columns]",
      "text/html": "<div>\n<style scoped>\n    .dataframe tbody tr th:only-of-type {\n        vertical-align: middle;\n    }\n\n    .dataframe tbody tr th {\n        vertical-align: top;\n    }\n\n    .dataframe thead th {\n        text-align: right;\n    }\n</style>\n<table border=\"1\" class=\"dataframe\">\n  <thead>\n    <tr style=\"text-align: right;\">\n      <th></th>\n      <th>Unnamed: 0</th>\n      <th>AssignmentId</th>\n      <th>story</th>\n      <th>sequentiality</th>\n      <th>wordcount</th>\n      <th>Analytic</th>\n      <th>Clout</th>\n      <th>Authentic</th>\n      <th>Tone</th>\n      <th>wordsPerSentence</th>\n      <th>...</th>\n      <th>differentiation</th>\n      <th>motion</th>\n      <th>space</th>\n      <th>time</th>\n      <th>pastfocus</th>\n      <th>presentfocus</th>\n      <th>sentence_length</th>\n      <th>realis_score</th>\n      <th>concretenes_score</th>\n      <th>story_type</th>\n    </tr>\n  </thead>\n  <tbody>\n    <tr>\n      <th>2756</th>\n      <td>2756</td>\n      <td>3018Q3ZVOJCZJFDMPSFXATCQ4DARA2</td>\n      <td>The day started perfectly, with a great drive ...</td>\n      <td>0.073307</td>\n      <td>183</td>\n      <td>52.16</td>\n      <td>36.93</td>\n      <td>83.55</td>\n      <td>98.59</td>\n      <td>11.44</td>\n      <td>...</td>\n      <td>1.09</td>\n      <td>3.28</td>\n      <td>8.20</td>\n      <td>6.01</td>\n      <td>11.48</td>\n      <td>1.09</td>\n      <td>902</td>\n      <td>0.809524</td>\n      <td>0.271739</td>\n      <td>recalled</td>\n    </tr>\n    <tr>\n      <th>2757</th>\n      <td>2757</td>\n      <td>3018Q3ZVOJCZJFDMPSFXATCQG04RAI</td>\n      <td>Five months ago, my niece and nephew were born...</td>\n      <td>0.046847</td>\n      <td>165</td>\n      <td>1.00</td>\n      <td>58.11</td>\n      <td>63.35</td>\n      <td>58.17</td>\n      <td>11.00</td>\n      <td>...</td>\n      <td>3.64</td>\n      <td>0.61</td>\n      <td>1.82</td>\n      <td>8.48</td>\n      <td>14.55</td>\n      <td>2.42</td>\n      <td>876</td>\n      <td>0.750000</td>\n      <td>0.250000</td>\n      <td>recalled</td>\n    </tr>\n    <tr>\n      <th>2758</th>\n      <td>2758</td>\n      <td>3018Q3ZVOJCZJFDMPSFXATCQG06AR3</td>\n      <td>Burning Man metamorphoses was perfect. I am de...</td>\n      <td>0.046211</td>\n      <td>318</td>\n      <td>11.06</td>\n      <td>1.00</td>\n      <td>95.30</td>\n      <td>64.84</td>\n      <td>15.14</td>\n      <td>...</td>\n      <td>4.09</td>\n      <td>1.89</td>\n      <td>6.92</td>\n      <td>5.35</td>\n      <td>5.66</td>\n      <td>5.03</td>\n      <td>1615</td>\n      <td>0.750000</td>\n      <td>0.220126</td>\n      <td>recalled</td>\n    </tr>\n    <tr>\n      <th>2759</th>\n      <td>2759</td>\n      <td>3018Q3ZVOJCZJFDMPSFXATCQG1OARN</td>\n      <td>Dear Diary,I would say this happened about 3 m...</td>\n      <td>0.089669</td>\n      <td>284</td>\n      <td>30.63</td>\n      <td>72.47</td>\n      <td>83.98</td>\n      <td>29.74</td>\n      <td>18.93</td>\n      <td>...</td>\n      <td>3.87</td>\n      <td>2.46</td>\n      <td>7.04</td>\n      <td>6.69</td>\n      <td>10.21</td>\n      <td>1.41</td>\n      <td>1474</td>\n      <td>0.775000</td>\n      <td>0.241135</td>\n      <td>recalled</td>\n    </tr>\n    <tr>\n      <th>2760</th>\n      <td>2760</td>\n      <td>304SM51WA4QG34IRAVFYVE1S8XNSBV</td>\n      <td>About a month ago me and my girlfriend went to...</td>\n      <td>0.052101</td>\n      <td>252</td>\n      <td>44.90</td>\n      <td>85.62</td>\n      <td>90.66</td>\n      <td>37.34</td>\n      <td>15.75</td>\n      <td>...</td>\n      <td>4.37</td>\n      <td>3.97</td>\n      <td>8.33</td>\n      <td>5.95</td>\n      <td>11.51</td>\n      <td>0.00</td>\n      <td>1325</td>\n      <td>0.870968</td>\n      <td>0.246032</td>\n      <td>recalled</td>\n    </tr>\n    <tr>\n      <th>...</th>\n      <td>...</td>\n      <td>...</td>\n      <td>...</td>\n      <td>...</td>\n      <td>...</td>\n      <td>...</td>\n      <td>...</td>\n      <td>...</td>\n      <td>...</td>\n      <td>...</td>\n      <td>...</td>\n      <td>...</td>\n      <td>...</td>\n      <td>...</td>\n      <td>...</td>\n      <td>...</td>\n      <td>...</td>\n      <td>...</td>\n      <td>...</td>\n      <td>...</td>\n      <td>...</td>\n    </tr>\n    <tr>\n      <th>5530</th>\n      <td>5530</td>\n      <td>3SKEMFQBZ4RZDN7C2AMMDQKHCV68K1</td>\n      <td>My dog was diagnosed with lymphoma a year ago ...</td>\n      <td>0.078590</td>\n      <td>293</td>\n      <td>7.21</td>\n      <td>5.63</td>\n      <td>90.22</td>\n      <td>10.17</td>\n      <td>11.72</td>\n      <td>...</td>\n      <td>3.07</td>\n      <td>3.41</td>\n      <td>8.19</td>\n      <td>5.80</td>\n      <td>12.63</td>\n      <td>0.00</td>\n      <td>1474</td>\n      <td>0.745098</td>\n      <td>0.255973</td>\n      <td>recalled</td>\n    </tr>\n    <tr>\n      <th>5531</th>\n      <td>5531</td>\n      <td>39PAAFCODNMWRITC4CBO6VRL6O4TV3</td>\n      <td>Over my vacation from my job, I went to Casper...</td>\n      <td>0.169067</td>\n      <td>290</td>\n      <td>98.04</td>\n      <td>58.53</td>\n      <td>94.42</td>\n      <td>16.31</td>\n      <td>19.33</td>\n      <td>...</td>\n      <td>1.38</td>\n      <td>4.48</td>\n      <td>15.52</td>\n      <td>3.79</td>\n      <td>8.28</td>\n      <td>0.00</td>\n      <td>1593</td>\n      <td>0.723404</td>\n      <td>0.267361</td>\n      <td>recalled</td>\n    </tr>\n    <tr>\n      <th>5532</th>\n      <td>5532</td>\n      <td>3FE2ERCCZYU396R8MJGQ6TWGLSMOPR</td>\n      <td>This event was a birthday party for my nephew....</td>\n      <td>0.078642</td>\n      <td>162</td>\n      <td>21.07</td>\n      <td>95.53</td>\n      <td>20.50</td>\n      <td>99.00</td>\n      <td>10.13</td>\n      <td>...</td>\n      <td>1.23</td>\n      <td>3.70</td>\n      <td>4.94</td>\n      <td>6.79</td>\n      <td>13.58</td>\n      <td>2.47</td>\n      <td>845</td>\n      <td>0.833333</td>\n      <td>0.327160</td>\n      <td>recalled</td>\n    </tr>\n    <tr>\n      <th>5533</th>\n      <td>5533</td>\n      <td>3J88R45B2HKQ3F50NA3MP6N9XXKPXS</td>\n      <td>This event occurred about two weeks ago. I was...</td>\n      <td>0.054479</td>\n      <td>337</td>\n      <td>6.55</td>\n      <td>40.06</td>\n      <td>8.02</td>\n      <td>57.34</td>\n      <td>19.82</td>\n      <td>...</td>\n      <td>4.75</td>\n      <td>2.08</td>\n      <td>2.97</td>\n      <td>6.23</td>\n      <td>13.95</td>\n      <td>1.19</td>\n      <td>1773</td>\n      <td>0.861538</td>\n      <td>0.228916</td>\n      <td>recalled</td>\n    </tr>\n    <tr>\n      <th>5534</th>\n      <td>5534</td>\n      <td>3YW4XOSQKR7V5JS3X3H943670Y51UE</td>\n      <td>Over the past year I have been involved with a...</td>\n      <td>0.025652</td>\n      <td>285</td>\n      <td>45.95</td>\n      <td>46.28</td>\n      <td>60.94</td>\n      <td>58.70</td>\n      <td>19.00</td>\n      <td>...</td>\n      <td>2.46</td>\n      <td>1.40</td>\n      <td>6.32</td>\n      <td>5.61</td>\n      <td>9.12</td>\n      <td>1.75</td>\n      <td>1532</td>\n      <td>0.558140</td>\n      <td>0.234043</td>\n      <td>recalled</td>\n    </tr>\n  </tbody>\n</table>\n<p>2779 rows × 32 columns</p>\n</div>"
     },
     "execution_count": 6,
     "metadata": {},
     "output_type": "execute_result"
    }
   ],
   "source": [
    "import pandas as pd\n",
    "\n",
    "df = pd.read_csv(\"/Users/pranoysarath/PycharmProjects/pythonProject1/AI_FInal_project/seq_final.csv\")\n",
    "df"
   ]
  },
  {
   "cell_type": "code",
   "execution_count": 9,
   "outputs": [],
   "source": [
    "from sklearn.metrics import f1_score\n",
    "from xgboost import XGBClassifier\n",
    "\n",
    "\n",
    "def xgboost_train(features):\n",
    "    from sklearn.preprocessing import LabelEncoder\n",
    "    from sklearn.linear_model import LogisticRegression\n",
    "    from sklearn.feature_selection import SequentialFeatureSelector\n",
    "\n",
    "    X = df[features]\n",
    "    y = df[['story_type']]\n",
    "\n",
    "    le = LabelEncoder()\n",
    "    le.fit(['recalled', 'imagined'])\n",
    "\n",
    "\n",
    "    from sklearn import preprocessing\n",
    "    X_scaled = preprocessing.normalize(X, axis=0)\n",
    "    X_scaled = pd.DataFrame(X_scaled, columns=X.columns)\n",
    "    X = X_scaled\n",
    "\n",
    "    from sklearn.model_selection import train_test_split\n",
    "    xgb_model = XGBClassifier(objective=\"binary:logistic\", random_state=42)\n",
    "    X_train, X_test, y_train, y_test = train_test_split( X, y, test_size=0.2, random_state=42)\n",
    "\n",
    "    y_train_xg = le.transform(y_train)\n",
    "    y_test_xg = le.transform(y_test)\n",
    "\n",
    "\n",
    "    xgb_model.fit(X_train, y_train_xg)\n",
    "    # print(\"Train score\", xgb_model.score(X_train, y_train_xg))\n",
    "    # print(\"Test score\", xgb_model.score(X_test, y_test_xg))\n",
    "    #\n",
    "    #\n",
    "    #\n",
    "    # print(\"f1 score recalled\", f1_score(xgb_model.predict(X_test), y_test_xg, pos_label=0))\n",
    "    # print(\"f1 score Imagined\", f1_score(xgb_model.predict(X_test), y_test_xg, pos_label=1))\n",
    "\n",
    "    return {\n",
    "        'train_score' : xgb_model.score(X_train, y_train_xg),\n",
    "        'test_score' : xgb_model.score(X_test, y_test_xg),\n",
    "        'f1_score_recalled' : f1_score(xgb_model.predict(X_test), y_test_xg, pos_label=0),\n",
    "        'f1_score_Imagined' : f1_score(xgb_model.predict(X_test), y_test_xg, pos_label=1),\n",
    "        'f1_score_weighted' : f1_score(xgb_model.predict(X_test), y_test_xg, average='weighted')\n",
    "    }"
   ],
   "metadata": {
    "collapsed": false
   }
  },
  {
   "cell_type": "code",
   "execution_count": 10,
   "outputs": [
    {
     "name": "stderr",
     "output_type": "stream",
     "text": [
      "/Users/pranoysarath/miniconda/envs/penv/lib/python3.10/site-packages/sklearn/preprocessing/_label.py:134: DataConversionWarning: A column-vector y was passed when a 1d array was expected. Please change the shape of y to (n_samples, ), for example using ravel().\n",
      "  y = column_or_1d(y, dtype=self.classes_.dtype, warn=True)\n"
     ]
    },
    {
     "name": "stdout",
     "output_type": "stream",
     "text": [
      "Processing 1 features selection\n"
     ]
    },
    {
     "name": "stderr",
     "output_type": "stream",
     "text": [
      "/Users/pranoysarath/miniconda/envs/penv/lib/python3.10/site-packages/sklearn/preprocessing/_label.py:134: DataConversionWarning: A column-vector y was passed when a 1d array was expected. Please change the shape of y to (n_samples, ), for example using ravel().\n",
      "  y = column_or_1d(y, dtype=self.classes_.dtype, warn=True)\n",
      "/Users/pranoysarath/miniconda/envs/penv/lib/python3.10/site-packages/sklearn/preprocessing/_label.py:134: DataConversionWarning: A column-vector y was passed when a 1d array was expected. Please change the shape of y to (n_samples, ), for example using ravel().\n",
      "  y = column_or_1d(y, dtype=self.classes_.dtype, warn=True)\n"
     ]
    },
    {
     "name": "stdout",
     "output_type": "stream",
     "text": [
      "Processing 2 features selection\n"
     ]
    },
    {
     "name": "stderr",
     "output_type": "stream",
     "text": [
      "/Users/pranoysarath/miniconda/envs/penv/lib/python3.10/site-packages/sklearn/preprocessing/_label.py:134: DataConversionWarning: A column-vector y was passed when a 1d array was expected. Please change the shape of y to (n_samples, ), for example using ravel().\n",
      "  y = column_or_1d(y, dtype=self.classes_.dtype, warn=True)\n",
      "/Users/pranoysarath/miniconda/envs/penv/lib/python3.10/site-packages/sklearn/preprocessing/_label.py:134: DataConversionWarning: A column-vector y was passed when a 1d array was expected. Please change the shape of y to (n_samples, ), for example using ravel().\n",
      "  y = column_or_1d(y, dtype=self.classes_.dtype, warn=True)\n"
     ]
    },
    {
     "name": "stdout",
     "output_type": "stream",
     "text": [
      "Processing 3 features selection\n"
     ]
    },
    {
     "name": "stderr",
     "output_type": "stream",
     "text": [
      "/Users/pranoysarath/miniconda/envs/penv/lib/python3.10/site-packages/sklearn/preprocessing/_label.py:134: DataConversionWarning: A column-vector y was passed when a 1d array was expected. Please change the shape of y to (n_samples, ), for example using ravel().\n",
      "  y = column_or_1d(y, dtype=self.classes_.dtype, warn=True)\n",
      "/Users/pranoysarath/miniconda/envs/penv/lib/python3.10/site-packages/sklearn/preprocessing/_label.py:134: DataConversionWarning: A column-vector y was passed when a 1d array was expected. Please change the shape of y to (n_samples, ), for example using ravel().\n",
      "  y = column_or_1d(y, dtype=self.classes_.dtype, warn=True)\n"
     ]
    },
    {
     "name": "stdout",
     "output_type": "stream",
     "text": [
      "Processing 4 features selection\n"
     ]
    },
    {
     "name": "stderr",
     "output_type": "stream",
     "text": [
      "/Users/pranoysarath/miniconda/envs/penv/lib/python3.10/site-packages/sklearn/preprocessing/_label.py:134: DataConversionWarning: A column-vector y was passed when a 1d array was expected. Please change the shape of y to (n_samples, ), for example using ravel().\n",
      "  y = column_or_1d(y, dtype=self.classes_.dtype, warn=True)\n",
      "/Users/pranoysarath/miniconda/envs/penv/lib/python3.10/site-packages/sklearn/preprocessing/_label.py:134: DataConversionWarning: A column-vector y was passed when a 1d array was expected. Please change the shape of y to (n_samples, ), for example using ravel().\n",
      "  y = column_or_1d(y, dtype=self.classes_.dtype, warn=True)\n"
     ]
    },
    {
     "name": "stdout",
     "output_type": "stream",
     "text": [
      "Processing 5 features selection\n"
     ]
    },
    {
     "name": "stderr",
     "output_type": "stream",
     "text": [
      "/Users/pranoysarath/miniconda/envs/penv/lib/python3.10/site-packages/sklearn/preprocessing/_label.py:134: DataConversionWarning: A column-vector y was passed when a 1d array was expected. Please change the shape of y to (n_samples, ), for example using ravel().\n",
      "  y = column_or_1d(y, dtype=self.classes_.dtype, warn=True)\n",
      "/Users/pranoysarath/miniconda/envs/penv/lib/python3.10/site-packages/sklearn/preprocessing/_label.py:134: DataConversionWarning: A column-vector y was passed when a 1d array was expected. Please change the shape of y to (n_samples, ), for example using ravel().\n",
      "  y = column_or_1d(y, dtype=self.classes_.dtype, warn=True)\n"
     ]
    },
    {
     "name": "stdout",
     "output_type": "stream",
     "text": [
      "Processing 6 features selection\n"
     ]
    },
    {
     "name": "stderr",
     "output_type": "stream",
     "text": [
      "/Users/pranoysarath/miniconda/envs/penv/lib/python3.10/site-packages/sklearn/preprocessing/_label.py:134: DataConversionWarning: A column-vector y was passed when a 1d array was expected. Please change the shape of y to (n_samples, ), for example using ravel().\n",
      "  y = column_or_1d(y, dtype=self.classes_.dtype, warn=True)\n",
      "/Users/pranoysarath/miniconda/envs/penv/lib/python3.10/site-packages/sklearn/preprocessing/_label.py:134: DataConversionWarning: A column-vector y was passed when a 1d array was expected. Please change the shape of y to (n_samples, ), for example using ravel().\n",
      "  y = column_or_1d(y, dtype=self.classes_.dtype, warn=True)\n"
     ]
    },
    {
     "name": "stdout",
     "output_type": "stream",
     "text": [
      "Processing 7 features selection\n"
     ]
    },
    {
     "name": "stderr",
     "output_type": "stream",
     "text": [
      "/Users/pranoysarath/miniconda/envs/penv/lib/python3.10/site-packages/sklearn/preprocessing/_label.py:134: DataConversionWarning: A column-vector y was passed when a 1d array was expected. Please change the shape of y to (n_samples, ), for example using ravel().\n",
      "  y = column_or_1d(y, dtype=self.classes_.dtype, warn=True)\n",
      "/Users/pranoysarath/miniconda/envs/penv/lib/python3.10/site-packages/sklearn/preprocessing/_label.py:134: DataConversionWarning: A column-vector y was passed when a 1d array was expected. Please change the shape of y to (n_samples, ), for example using ravel().\n",
      "  y = column_or_1d(y, dtype=self.classes_.dtype, warn=True)\n"
     ]
    },
    {
     "name": "stdout",
     "output_type": "stream",
     "text": [
      "Processing 8 features selection\n"
     ]
    },
    {
     "name": "stderr",
     "output_type": "stream",
     "text": [
      "/Users/pranoysarath/miniconda/envs/penv/lib/python3.10/site-packages/sklearn/preprocessing/_label.py:134: DataConversionWarning: A column-vector y was passed when a 1d array was expected. Please change the shape of y to (n_samples, ), for example using ravel().\n",
      "  y = column_or_1d(y, dtype=self.classes_.dtype, warn=True)\n",
      "/Users/pranoysarath/miniconda/envs/penv/lib/python3.10/site-packages/sklearn/preprocessing/_label.py:134: DataConversionWarning: A column-vector y was passed when a 1d array was expected. Please change the shape of y to (n_samples, ), for example using ravel().\n",
      "  y = column_or_1d(y, dtype=self.classes_.dtype, warn=True)\n"
     ]
    },
    {
     "name": "stdout",
     "output_type": "stream",
     "text": [
      "Processing 9 features selection\n"
     ]
    },
    {
     "name": "stderr",
     "output_type": "stream",
     "text": [
      "/Users/pranoysarath/miniconda/envs/penv/lib/python3.10/site-packages/sklearn/preprocessing/_label.py:134: DataConversionWarning: A column-vector y was passed when a 1d array was expected. Please change the shape of y to (n_samples, ), for example using ravel().\n",
      "  y = column_or_1d(y, dtype=self.classes_.dtype, warn=True)\n",
      "/Users/pranoysarath/miniconda/envs/penv/lib/python3.10/site-packages/sklearn/preprocessing/_label.py:134: DataConversionWarning: A column-vector y was passed when a 1d array was expected. Please change the shape of y to (n_samples, ), for example using ravel().\n",
      "  y = column_or_1d(y, dtype=self.classes_.dtype, warn=True)\n"
     ]
    },
    {
     "name": "stdout",
     "output_type": "stream",
     "text": [
      "Processing 10 features selection\n"
     ]
    },
    {
     "name": "stderr",
     "output_type": "stream",
     "text": [
      "/Users/pranoysarath/miniconda/envs/penv/lib/python3.10/site-packages/sklearn/preprocessing/_label.py:134: DataConversionWarning: A column-vector y was passed when a 1d array was expected. Please change the shape of y to (n_samples, ), for example using ravel().\n",
      "  y = column_or_1d(y, dtype=self.classes_.dtype, warn=True)\n",
      "/Users/pranoysarath/miniconda/envs/penv/lib/python3.10/site-packages/sklearn/preprocessing/_label.py:134: DataConversionWarning: A column-vector y was passed when a 1d array was expected. Please change the shape of y to (n_samples, ), for example using ravel().\n",
      "  y = column_or_1d(y, dtype=self.classes_.dtype, warn=True)\n"
     ]
    },
    {
     "name": "stdout",
     "output_type": "stream",
     "text": [
      "Processing 11 features selection\n"
     ]
    },
    {
     "name": "stderr",
     "output_type": "stream",
     "text": [
      "/Users/pranoysarath/miniconda/envs/penv/lib/python3.10/site-packages/sklearn/preprocessing/_label.py:134: DataConversionWarning: A column-vector y was passed when a 1d array was expected. Please change the shape of y to (n_samples, ), for example using ravel().\n",
      "  y = column_or_1d(y, dtype=self.classes_.dtype, warn=True)\n",
      "/Users/pranoysarath/miniconda/envs/penv/lib/python3.10/site-packages/sklearn/preprocessing/_label.py:134: DataConversionWarning: A column-vector y was passed when a 1d array was expected. Please change the shape of y to (n_samples, ), for example using ravel().\n",
      "  y = column_or_1d(y, dtype=self.classes_.dtype, warn=True)\n"
     ]
    },
    {
     "name": "stdout",
     "output_type": "stream",
     "text": [
      "Processing 12 features selection\n"
     ]
    },
    {
     "name": "stderr",
     "output_type": "stream",
     "text": [
      "/Users/pranoysarath/miniconda/envs/penv/lib/python3.10/site-packages/sklearn/preprocessing/_label.py:134: DataConversionWarning: A column-vector y was passed when a 1d array was expected. Please change the shape of y to (n_samples, ), for example using ravel().\n",
      "  y = column_or_1d(y, dtype=self.classes_.dtype, warn=True)\n",
      "/Users/pranoysarath/miniconda/envs/penv/lib/python3.10/site-packages/sklearn/preprocessing/_label.py:134: DataConversionWarning: A column-vector y was passed when a 1d array was expected. Please change the shape of y to (n_samples, ), for example using ravel().\n",
      "  y = column_or_1d(y, dtype=self.classes_.dtype, warn=True)\n"
     ]
    },
    {
     "name": "stdout",
     "output_type": "stream",
     "text": [
      "Processing 13 features selection\n"
     ]
    },
    {
     "name": "stderr",
     "output_type": "stream",
     "text": [
      "/Users/pranoysarath/miniconda/envs/penv/lib/python3.10/site-packages/sklearn/preprocessing/_label.py:134: DataConversionWarning: A column-vector y was passed when a 1d array was expected. Please change the shape of y to (n_samples, ), for example using ravel().\n",
      "  y = column_or_1d(y, dtype=self.classes_.dtype, warn=True)\n",
      "/Users/pranoysarath/miniconda/envs/penv/lib/python3.10/site-packages/sklearn/preprocessing/_label.py:134: DataConversionWarning: A column-vector y was passed when a 1d array was expected. Please change the shape of y to (n_samples, ), for example using ravel().\n",
      "  y = column_or_1d(y, dtype=self.classes_.dtype, warn=True)\n"
     ]
    },
    {
     "name": "stdout",
     "output_type": "stream",
     "text": [
      "Processing 14 features selection\n"
     ]
    },
    {
     "name": "stderr",
     "output_type": "stream",
     "text": [
      "/Users/pranoysarath/miniconda/envs/penv/lib/python3.10/site-packages/sklearn/preprocessing/_label.py:134: DataConversionWarning: A column-vector y was passed when a 1d array was expected. Please change the shape of y to (n_samples, ), for example using ravel().\n",
      "  y = column_or_1d(y, dtype=self.classes_.dtype, warn=True)\n",
      "/Users/pranoysarath/miniconda/envs/penv/lib/python3.10/site-packages/sklearn/preprocessing/_label.py:134: DataConversionWarning: A column-vector y was passed when a 1d array was expected. Please change the shape of y to (n_samples, ), for example using ravel().\n",
      "  y = column_or_1d(y, dtype=self.classes_.dtype, warn=True)\n"
     ]
    },
    {
     "name": "stdout",
     "output_type": "stream",
     "text": [
      "Processing 15 features selection\n"
     ]
    },
    {
     "name": "stderr",
     "output_type": "stream",
     "text": [
      "/Users/pranoysarath/miniconda/envs/penv/lib/python3.10/site-packages/sklearn/preprocessing/_label.py:134: DataConversionWarning: A column-vector y was passed when a 1d array was expected. Please change the shape of y to (n_samples, ), for example using ravel().\n",
      "  y = column_or_1d(y, dtype=self.classes_.dtype, warn=True)\n",
      "/Users/pranoysarath/miniconda/envs/penv/lib/python3.10/site-packages/sklearn/preprocessing/_label.py:134: DataConversionWarning: A column-vector y was passed when a 1d array was expected. Please change the shape of y to (n_samples, ), for example using ravel().\n",
      "  y = column_or_1d(y, dtype=self.classes_.dtype, warn=True)\n"
     ]
    },
    {
     "name": "stdout",
     "output_type": "stream",
     "text": [
      "Processing 16 features selection\n"
     ]
    },
    {
     "name": "stderr",
     "output_type": "stream",
     "text": [
      "/Users/pranoysarath/miniconda/envs/penv/lib/python3.10/site-packages/sklearn/preprocessing/_label.py:134: DataConversionWarning: A column-vector y was passed when a 1d array was expected. Please change the shape of y to (n_samples, ), for example using ravel().\n",
      "  y = column_or_1d(y, dtype=self.classes_.dtype, warn=True)\n",
      "/Users/pranoysarath/miniconda/envs/penv/lib/python3.10/site-packages/sklearn/preprocessing/_label.py:134: DataConversionWarning: A column-vector y was passed when a 1d array was expected. Please change the shape of y to (n_samples, ), for example using ravel().\n",
      "  y = column_or_1d(y, dtype=self.classes_.dtype, warn=True)\n"
     ]
    },
    {
     "name": "stdout",
     "output_type": "stream",
     "text": [
      "Processing 17 features selection\n"
     ]
    },
    {
     "name": "stderr",
     "output_type": "stream",
     "text": [
      "/Users/pranoysarath/miniconda/envs/penv/lib/python3.10/site-packages/sklearn/preprocessing/_label.py:134: DataConversionWarning: A column-vector y was passed when a 1d array was expected. Please change the shape of y to (n_samples, ), for example using ravel().\n",
      "  y = column_or_1d(y, dtype=self.classes_.dtype, warn=True)\n",
      "/Users/pranoysarath/miniconda/envs/penv/lib/python3.10/site-packages/sklearn/preprocessing/_label.py:134: DataConversionWarning: A column-vector y was passed when a 1d array was expected. Please change the shape of y to (n_samples, ), for example using ravel().\n",
      "  y = column_or_1d(y, dtype=self.classes_.dtype, warn=True)\n"
     ]
    },
    {
     "name": "stdout",
     "output_type": "stream",
     "text": [
      "Processing 18 features selection\n"
     ]
    },
    {
     "name": "stderr",
     "output_type": "stream",
     "text": [
      "/Users/pranoysarath/miniconda/envs/penv/lib/python3.10/site-packages/sklearn/preprocessing/_label.py:134: DataConversionWarning: A column-vector y was passed when a 1d array was expected. Please change the shape of y to (n_samples, ), for example using ravel().\n",
      "  y = column_or_1d(y, dtype=self.classes_.dtype, warn=True)\n",
      "/Users/pranoysarath/miniconda/envs/penv/lib/python3.10/site-packages/sklearn/preprocessing/_label.py:134: DataConversionWarning: A column-vector y was passed when a 1d array was expected. Please change the shape of y to (n_samples, ), for example using ravel().\n",
      "  y = column_or_1d(y, dtype=self.classes_.dtype, warn=True)\n"
     ]
    },
    {
     "name": "stdout",
     "output_type": "stream",
     "text": [
      "Processing 19 features selection\n"
     ]
    },
    {
     "name": "stderr",
     "output_type": "stream",
     "text": [
      "/Users/pranoysarath/miniconda/envs/penv/lib/python3.10/site-packages/sklearn/preprocessing/_label.py:134: DataConversionWarning: A column-vector y was passed when a 1d array was expected. Please change the shape of y to (n_samples, ), for example using ravel().\n",
      "  y = column_or_1d(y, dtype=self.classes_.dtype, warn=True)\n",
      "/Users/pranoysarath/miniconda/envs/penv/lib/python3.10/site-packages/sklearn/preprocessing/_label.py:134: DataConversionWarning: A column-vector y was passed when a 1d array was expected. Please change the shape of y to (n_samples, ), for example using ravel().\n",
      "  y = column_or_1d(y, dtype=self.classes_.dtype, warn=True)\n"
     ]
    },
    {
     "name": "stdout",
     "output_type": "stream",
     "text": [
      "Processing 20 features selection\n"
     ]
    },
    {
     "name": "stderr",
     "output_type": "stream",
     "text": [
      "/Users/pranoysarath/miniconda/envs/penv/lib/python3.10/site-packages/sklearn/preprocessing/_label.py:134: DataConversionWarning: A column-vector y was passed when a 1d array was expected. Please change the shape of y to (n_samples, ), for example using ravel().\n",
      "  y = column_or_1d(y, dtype=self.classes_.dtype, warn=True)\n",
      "/Users/pranoysarath/miniconda/envs/penv/lib/python3.10/site-packages/sklearn/preprocessing/_label.py:134: DataConversionWarning: A column-vector y was passed when a 1d array was expected. Please change the shape of y to (n_samples, ), for example using ravel().\n",
      "  y = column_or_1d(y, dtype=self.classes_.dtype, warn=True)\n"
     ]
    },
    {
     "name": "stdout",
     "output_type": "stream",
     "text": [
      "Processing 21 features selection\n"
     ]
    },
    {
     "name": "stderr",
     "output_type": "stream",
     "text": [
      "/Users/pranoysarath/miniconda/envs/penv/lib/python3.10/site-packages/sklearn/preprocessing/_label.py:134: DataConversionWarning: A column-vector y was passed when a 1d array was expected. Please change the shape of y to (n_samples, ), for example using ravel().\n",
      "  y = column_or_1d(y, dtype=self.classes_.dtype, warn=True)\n",
      "/Users/pranoysarath/miniconda/envs/penv/lib/python3.10/site-packages/sklearn/preprocessing/_label.py:134: DataConversionWarning: A column-vector y was passed when a 1d array was expected. Please change the shape of y to (n_samples, ), for example using ravel().\n",
      "  y = column_or_1d(y, dtype=self.classes_.dtype, warn=True)\n"
     ]
    },
    {
     "name": "stdout",
     "output_type": "stream",
     "text": [
      "Processing 22 features selection\n"
     ]
    },
    {
     "name": "stderr",
     "output_type": "stream",
     "text": [
      "/Users/pranoysarath/miniconda/envs/penv/lib/python3.10/site-packages/sklearn/preprocessing/_label.py:134: DataConversionWarning: A column-vector y was passed when a 1d array was expected. Please change the shape of y to (n_samples, ), for example using ravel().\n",
      "  y = column_or_1d(y, dtype=self.classes_.dtype, warn=True)\n",
      "/Users/pranoysarath/miniconda/envs/penv/lib/python3.10/site-packages/sklearn/preprocessing/_label.py:134: DataConversionWarning: A column-vector y was passed when a 1d array was expected. Please change the shape of y to (n_samples, ), for example using ravel().\n",
      "  y = column_or_1d(y, dtype=self.classes_.dtype, warn=True)\n"
     ]
    },
    {
     "name": "stdout",
     "output_type": "stream",
     "text": [
      "Processing 23 features selection\n"
     ]
    },
    {
     "name": "stderr",
     "output_type": "stream",
     "text": [
      "/Users/pranoysarath/miniconda/envs/penv/lib/python3.10/site-packages/sklearn/preprocessing/_label.py:134: DataConversionWarning: A column-vector y was passed when a 1d array was expected. Please change the shape of y to (n_samples, ), for example using ravel().\n",
      "  y = column_or_1d(y, dtype=self.classes_.dtype, warn=True)\n",
      "/Users/pranoysarath/miniconda/envs/penv/lib/python3.10/site-packages/sklearn/preprocessing/_label.py:134: DataConversionWarning: A column-vector y was passed when a 1d array was expected. Please change the shape of y to (n_samples, ), for example using ravel().\n",
      "  y = column_or_1d(y, dtype=self.classes_.dtype, warn=True)\n"
     ]
    },
    {
     "name": "stdout",
     "output_type": "stream",
     "text": [
      "Processing 24 features selection\n"
     ]
    },
    {
     "name": "stderr",
     "output_type": "stream",
     "text": [
      "/Users/pranoysarath/miniconda/envs/penv/lib/python3.10/site-packages/sklearn/preprocessing/_label.py:134: DataConversionWarning: A column-vector y was passed when a 1d array was expected. Please change the shape of y to (n_samples, ), for example using ravel().\n",
      "  y = column_or_1d(y, dtype=self.classes_.dtype, warn=True)\n",
      "/Users/pranoysarath/miniconda/envs/penv/lib/python3.10/site-packages/sklearn/preprocessing/_label.py:134: DataConversionWarning: A column-vector y was passed when a 1d array was expected. Please change the shape of y to (n_samples, ), for example using ravel().\n",
      "  y = column_or_1d(y, dtype=self.classes_.dtype, warn=True)\n"
     ]
    },
    {
     "name": "stdout",
     "output_type": "stream",
     "text": [
      "Processing 25 features selection\n"
     ]
    },
    {
     "name": "stderr",
     "output_type": "stream",
     "text": [
      "/Users/pranoysarath/miniconda/envs/penv/lib/python3.10/site-packages/sklearn/preprocessing/_label.py:134: DataConversionWarning: A column-vector y was passed when a 1d array was expected. Please change the shape of y to (n_samples, ), for example using ravel().\n",
      "  y = column_or_1d(y, dtype=self.classes_.dtype, warn=True)\n",
      "/Users/pranoysarath/miniconda/envs/penv/lib/python3.10/site-packages/sklearn/preprocessing/_label.py:134: DataConversionWarning: A column-vector y was passed when a 1d array was expected. Please change the shape of y to (n_samples, ), for example using ravel().\n",
      "  y = column_or_1d(y, dtype=self.classes_.dtype, warn=True)\n"
     ]
    },
    {
     "name": "stdout",
     "output_type": "stream",
     "text": [
      "Processing 26 features selection\n"
     ]
    },
    {
     "name": "stderr",
     "output_type": "stream",
     "text": [
      "/Users/pranoysarath/miniconda/envs/penv/lib/python3.10/site-packages/sklearn/preprocessing/_label.py:134: DataConversionWarning: A column-vector y was passed when a 1d array was expected. Please change the shape of y to (n_samples, ), for example using ravel().\n",
      "  y = column_or_1d(y, dtype=self.classes_.dtype, warn=True)\n",
      "/Users/pranoysarath/miniconda/envs/penv/lib/python3.10/site-packages/sklearn/preprocessing/_label.py:134: DataConversionWarning: A column-vector y was passed when a 1d array was expected. Please change the shape of y to (n_samples, ), for example using ravel().\n",
      "  y = column_or_1d(y, dtype=self.classes_.dtype, warn=True)\n"
     ]
    },
    {
     "name": "stdout",
     "output_type": "stream",
     "text": [
      "Processing 27 features selection\n"
     ]
    },
    {
     "name": "stderr",
     "output_type": "stream",
     "text": [
      "/Users/pranoysarath/miniconda/envs/penv/lib/python3.10/site-packages/sklearn/preprocessing/_label.py:134: DataConversionWarning: A column-vector y was passed when a 1d array was expected. Please change the shape of y to (n_samples, ), for example using ravel().\n",
      "  y = column_or_1d(y, dtype=self.classes_.dtype, warn=True)\n",
      "/Users/pranoysarath/miniconda/envs/penv/lib/python3.10/site-packages/sklearn/preprocessing/_label.py:134: DataConversionWarning: A column-vector y was passed when a 1d array was expected. Please change the shape of y to (n_samples, ), for example using ravel().\n",
      "  y = column_or_1d(y, dtype=self.classes_.dtype, warn=True)\n"
     ]
    },
    {
     "name": "stdout",
     "output_type": "stream",
     "text": [
      "Processing 28 features selection\n"
     ]
    },
    {
     "name": "stderr",
     "output_type": "stream",
     "text": [
      "/Users/pranoysarath/miniconda/envs/penv/lib/python3.10/site-packages/sklearn/preprocessing/_label.py:134: DataConversionWarning: A column-vector y was passed when a 1d array was expected. Please change the shape of y to (n_samples, ), for example using ravel().\n",
      "  y = column_or_1d(y, dtype=self.classes_.dtype, warn=True)\n",
      "/Users/pranoysarath/miniconda/envs/penv/lib/python3.10/site-packages/sklearn/preprocessing/_label.py:134: DataConversionWarning: A column-vector y was passed when a 1d array was expected. Please change the shape of y to (n_samples, ), for example using ravel().\n",
      "  y = column_or_1d(y, dtype=self.classes_.dtype, warn=True)\n"
     ]
    }
   ],
   "source": [
    "from sklearn.preprocessing import LabelEncoder\n",
    "from xgboost import XGBClassifier\n",
    "from sklearn.svm import SVC\n",
    "from sklearn.feature_selection import RFE\n",
    "from sklearn import preprocessing\n",
    "\n",
    "features =['sequentiality',\n",
    "        'wordcount', 'Analytic', 'Clout', 'Authentic', 'Tone',\n",
    "       'wordsPerSentence', 'BigWords', 'function', 'article', 'number',\n",
    "       'preposition', 'conjunction', 'negation', 'cognitiveProcess', 'insight',\n",
    "       'discrepancy', 'tentative', 'certitude', 'differentiation', 'motion',\n",
    "       'space', 'time', 'pastfocus', 'presentfocus', 'sentence_length',\n",
    "       'realis_score', 'concretenes_score']\n",
    "X = df[features]\n",
    "\n",
    "y = df[['story_type']]\n",
    "X_mod = preprocessing.normalize(X, axis=0)\n",
    "X_mod = pd.DataFrame(X_mod, columns=X.columns)\n",
    "X  = X_mod\n",
    "le = LabelEncoder()\n",
    "le.fit(['recalled', 'imagined'])\n",
    "y = le.transform(y)\n",
    "\n",
    "\n",
    "output = []\n",
    "for i in range(len(features)):\n",
    "    print(f\"Processing {i+1} features selection\")\n",
    "    rfe_selector = RFE(estimator=XGBClassifier(),n_features_to_select = i + 1, step = 1)\n",
    "    rfe_selector.fit(X, y)\n",
    "    cols = X.columns[rfe_selector.get_support()].to_list()\n",
    "    output.append((cols,xgboost_train(cols)))"
   ],
   "metadata": {
    "collapsed": false
   }
  },
  {
   "cell_type": "code",
   "execution_count": 19,
   "outputs": [
    {
     "data": {
      "text/plain": "<Figure size 600x200 with 1 Axes>",
      "image/png": "[encoded data removed]"
     },
     "metadata": {},
     "output_type": "display_data"
    }
   ],
   "source": [
    "sorted_out = sorted(output, key = lambda x : x[1]['test_score'],  reverse=False)\n",
    "# print(sorted_out[i][1][\"test_score\"])\n",
    "\n",
    "\n",
    "train_accuracy = []\n",
    "test_accuracy = []\n",
    "f1_score_recalled = []\n",
    "f1_score_imagined = []\n",
    "f1_score_weighted = []\n",
    "\n",
    "for i in range(len(sorted_out)):\n",
    "    train_accuracy.append(output[i][1][\"train_score\"])\n",
    "    test_accuracy.append(output[i][1][\"test_score\"])\n",
    "    f1_score_recalled.append(output[i][1]['f1_score_recalled'])\n",
    "    f1_score_imagined.append(output[i][1]['f1_score_Imagined'])\n",
    "    f1_score_weighted.append(output[i][1]['f1_score_weighted'])\n",
    "\n",
    "import matplotlib.pyplot as plt\n",
    "\n",
    "x_axis = [x for x in range(1, len(sorted_out) + 1)]\n",
    "# plt.plot(x_axis, train_accuracy, \"o-\", color=\"b\", label=\"Train Accuracy\")\n",
    "plt.plot(x_axis, test_accuracy, \"o-\", color=\"r\", label=\"Test Accuracy\")\n",
    "plt.plot(x_axis, f1_score_weighted, \"o-\", color=\"g\", label=\"Weighted F1-score\")\n",
    "# plt.plot(x_axis, f1_score_imagined, \"o-\", color=\"b\", label=\"Imagined F1-score\")\n",
    "\n",
    "plt.ylabel('Metric Score')\n",
    "plt.xlabel('Top-n Features')\n",
    "plt.legend()\n",
    "plt.show()\n",
    "\n"
   ],
   "metadata": {
    "collapsed": false
   }
  },
  {
   "cell_type": "code",
   "execution_count": 12,
   "outputs": [
    {
     "data": {
      "text/plain": "(['sequentiality'],\n {'train_score': 0.7369015356820234,\n  'test_score': 0.5772357723577236,\n  'f1_score_recalled': 0.5706422018348624,\n  'f1_score_Imagined': 0.5836298932384341,\n  'f1_score_weighted': 0.5773765603404181})"
     },
     "execution_count": 12,
     "metadata": {},
     "output_type": "execute_result"
    }
   ],
   "source": [
    "sorted_out[-1][0]"
   ],
   "metadata": {
    "collapsed": false
   }
  },
  {
   "cell_type": "code",
   "execution_count": 73,
   "outputs": [
    {
     "data": {
      "text/plain": "[(['sequentiality'],\n  {'train_score': 0.7369015356820234,\n   'test_score': 0.5772357723577236,\n   'f1_score_recalled': 0.5706422018348624,\n   'f1_score_Imagined': 0.5836298932384341,\n   'f1_score_weighted': 0.5773765603404181}),\n (['sequentiality', 'discrepancy'],\n  {'train_score': 0.8150406504065041,\n   'test_score': 0.5907859078590786,\n   'f1_score_recalled': 0.5966162065894923,\n   'f1_score_Imagined': 0.5847846012832263,\n   'f1_score_weighted': 0.5908340038156079}),\n (['sequentiality', 'number', 'discrepancy', 'sentence_length'],\n  {'train_score': 0.916892502258356,\n   'test_score': 0.6070460704607046,\n   'f1_score_recalled': 0.6126447016918968,\n   'f1_score_Imagined': 0.6012832263978002,\n   'f1_score_weighted': 0.6070922553196237}),\n (['sequentiality',\n   'wordcount',\n   'number',\n   'discrepancy',\n   'certitude',\n   'sentence_length'],\n  {'train_score': 0.9369918699186992,\n   'test_score': 0.6070460704607046,\n   'f1_score_recalled': 0.6147032772364924,\n   'f1_score_Imagined': 0.5990783410138248,\n   'f1_score_weighted': 0.607151930462213}),\n (['sequentiality',\n   'wordcount',\n   'Tone',\n   'wordsPerSentence',\n   'number',\n   'insight',\n   'discrepancy',\n   'certitude',\n   'sentence_length'],\n  {'train_score': 0.973803071364047,\n   'test_score': 0.6151761517615176,\n   'f1_score_recalled': 0.6289198606271778,\n   'f1_score_Imagined': 0.6003752345215759,\n   'f1_score_weighted': 0.615614506453293}),\n (['sequentiality', 'wordcount', 'number', 'discrepancy', 'sentence_length'],\n  {'train_score': 0.9317976513098465,\n   'test_score': 0.6178861788617886,\n   'f1_score_recalled': 0.621307072515667,\n   'f1_score_Imagined': 0.6144029170464904,\n   'f1_score_weighted': 0.6178955340860016}),\n (['sequentiality',\n   'wordcount',\n   'Analytic',\n   'Authentic',\n   'Tone',\n   'wordsPerSentence',\n   'BigWords',\n   'function',\n   'number',\n   'conjunction',\n   'negation',\n   'cognitiveProcess',\n   'insight',\n   'discrepancy',\n   'tentative',\n   'certitude',\n   'differentiation',\n   'motion',\n   'space',\n   'time',\n   'pastfocus',\n   'presentfocus',\n   'sentence_length'],\n  {'train_score': 1.0,\n   'test_score': 0.6178861788617886,\n   'f1_score_recalled': 0.6246672582076309,\n   'f1_score_Imagined': 0.610855565777369,\n   'f1_score_weighted': 0.6179672773268263}),\n (['sequentiality', 'discrepancy', 'sentence_length'],\n  {'train_score': 0.8762420957542909,\n   'test_score': 0.6196928635953026,\n   'f1_score_recalled': 0.630377524143986,\n   'f1_score_Imagined': 0.6083720930232558,\n   'f1_score_weighted': 0.6199413440731789}),\n (['sequentiality',\n   'wordcount',\n   'Authentic',\n   'Tone',\n   'wordsPerSentence',\n   'BigWords',\n   'number',\n   'conjunction',\n   'cognitiveProcess',\n   'insight',\n   'discrepancy',\n   'certitude',\n   'sentence_length'],\n  {'train_score': 0.995483288166215,\n   'test_score': 0.6224028906955736,\n   'f1_score_recalled': 0.6320422535211266,\n   'f1_score_Imagined': 0.6122448979591836,\n   'f1_score_weighted': 0.6225996123858909}),\n (['sequentiality',\n   'wordcount',\n   'Authentic',\n   'Tone',\n   'wordsPerSentence',\n   'number',\n   'cognitiveProcess',\n   'insight',\n   'discrepancy',\n   'certitude',\n   'sentence_length'],\n  {'train_score': 0.9887082204155375,\n   'test_score': 0.6278229448961157,\n   'f1_score_recalled': 0.6334519572953736,\n   'f1_score_Imagined': 0.6220183486238533,\n   'f1_score_weighted': 0.6278745872117052}),\n (['sequentiality',\n   'wordcount',\n   'Authentic',\n   'Tone',\n   'wordsPerSentence',\n   'BigWords',\n   'number',\n   'conjunction',\n   'negation',\n   'cognitiveProcess',\n   'insight',\n   'discrepancy',\n   'tentative',\n   'certitude',\n   'differentiation',\n   'pastfocus',\n   'sentence_length'],\n  {'train_score': 0.9959349593495935,\n   'test_score': 0.6296296296296297,\n   'f1_score_recalled': 0.6371681415929203,\n   'f1_score_Imagined': 0.6217712177121771,\n   'f1_score_weighted': 0.6297408991789034}),\n (['sequentiality',\n   'wordcount',\n   'Analytic',\n   'Authentic',\n   'Tone',\n   'wordsPerSentence',\n   'BigWords',\n   'function',\n   'number',\n   'conjunction',\n   'negation',\n   'cognitiveProcess',\n   'insight',\n   'discrepancy',\n   'tentative',\n   'certitude',\n   'differentiation',\n   'motion',\n   'time',\n   'pastfocus',\n   'presentfocus',\n   'sentence_length'],\n  {'train_score': 0.9995483288166215,\n   'test_score': 0.6296296296296297,\n   'f1_score_recalled': 0.637809187279152,\n   'f1_score_Imagined': 0.6210720887245841,\n   'f1_score_weighted': 0.6297657036016179}),\n (['sequentiality',\n   'wordcount',\n   'Analytic',\n   'Authentic',\n   'Tone',\n   'wordsPerSentence',\n   'BigWords',\n   'number',\n   'conjunction',\n   'negation',\n   'cognitiveProcess',\n   'insight',\n   'discrepancy',\n   'tentative',\n   'certitude',\n   'differentiation',\n   'time',\n   'pastfocus',\n   'presentfocus',\n   'sentence_length'],\n  {'train_score': 0.9988708220415538,\n   'test_score': 0.6305329719963866,\n   'f1_score_recalled': 0.637089618456078,\n   'f1_score_Imagined': 0.623735050597976,\n   'f1_score_weighted': 0.6306113863514702}),\n (['sequentiality',\n   'wordcount',\n   'Analytic',\n   'Clout',\n   'Authentic',\n   'Tone',\n   'wordsPerSentence',\n   'BigWords',\n   'function',\n   'article',\n   'number',\n   'preposition',\n   'conjunction',\n   'negation',\n   'cognitiveProcess',\n   'insight',\n   'discrepancy',\n   'tentative',\n   'certitude',\n   'differentiation',\n   'motion',\n   'space',\n   'time',\n   'pastfocus',\n   'presentfocus',\n   'sentence_length',\n   'realis_score',\n   'concretenes_score'],\n  {'train_score': 1.0,\n   'test_score': 0.6305329719963866,\n   'f1_score_recalled': 0.637089618456078,\n   'f1_score_Imagined': 0.623735050597976,\n   'f1_score_weighted': 0.6306113863514702}),\n (['sequentiality',\n   'wordcount',\n   'Analytic',\n   'Authentic',\n   'Tone',\n   'wordsPerSentence',\n   'BigWords',\n   'number',\n   'conjunction',\n   'negation',\n   'cognitiveProcess',\n   'insight',\n   'discrepancy',\n   'tentative',\n   'certitude',\n   'differentiation',\n   'pastfocus',\n   'sentence_length'],\n  {'train_score': 0.9975158084914183,\n   'test_score': 0.6323396567299007,\n   'f1_score_recalled': 0.6369313113291705,\n   'f1_score_Imagined': 0.6276303751143641,\n   'f1_score_weighted': 0.6323690634839674}),\n (['sequentiality',\n   'wordcount',\n   'Analytic',\n   'Clout',\n   'Authentic',\n   'Tone',\n   'wordsPerSentence',\n   'BigWords',\n   'function',\n   'article',\n   'number',\n   'conjunction',\n   'negation',\n   'cognitiveProcess',\n   'insight',\n   'discrepancy',\n   'tentative',\n   'certitude',\n   'differentiation',\n   'motion',\n   'space',\n   'time',\n   'pastfocus',\n   'presentfocus',\n   'sentence_length',\n   'realis_score',\n   'concretenes_score'],\n  {'train_score': 1.0,\n   'test_score': 0.6323396567299007,\n   'f1_score_recalled': 0.6349775784753363,\n   'f1_score_Imagined': 0.629663330300273,\n   'f1_score_weighted': 0.6323420570226627}),\n (['sequentiality',\n   'wordcount',\n   'number',\n   'insight',\n   'discrepancy',\n   'certitude',\n   'sentence_length'],\n  {'train_score': 0.9586720867208672,\n   'test_score': 0.6350496838301717,\n   'f1_score_recalled': 0.6456140350877193,\n   'f1_score_Imagined': 0.6238361266294227,\n   'f1_score_weighted': 0.6353054316259782}),\n (['sequentiality',\n   'wordcount',\n   'Analytic',\n   'Authentic',\n   'Tone',\n   'wordsPerSentence',\n   'BigWords',\n   'function',\n   'number',\n   'conjunction',\n   'negation',\n   'cognitiveProcess',\n   'insight',\n   'discrepancy',\n   'tentative',\n   'certitude',\n   'differentiation',\n   'motion',\n   'space',\n   'time',\n   'pastfocus',\n   'presentfocus',\n   'sentence_length',\n   'realis_score'],\n  {'train_score': 0.9997741644083108,\n   'test_score': 0.6377597109304426,\n   'f1_score_recalled': 0.6473175021987688,\n   'f1_score_Imagined': 0.627669452181987,\n   'f1_score_weighted': 0.6379638234644924}),\n (['sequentiality',\n   'wordcount',\n   'Authentic',\n   'Tone',\n   'wordsPerSentence',\n   'number',\n   'conjunction',\n   'cognitiveProcess',\n   'insight',\n   'discrepancy',\n   'certitude',\n   'sentence_length'],\n  {'train_score': 0.9880307136404698,\n   'test_score': 0.6422764227642277,\n   'f1_score_recalled': 0.6532399299474606,\n   'f1_score_Imagined': 0.6305970149253732,\n   'f1_score_weighted': 0.6425627830264763}),\n (['sequentiality',\n   'wordcount',\n   'Analytic',\n   'Authentic',\n   'Tone',\n   'wordsPerSentence',\n   'BigWords',\n   'number',\n   'conjunction',\n   'negation',\n   'cognitiveProcess',\n   'insight',\n   'discrepancy',\n   'tentative',\n   'certitude',\n   'differentiation',\n   'pastfocus',\n   'presentfocus',\n   'sentence_length'],\n  {'train_score': 0.999096657633243,\n   'test_score': 0.6422764227642277,\n   'f1_score_recalled': 0.6501766784452296,\n   'f1_score_Imagined': 0.6340110905730129,\n   'f1_score_weighted': 0.6424078503079041}),\n (['sequentiality',\n   'wordcount',\n   'Analytic',\n   'Authentic',\n   'Tone',\n   'wordsPerSentence',\n   'BigWords',\n   'function',\n   'article',\n   'number',\n   'conjunction',\n   'negation',\n   'cognitiveProcess',\n   'insight',\n   'discrepancy',\n   'tentative',\n   'certitude',\n   'differentiation',\n   'motion',\n   'space',\n   'time',\n   'pastfocus',\n   'presentfocus',\n   'sentence_length',\n   'realis_score'],\n  {'train_score': 1.0,\n   'test_score': 0.6422764227642277,\n   'f1_score_recalled': 0.6495575221238937,\n   'f1_score_Imagined': 0.6346863468634687,\n   'f1_score_weighted': 0.6423838928654774}),\n (['sequentiality',\n   'wordcount',\n   'Authentic',\n   'Tone',\n   'wordsPerSentence',\n   'BigWords',\n   'number',\n   'conjunction',\n   'negation',\n   'cognitiveProcess',\n   'insight',\n   'discrepancy',\n   'tentative',\n   'certitude',\n   'sentence_length'],\n  {'train_score': 0.996386630532972,\n   'test_score': 0.6431797651309846,\n   'f1_score_recalled': 0.6519823788546255,\n   'f1_score_Imagined': 0.6339202965708989,\n   'f1_score_weighted': 0.6433510856946514}),\n (['sequentiality',\n   'wordcount',\n   'Analytic',\n   'Authentic',\n   'Tone',\n   'wordsPerSentence',\n   'BigWords',\n   'function',\n   'number',\n   'conjunction',\n   'negation',\n   'cognitiveProcess',\n   'insight',\n   'discrepancy',\n   'tentative',\n   'certitude',\n   'differentiation',\n   'time',\n   'pastfocus',\n   'presentfocus',\n   'sentence_length'],\n  {'train_score': 0.9977416440831075,\n   'test_score': 0.6449864498644986,\n   'f1_score_recalled': 0.6555652936021034,\n   'f1_score_Imagined': 0.6337371854613234,\n   'f1_score_weighted': 0.6452526463052398}),\n (['sequentiality',\n   'wordcount',\n   'wordsPerSentence',\n   'number',\n   'insight',\n   'discrepancy',\n   'certitude',\n   'sentence_length'],\n  {'train_score': 0.960252935862692,\n   'test_score': 0.6458897922312556,\n   'f1_score_recalled': 0.6579406631762653,\n   'f1_score_Imagined': 0.6329588014981273,\n   'f1_score_weighted': 0.6462508670161249}),\n (['sequentiality',\n   'wordcount',\n   'Authentic',\n   'Tone',\n   'wordsPerSentence',\n   'BigWords',\n   'number',\n   'conjunction',\n   'cognitiveProcess',\n   'insight',\n   'discrepancy',\n   'tentative',\n   'certitude',\n   'sentence_length'],\n  {'train_score': 0.9968383017163505,\n   'test_score': 0.6467931345980127,\n   'f1_score_recalled': 0.657917760279965,\n   'f1_score_Imagined': 0.634920634920635,\n   'f1_score_weighted': 0.6470943616239478}),\n (['sequentiality',\n   'wordcount',\n   'Tone',\n   'wordsPerSentence',\n   'number',\n   'cognitiveProcess',\n   'insight',\n   'discrepancy',\n   'certitude',\n   'sentence_length'],\n  {'train_score': 0.9814814814814815,\n   'test_score': 0.6504065040650406,\n   'f1_score_recalled': 0.6584289496910856,\n   'f1_score_Imagined': 0.6419981498612396,\n   'f1_score_weighted': 0.6505475091222978}),\n (['sequentiality',\n   'wordcount',\n   'Authentic',\n   'Tone',\n   'wordsPerSentence',\n   'BigWords',\n   'number',\n   'conjunction',\n   'negation',\n   'cognitiveProcess',\n   'insight',\n   'discrepancy',\n   'tentative',\n   'certitude',\n   'differentiation',\n   'sentence_length'],\n  {'train_score': 0.9975158084914183,\n   'test_score': 0.6504065040650406,\n   'f1_score_recalled': 0.6578249336870026,\n   'f1_score_Imagined': 0.6426592797783934,\n   'f1_score_weighted': 0.6505229521754501}),\n (['sequentiality',\n   'wordcount',\n   'Analytic',\n   'Clout',\n   'Authentic',\n   'Tone',\n   'wordsPerSentence',\n   'BigWords',\n   'function',\n   'article',\n   'number',\n   'conjunction',\n   'negation',\n   'cognitiveProcess',\n   'insight',\n   'discrepancy',\n   'tentative',\n   'certitude',\n   'differentiation',\n   'motion',\n   'space',\n   'time',\n   'pastfocus',\n   'presentfocus',\n   'sentence_length',\n   'realis_score'],\n  {'train_score': 1.0,\n   'test_score': 0.6621499548328816,\n   'f1_score_recalled': 0.6701940035273368,\n   'f1_score_Imagined': 0.6537037037037037,\n   'f1_score_weighted': 0.6622989186975938})]"
     },
     "execution_count": 73,
     "metadata": {},
     "output_type": "execute_result"
    }
   ],
   "source": [
    "sorted_out"
   ],
   "metadata": {
    "collapsed": false
   }
  }
 ],
 "metadata": {
  "kernelspec": {
   "display_name": "Python 3",
   "language": "python",
   "name": "python3"
  },
  "language_info": {
   "codemirror_mode": {
    "name": "ipython",
    "version": 2
   },
   "file_extension": ".py",
   "mimetype": "text/x-python",
   "name": "python",
   "nbconvert_exporter": "python",
   "pygments_lexer": "ipython2",
   "version": "2.7.6"
  }
 },
 "nbformat": 4,
 "nbformat_minor": 0
}
